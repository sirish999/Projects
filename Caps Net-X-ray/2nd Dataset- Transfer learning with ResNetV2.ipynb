{
 "cells": [
  {
   "cell_type": "code",
   "execution_count": 1,
   "metadata": {
    "colab": {
     "base_uri": "https://localhost:8080/",
     "height": 138
    },
    "colab_type": "code",
    "id": "Oh82tyjryD97",
    "outputId": "cd949933-2240-4f7c-d495-41755d5592f6"
   },
   "outputs": [
    {
     "name": "stdout",
     "output_type": "stream",
     "text": [
      "Go to this URL in a browser: https://accounts.google.com/o/oauth2/auth?client_id=947318989803-6bn6qk8qdgf4n4g3pfee6491hc0brc4i.apps.googleusercontent.com&redirect_uri=urn%3aietf%3awg%3aoauth%3a2.0%3aoob&response_type=code&scope=email%20https%3a%2f%2fwww.googleapis.com%2fauth%2fdocs.test%20https%3a%2f%2fwww.googleapis.com%2fauth%2fdrive%20https%3a%2f%2fwww.googleapis.com%2fauth%2fdrive.photos.readonly%20https%3a%2f%2fwww.googleapis.com%2fauth%2fpeopleapi.readonly\n",
      "\n",
      "Enter your authorization code:\n",
      "··········\n",
      "Mounted at /gdrive\n",
      "/gdrive\n"
     ]
    }
   ],
   "source": [
    "from google.colab import drive\n",
    "drive.mount('/gdrive')\n",
    "%cd /gdrive"
   ]
  },
  {
   "cell_type": "code",
   "execution_count": 4,
   "metadata": {
    "colab": {
     "base_uri": "https://localhost:8080/",
     "height": 34
    },
    "colab_type": "code",
    "id": "QA45v7a4zSho",
    "outputId": "fb294250-2776-4a23-e63c-55f0c2c17bc9"
   },
   "outputs": [
    {
     "data": {
      "text/plain": [
       "'/device:GPU:0'"
      ]
     },
     "execution_count": 4,
     "metadata": {
      "tags": []
     },
     "output_type": "execute_result"
    }
   ],
   "source": [
    "import tensorflow as tf\n",
    "import numpy as np\n",
    "tf.__version__\n",
    "tf.test.gpu_device_name()"
   ]
  },
  {
   "cell_type": "code",
   "execution_count": 5,
   "metadata": {
    "colab": {
     "base_uri": "https://localhost:8080/",
     "height": 286
    },
    "colab_type": "code",
    "id": "VwVsQqm5yMNk",
    "outputId": "96e0bd2d-f2d7-46e1-ccb6-3f6faec03217"
   },
   "outputs": [
    {
     "name": "stdout",
     "output_type": "stream",
     "text": [
      "Fri Apr 24 20:08:28 2020       \n",
      "+-----------------------------------------------------------------------------+\n",
      "| NVIDIA-SMI 440.64.00    Driver Version: 418.67       CUDA Version: 10.1     |\n",
      "|-------------------------------+----------------------+----------------------+\n",
      "| GPU  Name        Persistence-M| Bus-Id        Disp.A | Volatile Uncorr. ECC |\n",
      "| Fan  Temp  Perf  Pwr:Usage/Cap|         Memory-Usage | GPU-Util  Compute M. |\n",
      "|===============================+======================+======================|\n",
      "|   0  Tesla P100-PCIE...  Off  | 00000000:00:04.0 Off |                    0 |\n",
      "| N/A   46C    P0    35W / 250W |    353MiB / 16280MiB |      0%      Default |\n",
      "+-------------------------------+----------------------+----------------------+\n",
      "                                                                               \n",
      "+-----------------------------------------------------------------------------+\n",
      "| Processes:                                                       GPU Memory |\n",
      "|  GPU       PID   Type   Process name                             Usage      |\n",
      "|=============================================================================|\n",
      "+-----------------------------------------------------------------------------+\n"
     ]
    }
   ],
   "source": [
    "gpu_info = !nvidia-smi\n",
    "gpu_info = '\\n'.join(gpu_info)\n",
    "if gpu_info.find('failed') >= 0:\n",
    "  print('Select the Runtime → \"Change runtime type\" menu to enable a GPU accelerator, ')\n",
    "  print('and then re-execute this cell.')\n",
    "else:\n",
    "  print(gpu_info)"
   ]
  },
  {
   "cell_type": "code",
   "execution_count": null,
   "metadata": {
    "colab": {},
    "colab_type": "code",
    "id": "Yx-Is-PiyMTN"
   },
   "outputs": [],
   "source": [
    "from tensorflow.keras.preprocessing.image import ImageDataGenerator\n",
    "from tensorflow.keras.applications import VGG16\n",
    "from tensorflow.keras.applications.resnet_v2 import ResNet152V2\n",
    "from tensorflow.keras.layers import AveragePooling2D\n",
    "from tensorflow.keras.layers import Dropout\n",
    "from tensorflow.keras.layers import Flatten\n",
    "from tensorflow.keras.layers import Dense\n",
    "from tensorflow.keras.layers import Input\n",
    "from tensorflow.keras.models import Model\n",
    "from tensorflow.keras.optimizers import Adam\n",
    "from tensorflow.keras.utils import to_categorical\n",
    "from sklearn.preprocessing import LabelBinarizer\n",
    "from sklearn.model_selection import train_test_split\n",
    "from sklearn.metrics import classification_report\n",
    "from sklearn.metrics import confusion_matrix\n",
    "from imutils import paths\n",
    "import matplotlib.pyplot as plt\n",
    "import numpy as np\n",
    "import argparse\n",
    "import cv2\n",
    "import os"
   ]
  },
  {
   "cell_type": "code",
   "execution_count": 7,
   "metadata": {
    "colab": {
     "base_uri": "https://localhost:8080/",
     "height": 34
    },
    "colab_type": "code",
    "id": "fBzThnz-yMYC",
    "outputId": "045d5024-3a42-43bf-c809-7aca398ab8e6"
   },
   "outputs": [
    {
     "name": "stderr",
     "output_type": "stream",
     "text": [
      "Using TensorFlow backend.\n"
     ]
    }
   ],
   "source": [
    "from keras.preprocessing.image import ImageDataGenerator\n",
    "from keras.preprocessing.image import img_to_array\n",
    "from keras.preprocessing.image import load_img\n",
    "import numpy as np\n",
    "import argparse\n",
    "import cv2\n",
    "import os\n",
    "from imutils import paths"
   ]
  },
  {
   "cell_type": "code",
   "execution_count": null,
   "metadata": {
    "colab": {},
    "colab_type": "code",
    "id": "o6Ll4mOoyMgD"
   },
   "outputs": [],
   "source": []
  },
  {
   "cell_type": "code",
   "execution_count": null,
   "metadata": {
    "colab": {},
    "colab_type": "code",
    "id": "rFNOjeEpFScV"
   },
   "outputs": [],
   "source": [
    "x_train=np.load('My Drive/Colab Notebooks/215-FP_Dataset/numpy5/x_train.npy')"
   ]
  },
  {
   "cell_type": "code",
   "execution_count": null,
   "metadata": {
    "colab": {},
    "colab_type": "code",
    "id": "zNPD_4jlFSeU"
   },
   "outputs": [],
   "source": [
    "y_train=np.load('My Drive/Colab Notebooks/215-FP_Dataset/numpy5/y_train.npy')"
   ]
  },
  {
   "cell_type": "code",
   "execution_count": null,
   "metadata": {
    "colab": {},
    "colab_type": "code",
    "id": "yIfIyOm7Fpk4"
   },
   "outputs": [],
   "source": [
    "x_valid=np.load('My Drive/Colab Notebooks/215-FP_Dataset/numpy5/x_valid.npy')"
   ]
  },
  {
   "cell_type": "code",
   "execution_count": null,
   "metadata": {
    "colab": {},
    "colab_type": "code",
    "id": "Q3L73xF2Fpn7"
   },
   "outputs": [],
   "source": [
    "y_valid=np.load('My Drive/Colab Notebooks/215-FP_Dataset/numpy5/y_valid.npy')"
   ]
  },
  {
   "cell_type": "code",
   "execution_count": null,
   "metadata": {
    "colab": {},
    "colab_type": "code",
    "id": "2kc5D5wwyMod"
   },
   "outputs": [],
   "source": []
  },
  {
   "cell_type": "code",
   "execution_count": 12,
   "metadata": {
    "colab": {
     "base_uri": "https://localhost:8080/",
     "height": 134
    },
    "colab_type": "code",
    "id": "eDrsmyv0gR0q",
    "outputId": "cf399190-5cc6-4e48-dd89-07b1bed371d4"
   },
   "outputs": [
    {
     "data": {
      "text/plain": [
       "array([[1., 0.],\n",
       "       [1., 0.],\n",
       "       [1., 0.],\n",
       "       ...,\n",
       "       [1., 0.],\n",
       "       [1., 0.],\n",
       "       [1., 0.]])"
      ]
     },
     "execution_count": 12,
     "metadata": {
      "tags": []
     },
     "output_type": "execute_result"
    }
   ],
   "source": [
    "y_valid"
   ]
  },
  {
   "cell_type": "code",
   "execution_count": null,
   "metadata": {
    "colab": {},
    "colab_type": "code",
    "id": "p6scMvyaqW0D"
   },
   "outputs": [],
   "source": [
    "y_train2=y_train\n",
    "y_valid2=y_valid"
   ]
  },
  {
   "cell_type": "code",
   "execution_count": null,
   "metadata": {
    "colab": {},
    "colab_type": "code",
    "id": "5vS8vqncqW5M"
   },
   "outputs": [],
   "source": [
    "y_train2=np.argmax(y_train,axis=1)\n",
    "y_valid2=np.argmax(y_valid,axis=1)"
   ]
  },
  {
   "cell_type": "code",
   "execution_count": 16,
   "metadata": {
    "colab": {
     "base_uri": "https://localhost:8080/",
     "height": 67
    },
    "colab_type": "code",
    "id": "jFOHImzgqo0_",
    "outputId": "b5dcea00-0bc2-46a6-9361-b482d05abe8f"
   },
   "outputs": [
    {
     "data": {
      "text/plain": [
       "array([0, 0, 0, 0, 1, 0, 0, 0, 0, 1, 1, 0, 0, 0, 0, 0, 0, 0, 0, 0, 0, 0,\n",
       "       0, 0, 0, 0, 1, 0, 0, 0, 0, 1, 1, 0, 0, 0, 0, 1, 0, 1, 0, 0, 1, 0,\n",
       "       1, 1, 0, 1, 1, 1])"
      ]
     },
     "execution_count": 16,
     "metadata": {
      "tags": []
     },
     "output_type": "execute_result"
    }
   ],
   "source": [
    "y_train2[:50]"
   ]
  },
  {
   "cell_type": "code",
   "execution_count": 17,
   "metadata": {
    "colab": {
     "base_uri": "https://localhost:8080/",
     "height": 67
    },
    "colab_type": "code",
    "id": "JfcJbz1VqW88",
    "outputId": "afeb40b6-b4db-4322-dc83-f73692c2cae0"
   },
   "outputs": [
    {
     "data": {
      "text/plain": [
       "array([0, 0, 0, 1, 0, 0, 0, 1, 0, 0, 0, 0, 1, 0, 0, 0, 0, 0, 0, 1, 1, 0,\n",
       "       0, 0, 1, 0, 0, 1, 0, 1, 0, 0, 1, 0, 0, 0, 0, 0, 0, 0, 1, 0, 0, 0,\n",
       "       0, 0, 1, 0, 1, 1])"
      ]
     },
     "execution_count": 17,
     "metadata": {
      "tags": []
     },
     "output_type": "execute_result"
    }
   ],
   "source": [
    "y_valid2[:50]"
   ]
  },
  {
   "cell_type": "code",
   "execution_count": 18,
   "metadata": {
    "colab": {
     "base_uri": "https://localhost:8080/",
     "height": 34
    },
    "colab_type": "code",
    "id": "ukIgXTzmFkhj",
    "outputId": "b795f10f-a9a5-4091-9901-2098b43a2586"
   },
   "outputs": [
    {
     "data": {
      "text/plain": [
       "1019"
      ]
     },
     "execution_count": 18,
     "metadata": {
      "tags": []
     },
     "output_type": "execute_result"
    }
   ],
   "source": [
    "summation1=0\n",
    "for i in range(len(x_valid)):\n",
    "    if y_valid2[i]==0:\n",
    "        summation1=summation1+1\n",
    "summation1"
   ]
  },
  {
   "cell_type": "code",
   "execution_count": 19,
   "metadata": {
    "colab": {
     "base_uri": "https://localhost:8080/",
     "height": 34
    },
    "colab_type": "code",
    "id": "2nOSlRX2Fkkt",
    "outputId": "9c093feb-6dde-4636-9950-5a7b73e20246"
   },
   "outputs": [
    {
     "data": {
      "text/plain": [
       "4074"
      ]
     },
     "execution_count": 19,
     "metadata": {
      "tags": []
     },
     "output_type": "execute_result"
    }
   ],
   "source": [
    "summation2=0\n",
    "for i in range(len(x_train)):\n",
    "    if y_train2[i]==0:\n",
    "        summation2=summation2+1\n",
    "summation2"
   ]
  },
  {
   "cell_type": "code",
   "execution_count": null,
   "metadata": {
    "colab": {},
    "colab_type": "code",
    "id": "IB53fiPiFSpM"
   },
   "outputs": [],
   "source": [
    "#y_train=y_train2\n",
    "y_train=((y_train)/255.).astype('float16')"
   ]
  },
  {
   "cell_type": "code",
   "execution_count": null,
   "metadata": {
    "colab": {},
    "colab_type": "code",
    "id": "E6sIxxvbFSsY"
   },
   "outputs": [],
   "source": [
    "#y_valid=y_valid2\n",
    "y_valid=((y_valid)/255.).astype('float16')"
   ]
  },
  {
   "cell_type": "code",
   "execution_count": null,
   "metadata": {
    "colab": {},
    "colab_type": "code",
    "id": "v_cs2BLry1jP"
   },
   "outputs": [],
   "source": [
    "INIT_LR = 1e-3\n",
    "EPOCHS = 100\n",
    "BS = 128"
   ]
  },
  {
   "cell_type": "code",
   "execution_count": null,
   "metadata": {
    "colab": {},
    "colab_type": "code",
    "id": "wGkHIlpc1c6E"
   },
   "outputs": [],
   "source": [
    "trainX=x_train\n",
    "trainY=y_train\n",
    "testX=x_valid\n",
    "testY=y_valid"
   ]
  },
  {
   "cell_type": "code",
   "execution_count": null,
   "metadata": {
    "colab": {},
    "colab_type": "code",
    "id": "cmm5jLeNyMm1"
   },
   "outputs": [],
   "source": [
    "\n",
    "# initialize the training data augmentation object\n",
    "trainAug = ImageDataGenerator(\n",
    "\trotation_range=15,\n",
    "\tfill_mode=\"nearest\")\n",
    "\n",
    "# load the VGG16 network, ensuring the head FC layer sets are left\n",
    "# off\n",
    "baseModel = ResNet152V2(weights=\"imagenet\", include_top=False,\n",
    "\tinput_tensor=Input(shape=(128, 128, 3)))"
   ]
  },
  {
   "cell_type": "code",
   "execution_count": null,
   "metadata": {
    "colab": {},
    "colab_type": "code",
    "id": "YqGuQuSmyMjP"
   },
   "outputs": [],
   "source": [
    "headModel = baseModel.output\n",
    "headModel = AveragePooling2D(pool_size=(4, 4))(headModel)\n",
    "headModel = Flatten(name=\"flatten\")(headModel)\n",
    "headModel = Dense(64, activation=\"relu\")(headModel)\n",
    "headModel = Dropout(0.5)(headModel)\n",
    "headModel = Dense(2, activation=\"softmax\")(headModel)\n",
    "\n",
    "# place the head FC model on top of the base model (this will become\n",
    "# the actual model we will train)\n",
    "model = Model(inputs=baseModel.input, outputs=headModel)\n",
    "\n",
    "# loop over all layers in the base model and freeze them so they will\n",
    "# *not* be updated during the first training process\n",
    "for layer in baseModel.layers:\n",
    "\tlayer.trainable = False"
   ]
  },
  {
   "cell_type": "code",
   "execution_count": 37,
   "metadata": {
    "colab": {
     "base_uri": "https://localhost:8080/",
     "height": 1000
    },
    "colab_type": "code",
    "id": "KF7ulmyIyMdN",
    "outputId": "8553cfca-d8c0-4a31-bb51-10986145032b"
   },
   "outputs": [
    {
     "name": "stdout",
     "output_type": "stream",
     "text": [
      "[INFO] compiling model...\n",
      "[INFO] training head...\n",
      "Epoch 1/100\n",
      "47/47 [==============================] - 27s 569ms/step - loss: 0.7581 - accuracy: 0.5449 - val_loss: 0.6932 - val_accuracy: 0.5753\n",
      "Epoch 2/100\n",
      "47/47 [==============================] - 24s 515ms/step - loss: 0.6933 - accuracy: 0.6112 - val_loss: 0.6932 - val_accuracy: 0.6311\n",
      "Epoch 3/100\n",
      "47/47 [==============================] - 24s 507ms/step - loss: 0.6932 - accuracy: 0.6295 - val_loss: 0.6932 - val_accuracy: 0.6423\n",
      "Epoch 4/100\n",
      "47/47 [==============================] - 24s 507ms/step - loss: 0.6932 - accuracy: 0.6500 - val_loss: 0.6932 - val_accuracy: 0.6523\n",
      "Epoch 5/100\n",
      "47/47 [==============================] - 24s 506ms/step - loss: 0.6932 - accuracy: 0.6508 - val_loss: 0.6932 - val_accuracy: 0.6530\n",
      "Epoch 6/100\n",
      "47/47 [==============================] - 24s 506ms/step - loss: 0.6932 - accuracy: 0.6651 - val_loss: 0.6932 - val_accuracy: 0.6549\n",
      "Epoch 7/100\n",
      "47/47 [==============================] - 24s 504ms/step - loss: 0.6932 - accuracy: 0.6554 - val_loss: 0.6932 - val_accuracy: 0.6583\n",
      "Epoch 8/100\n",
      "47/47 [==============================] - 24s 507ms/step - loss: 0.6932 - accuracy: 0.6575 - val_loss: 0.6932 - val_accuracy: 0.6583\n",
      "Epoch 9/100\n",
      "47/47 [==============================] - 24s 513ms/step - loss: 0.6932 - accuracy: 0.6614 - val_loss: 0.6932 - val_accuracy: 0.6589\n",
      "Epoch 10/100\n",
      "47/47 [==============================] - 24s 510ms/step - loss: 0.6932 - accuracy: 0.6700 - val_loss: 0.6932 - val_accuracy: 0.6596\n",
      "Epoch 11/100\n",
      "47/47 [==============================] - 24s 508ms/step - loss: 0.6932 - accuracy: 0.6612 - val_loss: 0.6932 - val_accuracy: 0.6629\n",
      "Epoch 12/100\n",
      "47/47 [==============================] - 24s 505ms/step - loss: 0.6932 - accuracy: 0.6666 - val_loss: 0.6932 - val_accuracy: 0.6642\n",
      "Epoch 13/100\n",
      "47/47 [==============================] - 24s 515ms/step - loss: 0.6932 - accuracy: 0.6637 - val_loss: 0.6932 - val_accuracy: 0.6662\n",
      "Epoch 14/100\n",
      "47/47 [==============================] - 24s 508ms/step - loss: 0.6932 - accuracy: 0.6668 - val_loss: 0.6932 - val_accuracy: 0.6669\n",
      "Epoch 15/100\n",
      "47/47 [==============================] - 24s 503ms/step - loss: 0.6932 - accuracy: 0.6703 - val_loss: 0.6932 - val_accuracy: 0.6669\n",
      "Epoch 16/100\n",
      "47/47 [==============================] - 24s 517ms/step - loss: 0.6932 - accuracy: 0.6734 - val_loss: 0.6932 - val_accuracy: 0.6682\n",
      "Epoch 17/100\n",
      "47/47 [==============================] - 24s 507ms/step - loss: 0.6932 - accuracy: 0.6695 - val_loss: 0.6932 - val_accuracy: 0.6689\n",
      "Epoch 18/100\n",
      "47/47 [==============================] - 24s 509ms/step - loss: 0.6932 - accuracy: 0.6632 - val_loss: 0.6932 - val_accuracy: 0.6695\n",
      "Epoch 19/100\n",
      "47/47 [==============================] - 24s 507ms/step - loss: 0.6932 - accuracy: 0.6785 - val_loss: 0.6932 - val_accuracy: 0.6702\n",
      "Epoch 20/100\n",
      "47/47 [==============================] - 24s 507ms/step - loss: 0.6932 - accuracy: 0.6676 - val_loss: 0.6932 - val_accuracy: 0.6702\n",
      "Epoch 21/100\n",
      "47/47 [==============================] - 24s 503ms/step - loss: 0.6931 - accuracy: 0.6761 - val_loss: 0.6932 - val_accuracy: 0.6709\n",
      "Epoch 22/100\n",
      "47/47 [==============================] - 24s 504ms/step - loss: 0.6931 - accuracy: 0.6693 - val_loss: 0.6932 - val_accuracy: 0.6709\n",
      "Epoch 23/100\n",
      "47/47 [==============================] - 24s 507ms/step - loss: 0.6932 - accuracy: 0.6751 - val_loss: 0.6932 - val_accuracy: 0.6715\n",
      "Epoch 24/100\n",
      "47/47 [==============================] - 24s 504ms/step - loss: 0.6931 - accuracy: 0.6790 - val_loss: 0.6932 - val_accuracy: 0.6715\n",
      "Epoch 25/100\n",
      "47/47 [==============================] - 24s 507ms/step - loss: 0.6931 - accuracy: 0.6725 - val_loss: 0.6932 - val_accuracy: 0.6722\n",
      "Epoch 26/100\n",
      "47/47 [==============================] - 24s 507ms/step - loss: 0.6931 - accuracy: 0.6639 - val_loss: 0.6932 - val_accuracy: 0.6715\n",
      "Epoch 27/100\n",
      "47/47 [==============================] - 24s 508ms/step - loss: 0.6931 - accuracy: 0.6865 - val_loss: 0.6931 - val_accuracy: 0.6722\n",
      "Epoch 28/100\n",
      "47/47 [==============================] - 24s 503ms/step - loss: 0.6931 - accuracy: 0.6664 - val_loss: 0.6931 - val_accuracy: 0.6729\n",
      "Epoch 29/100\n",
      "47/47 [==============================] - 24s 516ms/step - loss: 0.6931 - accuracy: 0.6815 - val_loss: 0.6931 - val_accuracy: 0.6742\n",
      "Epoch 30/100\n",
      "47/47 [==============================] - 24s 507ms/step - loss: 0.6931 - accuracy: 0.6746 - val_loss: 0.6931 - val_accuracy: 0.6782\n",
      "Epoch 31/100\n",
      "47/47 [==============================] - 24s 508ms/step - loss: 0.6931 - accuracy: 0.6803 - val_loss: 0.6931 - val_accuracy: 0.6868\n",
      "Epoch 32/100\n",
      "47/47 [==============================] - 24s 509ms/step - loss: 0.6931 - accuracy: 0.6812 - val_loss: 0.6931 - val_accuracy: 0.6875\n",
      "Epoch 33/100\n",
      "47/47 [==============================] - 24s 505ms/step - loss: 0.6931 - accuracy: 0.6834 - val_loss: 0.6931 - val_accuracy: 0.6888\n",
      "Epoch 34/100\n",
      "47/47 [==============================] - 24s 506ms/step - loss: 0.6931 - accuracy: 0.6848 - val_loss: 0.6931 - val_accuracy: 0.6928\n",
      "Epoch 35/100\n",
      "47/47 [==============================] - 24s 514ms/step - loss: 0.6931 - accuracy: 0.6854 - val_loss: 0.6931 - val_accuracy: 0.7001\n",
      "Epoch 36/100\n",
      "47/47 [==============================] - 24s 502ms/step - loss: 0.6931 - accuracy: 0.6992 - val_loss: 0.6931 - val_accuracy: 0.7054\n",
      "Epoch 37/100\n",
      "47/47 [==============================] - 24s 509ms/step - loss: 0.6931 - accuracy: 0.6934 - val_loss: 0.6931 - val_accuracy: 0.7120\n",
      "Epoch 38/100\n",
      "47/47 [==============================] - 24s 508ms/step - loss: 0.6931 - accuracy: 0.7041 - val_loss: 0.6931 - val_accuracy: 0.7206\n",
      "Epoch 39/100\n",
      "47/47 [==============================] - 24s 506ms/step - loss: 0.6931 - accuracy: 0.7107 - val_loss: 0.6931 - val_accuracy: 0.7359\n",
      "Epoch 40/100\n",
      "47/47 [==============================] - 24s 502ms/step - loss: 0.6931 - accuracy: 0.7115 - val_loss: 0.6931 - val_accuracy: 0.7372\n",
      "Epoch 41/100\n",
      "47/47 [==============================] - 24s 511ms/step - loss: 0.6931 - accuracy: 0.7324 - val_loss: 0.6931 - val_accuracy: 0.7823\n",
      "Epoch 42/100\n",
      "47/47 [==============================] - 24s 502ms/step - loss: 0.6931 - accuracy: 0.7590 - val_loss: 0.6931 - val_accuracy: 0.7969\n",
      "Epoch 43/100\n",
      "47/47 [==============================] - 24s 501ms/step - loss: 0.6931 - accuracy: 0.7772 - val_loss: 0.6931 - val_accuracy: 0.8480\n",
      "Epoch 44/100\n",
      "47/47 [==============================] - 24s 501ms/step - loss: 0.6931 - accuracy: 0.7970 - val_loss: 0.6931 - val_accuracy: 0.8441\n",
      "Epoch 45/100\n",
      "47/47 [==============================] - 23s 498ms/step - loss: 0.6931 - accuracy: 0.8048 - val_loss: 0.6931 - val_accuracy: 0.8374\n",
      "Epoch 46/100\n",
      "47/47 [==============================] - 24s 506ms/step - loss: 0.6931 - accuracy: 0.8052 - val_loss: 0.6931 - val_accuracy: 0.8759\n",
      "Epoch 47/100\n",
      "47/47 [==============================] - 24s 511ms/step - loss: 0.6931 - accuracy: 0.8163 - val_loss: 0.6931 - val_accuracy: 0.8952\n",
      "Epoch 48/100\n",
      "47/47 [==============================] - 24s 504ms/step - loss: 0.6931 - accuracy: 0.8150 - val_loss: 0.6931 - val_accuracy: 0.8626\n",
      "Epoch 49/100\n",
      "47/47 [==============================] - 24s 513ms/step - loss: 0.6931 - accuracy: 0.8163 - val_loss: 0.6931 - val_accuracy: 0.8726\n",
      "Epoch 50/100\n",
      "47/47 [==============================] - 24s 505ms/step - loss: 0.6931 - accuracy: 0.8177 - val_loss: 0.6931 - val_accuracy: 0.8958\n",
      "Epoch 51/100\n",
      "47/47 [==============================] - 23s 492ms/step - loss: 0.6931 - accuracy: 0.8214 - val_loss: 0.6931 - val_accuracy: 0.8998\n",
      "Epoch 52/100\n",
      "47/47 [==============================] - 23s 494ms/step - loss: 0.6931 - accuracy: 0.8211 - val_loss: 0.6931 - val_accuracy: 0.8421\n",
      "Epoch 53/100\n",
      "47/47 [==============================] - 23s 497ms/step - loss: 0.6931 - accuracy: 0.8201 - val_loss: 0.6931 - val_accuracy: 0.8786\n",
      "Epoch 54/100\n",
      "47/47 [==============================] - 23s 489ms/step - loss: 0.6931 - accuracy: 0.8241 - val_loss: 0.6931 - val_accuracy: 0.9005\n",
      "Epoch 55/100\n",
      "47/47 [==============================] - 23s 495ms/step - loss: 0.6931 - accuracy: 0.8230 - val_loss: 0.6931 - val_accuracy: 0.8978\n",
      "Epoch 56/100\n",
      "47/47 [==============================] - 23s 498ms/step - loss: 0.6931 - accuracy: 0.8269 - val_loss: 0.6931 - val_accuracy: 0.8885\n",
      "Epoch 57/100\n",
      "47/47 [==============================] - 23s 496ms/step - loss: 0.6931 - accuracy: 0.8279 - val_loss: 0.6931 - val_accuracy: 0.9151\n",
      "Epoch 58/100\n",
      "47/47 [==============================] - 23s 492ms/step - loss: 0.6931 - accuracy: 0.8294 - val_loss: 0.6931 - val_accuracy: 0.9104\n",
      "Epoch 59/100\n",
      "47/47 [==============================] - 24s 502ms/step - loss: 0.6931 - accuracy: 0.8253 - val_loss: 0.6931 - val_accuracy: 0.9171\n",
      "Epoch 60/100\n",
      "47/47 [==============================] - 23s 492ms/step - loss: 0.6931 - accuracy: 0.8308 - val_loss: 0.6931 - val_accuracy: 0.9230\n",
      "Epoch 61/100\n",
      "47/47 [==============================] - 23s 496ms/step - loss: 0.6931 - accuracy: 0.8248 - val_loss: 0.6931 - val_accuracy: 0.9363\n",
      "Epoch 62/100\n",
      "47/47 [==============================] - 23s 496ms/step - loss: 0.6931 - accuracy: 0.8308 - val_loss: 0.6931 - val_accuracy: 0.9217\n",
      "Epoch 63/100\n",
      "47/47 [==============================] - 23s 500ms/step - loss: 0.6931 - accuracy: 0.8269 - val_loss: 0.6931 - val_accuracy: 0.8752\n",
      "Epoch 64/100\n",
      "47/47 [==============================] - 23s 499ms/step - loss: 0.6931 - accuracy: 0.8189 - val_loss: 0.6931 - val_accuracy: 0.9403\n",
      "Epoch 65/100\n",
      "47/47 [==============================] - 24s 503ms/step - loss: 0.6931 - accuracy: 0.8364 - val_loss: 0.6931 - val_accuracy: 0.9237\n",
      "Epoch 66/100\n",
      "47/47 [==============================] - 23s 494ms/step - loss: 0.6931 - accuracy: 0.8318 - val_loss: 0.6931 - val_accuracy: 0.9310\n",
      "Epoch 67/100\n",
      "47/47 [==============================] - 23s 495ms/step - loss: 0.6931 - accuracy: 0.8282 - val_loss: 0.6931 - val_accuracy: 0.8726\n",
      "Epoch 68/100\n",
      "47/47 [==============================] - 23s 498ms/step - loss: 0.6931 - accuracy: 0.8342 - val_loss: 0.6931 - val_accuracy: 0.9297\n",
      "Epoch 69/100\n",
      "47/47 [==============================] - 23s 497ms/step - loss: 0.6931 - accuracy: 0.8260 - val_loss: 0.6931 - val_accuracy: 0.9482\n",
      "Epoch 70/100\n",
      "47/47 [==============================] - 23s 489ms/step - loss: 0.6931 - accuracy: 0.8386 - val_loss: 0.6931 - val_accuracy: 0.8467\n",
      "Epoch 71/100\n",
      "47/47 [==============================] - 24s 506ms/step - loss: 0.6931 - accuracy: 0.8342 - val_loss: 0.6931 - val_accuracy: 0.9456\n",
      "Epoch 72/100\n",
      "47/47 [==============================] - 23s 494ms/step - loss: 0.6931 - accuracy: 0.8314 - val_loss: 0.6931 - val_accuracy: 0.9429\n",
      "Epoch 73/100\n",
      "47/47 [==============================] - 23s 493ms/step - loss: 0.6931 - accuracy: 0.8342 - val_loss: 0.6931 - val_accuracy: 0.9529\n",
      "Epoch 74/100\n",
      "47/47 [==============================] - 23s 499ms/step - loss: 0.6931 - accuracy: 0.8314 - val_loss: 0.6931 - val_accuracy: 0.9429\n",
      "Epoch 75/100\n",
      "47/47 [==============================] - 23s 493ms/step - loss: 0.6931 - accuracy: 0.8286 - val_loss: 0.6931 - val_accuracy: 0.9396\n",
      "Epoch 76/100\n",
      "47/47 [==============================] - 23s 499ms/step - loss: 0.6931 - accuracy: 0.8418 - val_loss: 0.6931 - val_accuracy: 0.9463\n",
      "Epoch 77/100\n",
      "47/47 [==============================] - 24s 503ms/step - loss: 0.6931 - accuracy: 0.8311 - val_loss: 0.6931 - val_accuracy: 0.9701\n",
      "Epoch 78/100\n",
      "47/47 [==============================] - 23s 492ms/step - loss: 0.6931 - accuracy: 0.8304 - val_loss: 0.6931 - val_accuracy: 0.9356\n",
      "Epoch 79/100\n",
      "47/47 [==============================] - 23s 495ms/step - loss: 0.6931 - accuracy: 0.8353 - val_loss: 0.6931 - val_accuracy: 0.9681\n",
      "Epoch 80/100\n",
      "47/47 [==============================] - 23s 496ms/step - loss: 0.6931 - accuracy: 0.8248 - val_loss: 0.6931 - val_accuracy: 0.9403\n",
      "Epoch 81/100\n",
      "47/47 [==============================] - 23s 491ms/step - loss: 0.6931 - accuracy: 0.8333 - val_loss: 0.6931 - val_accuracy: 0.9781\n",
      "Epoch 82/100\n",
      "47/47 [==============================] - 23s 498ms/step - loss: 0.6931 - accuracy: 0.8318 - val_loss: 0.6931 - val_accuracy: 0.9721\n",
      "Epoch 83/100\n",
      "47/47 [==============================] - 24s 501ms/step - loss: 0.6931 - accuracy: 0.8336 - val_loss: 0.6931 - val_accuracy: 0.9814\n",
      "Epoch 84/100\n",
      "47/47 [==============================] - 23s 492ms/step - loss: 0.6931 - accuracy: 0.8365 - val_loss: 0.6931 - val_accuracy: 0.9668\n",
      "Epoch 85/100\n",
      "47/47 [==============================] - 23s 494ms/step - loss: 0.6931 - accuracy: 0.8345 - val_loss: 0.6931 - val_accuracy: 0.9595\n",
      "Epoch 86/100\n",
      "47/47 [==============================] - 23s 499ms/step - loss: 0.6931 - accuracy: 0.8331 - val_loss: 0.6931 - val_accuracy: 0.9509\n",
      "Epoch 87/100\n",
      "47/47 [==============================] - 23s 498ms/step - loss: 0.6931 - accuracy: 0.8345 - val_loss: 0.6931 - val_accuracy: 0.9317\n",
      "Epoch 88/100\n",
      "47/47 [==============================] - 23s 492ms/step - loss: 0.6931 - accuracy: 0.8336 - val_loss: 0.6931 - val_accuracy: 0.9814\n",
      "Epoch 89/100\n",
      "47/47 [==============================] - 24s 505ms/step - loss: 0.6931 - accuracy: 0.8331 - val_loss: 0.6931 - val_accuracy: 0.9834\n",
      "Epoch 90/100\n",
      "47/47 [==============================] - 23s 493ms/step - loss: 0.6931 - accuracy: 0.8360 - val_loss: 0.6931 - val_accuracy: 0.9754\n",
      "Epoch 91/100\n",
      "47/47 [==============================] - 23s 495ms/step - loss: 0.6931 - accuracy: 0.8379 - val_loss: 0.6931 - val_accuracy: 0.9721\n",
      "Epoch 92/100\n",
      "47/47 [==============================] - 23s 495ms/step - loss: 0.6931 - accuracy: 0.8348 - val_loss: 0.6931 - val_accuracy: 0.9854\n",
      "Epoch 93/100\n",
      "47/47 [==============================] - 23s 494ms/step - loss: 0.6931 - accuracy: 0.8350 - val_loss: 0.6931 - val_accuracy: 0.9741\n",
      "Epoch 94/100\n",
      "47/47 [==============================] - 23s 491ms/step - loss: 0.6931 - accuracy: 0.8245 - val_loss: 0.6931 - val_accuracy: 0.9827\n",
      "Epoch 95/100\n",
      "47/47 [==============================] - 24s 506ms/step - loss: 0.6931 - accuracy: 0.8335 - val_loss: 0.6931 - val_accuracy: 0.9834\n",
      "Epoch 96/100\n",
      "47/47 [==============================] - 23s 488ms/step - loss: 0.6931 - accuracy: 0.8421 - val_loss: 0.6931 - val_accuracy: 0.9774\n",
      "Epoch 97/100\n",
      "47/47 [==============================] - 23s 496ms/step - loss: 0.6931 - accuracy: 0.8305 - val_loss: 0.6931 - val_accuracy: 0.9834\n",
      "Epoch 98/100\n",
      "47/47 [==============================] - 24s 509ms/step - loss: 0.6931 - accuracy: 0.8384 - val_loss: 0.6931 - val_accuracy: 0.9761\n",
      "Epoch 99/100\n",
      "47/47 [==============================] - 23s 490ms/step - loss: 0.6931 - accuracy: 0.8304 - val_loss: 0.6931 - val_accuracy: 0.9801\n",
      "Epoch 100/100\n",
      "47/47 [==============================] - 23s 490ms/step - loss: 0.6931 - accuracy: 0.8387 - val_loss: 0.6931 - val_accuracy: 0.9781\n"
     ]
    }
   ],
   "source": [
    "print(\"[INFO] compiling model...\")\n",
    "opt = Adam(lr=INIT_LR, decay=INIT_LR / EPOCHS)\n",
    "model.compile(loss='binary_crossentropy', optimizer=opt,\n",
    "\tmetrics=[\"accuracy\"])\n",
    "\n",
    "# train the head of the network\n",
    "print(\"[INFO] training head...\")\n",
    "H = model.fit_generator(\n",
    "\ttrainAug.flow(trainX, trainY, batch_size=BS),\n",
    "\tsteps_per_epoch=len(trainX) // BS,\n",
    "\tvalidation_data=(testX, testY),\n",
    "\tvalidation_steps=len(testX) // BS,\n",
    "\tepochs=EPOCHS)"
   ]
  },
  {
   "cell_type": "code",
   "execution_count": 40,
   "metadata": {
    "colab": {
     "base_uri": "https://localhost:8080/",
     "height": 34
    },
    "colab_type": "code",
    "id": "guSCJ61CAifA",
    "outputId": "2b303d66-f447-48f3-a24c-6abe3024fb39"
   },
   "outputs": [
    {
     "data": {
      "text/plain": [
       "['covid', 'normal']"
      ]
     },
     "execution_count": 40,
     "metadata": {
      "tags": []
     },
     "output_type": "execute_result"
    }
   ],
   "source": [
    "lbclasses=['covid','normal']\n",
    "lbclasses"
   ]
  },
  {
   "cell_type": "code",
   "execution_count": 41,
   "metadata": {
    "colab": {
     "base_uri": "https://localhost:8080/",
     "height": 269
    },
    "colab_type": "code",
    "id": "NRzp-x-hyMbX",
    "outputId": "dd431a08-5efb-491d-cd0e-7978182bf7f7"
   },
   "outputs": [
    {
     "name": "stdout",
     "output_type": "stream",
     "text": [
      "[INFO] evaluating network...\n",
      "              precision    recall  f1-score   support\n",
      "\n",
      "       covid       0.97      1.00      0.98      1019\n",
      "      normal       1.00      0.93      0.97       488\n",
      "\n",
      "    accuracy                           0.98      1507\n",
      "   macro avg       0.98      0.97      0.97      1507\n",
      "weighted avg       0.98      0.98      0.98      1507\n",
      "\n",
      "[[1018    1]\n",
      " [  32  456]]\n",
      "acc: 0.9781\n",
      "sensitivity: 0.9990\n",
      "specificity: 0.9344\n"
     ]
    }
   ],
   "source": [
    "# make predictions on the testing set\n",
    "print(\"[INFO] evaluating network...\")\n",
    "predIdxs = model.predict(testX, batch_size=BS)\n",
    "\n",
    "# for each image in the testing set we need to find the index of the\n",
    "# label with corresponding largest predicted probability\n",
    "predIdxs = np.argmax(predIdxs, axis=1)\n",
    "\n",
    "# show a nicely formatted classification report\n",
    "print(classification_report(testY.argmax(axis=1), predIdxs,\n",
    "\ttarget_names=lbclasses))\n",
    "\n",
    "# compute the confusion matrix and and use it to derive the raw\n",
    "# accuracy, sensitivity, and specificity\n",
    "cm = confusion_matrix(testY.argmax(axis=1), predIdxs)\n",
    "total = sum(sum(cm))\n",
    "acc = (cm[0, 0] + cm[1, 1]) / total\n",
    "sensitivity = cm[0, 0] / (cm[0, 0] + cm[0, 1])\n",
    "specificity = cm[1, 1] / (cm[1, 0] + cm[1, 1])\n",
    "\n",
    "# show the confusion matrix, accuracy, sensitivity, and specificity\n",
    "print(cm)\n",
    "print(\"acc: {:.4f}\".format(acc))\n",
    "print(\"sensitivity: {:.4f}\".format(sensitivity))\n",
    "print(\"specificity: {:.4f}\".format(specificity))"
   ]
  },
  {
   "cell_type": "code",
   "execution_count": 45,
   "metadata": {
    "colab": {
     "base_uri": "https://localhost:8080/",
     "height": 403
    },
    "colab_type": "code",
    "id": "I4FiYToZyUHF",
    "outputId": "8594f742-16f3-4529-b6d0-76711f198b98"
   },
   "outputs": [
    {
     "name": "stdout",
     "output_type": "stream",
     "text": [
      "[INFO] saving COVID-19 detector model...\n",
      "WARNING:tensorflow:From /usr/local/lib/python3.6/dist-packages/tensorflow/python/ops/resource_variable_ops.py:1817: calling BaseResourceVariable.__init__ (from tensorflow.python.ops.resource_variable_ops) with constraint is deprecated and will be removed in a future version.\n",
      "Instructions for updating:\n",
      "If using Keras pass *_constraint arguments to layers.\n",
      "INFO:tensorflow:Assets written to: My Drive/Colab Notebooks/215-FP_Dataset/assets\n"
     ]
    },
    {
     "data": {
      "image/png": "[encoded data removed]",
      "text/plain": [
       "<Figure size 432x288 with 1 Axes>"
      ]
     },
     "metadata": {
      "tags": []
     },
     "output_type": "display_data"
    }
   ],
   "source": [
    "N = EPOCHS\n",
    "plt.style.use(\"ggplot\")\n",
    "plt.figure()\n",
    "plt.plot(np.arange(0, N), H.history[\"loss\"], label=\"train_loss\")\n",
    "plt.plot(np.arange(0, N), H.history[\"val_loss\"], label=\"val_loss\")\n",
    "plt.plot(np.arange(0, N), H.history[\"accuracy\"], label=\"train_acc\")\n",
    "plt.plot(np.arange(0, N), H.history[\"val_accuracy\"], label=\"val_acc\")\n",
    "plt.title(\"Training Loss and Accuracy on COVID-19 Dataset\")\n",
    "plt.xlabel(\"Epoch #\")\n",
    "plt.ylabel(\"Loss/Accuracy\")\n",
    "plt.legend(loc=\"lower left\")\n",
    "plt.savefig('My Drive/Colab Notebooks/215-FP_Dataset/')\n",
    "\n",
    "# serialize the model to disk\n",
    "print(\"[INFO] saving COVID-19 detector model...\")\n",
    "model.save('My Drive/Colab Notebooks/215-FP_Dataset/')"
   ]
  },
  {
   "cell_type": "code",
   "execution_count": null,
   "metadata": {
    "colab": {},
    "colab_type": "code",
    "id": "6n-fWkBCyUKd"
   },
   "outputs": [],
   "source": []
  },
  {
   "cell_type": "code",
   "execution_count": null,
   "metadata": {
    "colab": {},
    "colab_type": "code",
    "id": "prO811O3yUQc"
   },
   "outputs": [],
   "source": []
  },
  {
   "cell_type": "code",
   "execution_count": null,
   "metadata": {
    "colab": {},
    "colab_type": "code",
    "id": "LbsKC4JDyUO9"
   },
   "outputs": [],
   "source": []
  },
  {
   "cell_type": "code",
   "execution_count": null,
   "metadata": {
    "colab": {},
    "colab_type": "code",
    "id": "N4WqZYVNyMWD"
   },
   "outputs": [],
   "source": []
  },
  {
   "cell_type": "code",
   "execution_count": null,
   "metadata": {
    "colab": {},
    "colab_type": "code",
    "id": "Osg5r3x8yMQs"
   },
   "outputs": [],
   "source": []
  }
 ],
 "metadata": {
  "accelerator": "GPU",
  "colab": {
   "machine_shape": "hm",
   "name": "215_FP_2.ipynb",
   "provenance": []
  },
  "kernelspec": {
   "display_name": "Python 3",
   "language": "python",
   "name": "python3"
  },
  "language_info": {
   "codemirror_mode": {
    "name": "ipython",
    "version": 3
   },
   "file_extension": ".py",
   "mimetype": "text/x-python",
   "name": "python",
   "nbconvert_exporter": "python",
   "pygments_lexer": "ipython3",
   "version": "3.7.4"
  }
 },
 "nbformat": 4,
 "nbformat_minor": 4
}
