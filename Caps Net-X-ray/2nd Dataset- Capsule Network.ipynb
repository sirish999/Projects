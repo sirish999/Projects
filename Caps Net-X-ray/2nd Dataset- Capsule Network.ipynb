{
 "cells": [
  {
   "cell_type": "code",
   "execution_count": 1,
   "metadata": {
    "colab": {
     "base_uri": "https://localhost:8080/",
     "height": 138
    },
    "colab_type": "code",
    "id": "9FMmonyoFAFm",
    "outputId": "bc34f7a9-f3ab-4c0f-b481-86270deab442"
   },
   "outputs": [
    {
     "name": "stdout",
     "output_type": "stream",
     "text": [
      "Go to this URL in a browser: https://accounts.google.com/o/oauth2/auth?client_id=947318989803-6bn6qk8qdgf4n4g3pfee6491hc0brc4i.apps.googleusercontent.com&redirect_uri=urn%3aietf%3awg%3aoauth%3a2.0%3aoob&response_type=code&scope=email%20https%3a%2f%2fwww.googleapis.com%2fauth%2fdocs.test%20https%3a%2f%2fwww.googleapis.com%2fauth%2fdrive%20https%3a%2f%2fwww.googleapis.com%2fauth%2fdrive.photos.readonly%20https%3a%2f%2fwww.googleapis.com%2fauth%2fpeopleapi.readonly\n",
      "\n",
      "Enter your authorization code:\n",
      "··········\n",
      "Mounted at /gdrive\n",
      "/gdrive\n"
     ]
    }
   ],
   "source": [
    "from google.colab import drive\n",
    "drive.mount('/gdrive')\n",
    "%cd /gdrive"
   ]
  },
  {
   "cell_type": "code",
   "execution_count": 2,
   "metadata": {
    "colab": {
     "base_uri": "https://localhost:8080/",
     "height": 1000
    },
    "colab_type": "code",
    "id": "SpGpHowaGt-F",
    "outputId": "1c199ca2-a302-45eb-a786-7ea9f561315c"
   },
   "outputs": [
    {
     "name": "stdout",
     "output_type": "stream",
     "text": [
      "Collecting tensorflow-gpu==2.0.0\n",
      "\u001b[?25l  Downloading https://files.pythonhosted.org/packages/25/44/47f0722aea081697143fbcf5d2aa60d1aee4aaacb5869aee2b568974777b/tensorflow_gpu-2.0.0-cp36-cp36m-manylinux2010_x86_64.whl (380.8MB)\n",
      "\u001b[K     |████████████████████████████████| 380.8MB 37kB/s \n",
      "\u001b[?25hCollecting tensorflow-estimator<2.1.0,>=2.0.0\n",
      "\u001b[?25l  Downloading https://files.pythonhosted.org/packages/fc/08/8b927337b7019c374719145d1dceba21a8bb909b93b1ad6f8fb7d22c1ca1/tensorflow_estimator-2.0.1-py2.py3-none-any.whl (449kB)\n",
      "\u001b[K     |████████████████████████████████| 450kB 45.2MB/s \n",
      "\u001b[?25hRequirement already satisfied: google-pasta>=0.1.6 in /usr/local/lib/python3.6/dist-packages (from tensorflow-gpu==2.0.0) (0.2.0)\n",
      "Requirement already satisfied: six>=1.10.0 in /usr/local/lib/python3.6/dist-packages (from tensorflow-gpu==2.0.0) (1.12.0)\n",
      "Requirement already satisfied: wrapt>=1.11.1 in /usr/local/lib/python3.6/dist-packages (from tensorflow-gpu==2.0.0) (1.12.1)\n",
      "Requirement already satisfied: numpy<2.0,>=1.16.0 in /usr/local/lib/python3.6/dist-packages (from tensorflow-gpu==2.0.0) (1.18.3)\n",
      "Requirement already satisfied: termcolor>=1.1.0 in /usr/local/lib/python3.6/dist-packages (from tensorflow-gpu==2.0.0) (1.1.0)\n",
      "Requirement already satisfied: wheel>=0.26 in /usr/local/lib/python3.6/dist-packages (from tensorflow-gpu==2.0.0) (0.34.2)\n",
      "Collecting tensorboard<2.1.0,>=2.0.0\n",
      "\u001b[?25l  Downloading https://files.pythonhosted.org/packages/76/54/99b9d5d52d5cb732f099baaaf7740403e83fe6b0cedde940fabd2b13d75a/tensorboard-2.0.2-py3-none-any.whl (3.8MB)\n",
      "\u001b[K     |████████████████████████████████| 3.8MB 41.7MB/s \n",
      "\u001b[?25hRequirement already satisfied: keras-applications>=1.0.8 in /usr/local/lib/python3.6/dist-packages (from tensorflow-gpu==2.0.0) (1.0.8)\n",
      "Requirement already satisfied: protobuf>=3.6.1 in /usr/local/lib/python3.6/dist-packages (from tensorflow-gpu==2.0.0) (3.10.0)\n",
      "Requirement already satisfied: grpcio>=1.8.6 in /usr/local/lib/python3.6/dist-packages (from tensorflow-gpu==2.0.0) (1.28.1)\n",
      "Requirement already satisfied: opt-einsum>=2.3.2 in /usr/local/lib/python3.6/dist-packages (from tensorflow-gpu==2.0.0) (3.2.1)\n",
      "Collecting gast==0.2.2\n",
      "  Downloading https://files.pythonhosted.org/packages/4e/35/11749bf99b2d4e3cceb4d55ca22590b0d7c2c62b9de38ac4a4a7f4687421/gast-0.2.2.tar.gz\n",
      "Requirement already satisfied: absl-py>=0.7.0 in /usr/local/lib/python3.6/dist-packages (from tensorflow-gpu==2.0.0) (0.9.0)\n",
      "Requirement already satisfied: astor>=0.6.0 in /usr/local/lib/python3.6/dist-packages (from tensorflow-gpu==2.0.0) (0.8.1)\n",
      "Requirement already satisfied: keras-preprocessing>=1.0.5 in /usr/local/lib/python3.6/dist-packages (from tensorflow-gpu==2.0.0) (1.1.0)\n",
      "Requirement already satisfied: setuptools>=41.0.0 in /usr/local/lib/python3.6/dist-packages (from tensorboard<2.1.0,>=2.0.0->tensorflow-gpu==2.0.0) (46.1.3)\n",
      "Requirement already satisfied: werkzeug>=0.11.15 in /usr/local/lib/python3.6/dist-packages (from tensorboard<2.1.0,>=2.0.0->tensorflow-gpu==2.0.0) (1.0.1)\n",
      "Requirement already satisfied: google-auth-oauthlib<0.5,>=0.4.1 in /usr/local/lib/python3.6/dist-packages (from tensorboard<2.1.0,>=2.0.0->tensorflow-gpu==2.0.0) (0.4.1)\n",
      "Requirement already satisfied: requests<3,>=2.21.0 in /usr/local/lib/python3.6/dist-packages (from tensorboard<2.1.0,>=2.0.0->tensorflow-gpu==2.0.0) (2.21.0)\n",
      "Requirement already satisfied: google-auth<2,>=1.6.3 in /usr/local/lib/python3.6/dist-packages (from tensorboard<2.1.0,>=2.0.0->tensorflow-gpu==2.0.0) (1.7.2)\n",
      "Requirement already satisfied: markdown>=2.6.8 in /usr/local/lib/python3.6/dist-packages (from tensorboard<2.1.0,>=2.0.0->tensorflow-gpu==2.0.0) (3.2.1)\n",
      "Requirement already satisfied: h5py in /usr/local/lib/python3.6/dist-packages (from keras-applications>=1.0.8->tensorflow-gpu==2.0.0) (2.10.0)\n",
      "Requirement already satisfied: requests-oauthlib>=0.7.0 in /usr/local/lib/python3.6/dist-packages (from google-auth-oauthlib<0.5,>=0.4.1->tensorboard<2.1.0,>=2.0.0->tensorflow-gpu==2.0.0) (1.3.0)\n",
      "Requirement already satisfied: idna<2.9,>=2.5 in /usr/local/lib/python3.6/dist-packages (from requests<3,>=2.21.0->tensorboard<2.1.0,>=2.0.0->tensorflow-gpu==2.0.0) (2.8)\n",
      "Requirement already satisfied: certifi>=2017.4.17 in /usr/local/lib/python3.6/dist-packages (from requests<3,>=2.21.0->tensorboard<2.1.0,>=2.0.0->tensorflow-gpu==2.0.0) (2020.4.5.1)\n",
      "Requirement already satisfied: urllib3<1.25,>=1.21.1 in /usr/local/lib/python3.6/dist-packages (from requests<3,>=2.21.0->tensorboard<2.1.0,>=2.0.0->tensorflow-gpu==2.0.0) (1.24.3)\n",
      "Requirement already satisfied: chardet<3.1.0,>=3.0.2 in /usr/local/lib/python3.6/dist-packages (from requests<3,>=2.21.0->tensorboard<2.1.0,>=2.0.0->tensorflow-gpu==2.0.0) (3.0.4)\n",
      "Requirement already satisfied: pyasn1-modules>=0.2.1 in /usr/local/lib/python3.6/dist-packages (from google-auth<2,>=1.6.3->tensorboard<2.1.0,>=2.0.0->tensorflow-gpu==2.0.0) (0.2.8)\n",
      "Requirement already satisfied: rsa<4.1,>=3.1.4 in /usr/local/lib/python3.6/dist-packages (from google-auth<2,>=1.6.3->tensorboard<2.1.0,>=2.0.0->tensorflow-gpu==2.0.0) (4.0)\n",
      "Requirement already satisfied: cachetools<3.2,>=2.0.0 in /usr/local/lib/python3.6/dist-packages (from google-auth<2,>=1.6.3->tensorboard<2.1.0,>=2.0.0->tensorflow-gpu==2.0.0) (3.1.1)\n",
      "Requirement already satisfied: oauthlib>=3.0.0 in /usr/local/lib/python3.6/dist-packages (from requests-oauthlib>=0.7.0->google-auth-oauthlib<0.5,>=0.4.1->tensorboard<2.1.0,>=2.0.0->tensorflow-gpu==2.0.0) (3.1.0)\n",
      "Requirement already satisfied: pyasn1<0.5.0,>=0.4.6 in /usr/local/lib/python3.6/dist-packages (from pyasn1-modules>=0.2.1->google-auth<2,>=1.6.3->tensorboard<2.1.0,>=2.0.0->tensorflow-gpu==2.0.0) (0.4.8)\n",
      "Building wheels for collected packages: gast\n",
      "  Building wheel for gast (setup.py) ... \u001b[?25l\u001b[?25hdone\n",
      "  Created wheel for gast: filename=gast-0.2.2-cp36-none-any.whl size=7540 sha256=acebd4a5577b451073b7986269654533b2c226a536ad180e264d6bbd8134b8f4\n",
      "  Stored in directory: /root/.cache/pip/wheels/5c/2e/7e/a1d4d4fcebe6c381f378ce7743a3ced3699feb89bcfbdadadd\n",
      "Successfully built gast\n",
      "\u001b[31mERROR: tensorflow 2.2.0rc3 has requirement gast==0.3.3, but you'll have gast 0.2.2 which is incompatible.\u001b[0m\n",
      "\u001b[31mERROR: tensorflow 2.2.0rc3 has requirement tensorboard<2.3.0,>=2.2.0, but you'll have tensorboard 2.0.2 which is incompatible.\u001b[0m\n",
      "\u001b[31mERROR: tensorflow 2.2.0rc3 has requirement tensorflow-estimator<2.3.0,>=2.2.0rc0, but you'll have tensorflow-estimator 2.0.1 which is incompatible.\u001b[0m\n",
      "\u001b[31mERROR: tensorflow-probability 0.10.0rc0 has requirement gast>=0.3.2, but you'll have gast 0.2.2 which is incompatible.\u001b[0m\n",
      "Installing collected packages: tensorflow-estimator, tensorboard, gast, tensorflow-gpu\n",
      "  Found existing installation: tensorflow-estimator 2.2.0\n",
      "    Uninstalling tensorflow-estimator-2.2.0:\n",
      "      Successfully uninstalled tensorflow-estimator-2.2.0\n",
      "  Found existing installation: tensorboard 2.2.1\n",
      "    Uninstalling tensorboard-2.2.1:\n",
      "      Successfully uninstalled tensorboard-2.2.1\n",
      "  Found existing installation: gast 0.3.3\n",
      "    Uninstalling gast-0.3.3:\n",
      "      Successfully uninstalled gast-0.3.3\n",
      "Successfully installed gast-0.2.2 tensorboard-2.0.2 tensorflow-estimator-2.0.1 tensorflow-gpu-2.0.0\n"
     ]
    }
   ],
   "source": [
    "pip install tensorflow-gpu==2.0.0"
   ]
  },
  {
   "cell_type": "code",
   "execution_count": 3,
   "metadata": {
    "colab": {
     "base_uri": "https://localhost:8080/",
     "height": 269
    },
    "colab_type": "code",
    "id": "D6gVS34yGuAw",
    "outputId": "1571046f-2821-41c6-9e8f-fd9ffeeed6b4"
   },
   "outputs": [
    {
     "name": "stdout",
     "output_type": "stream",
     "text": [
      "Collecting keras==2.2.4\n",
      "\u001b[?25l  Downloading https://files.pythonhosted.org/packages/5e/10/aa32dad071ce52b5502266b5c659451cfd6ffcbf14e6c8c4f16c0ff5aaab/Keras-2.2.4-py2.py3-none-any.whl (312kB)\n",
      "\u001b[K     |████████████████████████████████| 317kB 3.5MB/s eta 0:00:01\n",
      "\u001b[?25hRequirement already satisfied: numpy>=1.9.1 in /usr/local/lib/python3.6/dist-packages (from keras==2.2.4) (1.18.3)\n",
      "Requirement already satisfied: pyyaml in /usr/local/lib/python3.6/dist-packages (from keras==2.2.4) (3.13)\n",
      "Requirement already satisfied: h5py in /usr/local/lib/python3.6/dist-packages (from keras==2.2.4) (2.10.0)\n",
      "Requirement already satisfied: scipy>=0.14 in /usr/local/lib/python3.6/dist-packages (from keras==2.2.4) (1.4.1)\n",
      "Requirement already satisfied: six>=1.9.0 in /usr/local/lib/python3.6/dist-packages (from keras==2.2.4) (1.12.0)\n",
      "Requirement already satisfied: keras-preprocessing>=1.0.5 in /usr/local/lib/python3.6/dist-packages (from keras==2.2.4) (1.1.0)\n",
      "Requirement already satisfied: keras-applications>=1.0.6 in /usr/local/lib/python3.6/dist-packages (from keras==2.2.4) (1.0.8)\n",
      "Installing collected packages: keras\n",
      "  Found existing installation: Keras 2.3.1\n",
      "    Uninstalling Keras-2.3.1:\n",
      "      Successfully uninstalled Keras-2.3.1\n",
      "Successfully installed keras-2.2.4\n"
     ]
    }
   ],
   "source": [
    "pip install keras==2.2.4"
   ]
  },
  {
   "cell_type": "code",
   "execution_count": null,
   "metadata": {
    "colab": {},
    "colab_type": "code",
    "id": "nDs8UizQGuDa"
   },
   "outputs": [],
   "source": []
  },
  {
   "cell_type": "code",
   "execution_count": 4,
   "metadata": {
    "colab": {
     "base_uri": "https://localhost:8080/",
     "height": 302
    },
    "colab_type": "code",
    "id": "YjcetguZSbaf",
    "outputId": "a1a23cfc-a98f-495f-fb23-7b4dd6e793b5"
   },
   "outputs": [
    {
     "name": "stdout",
     "output_type": "stream",
     "text": [
      "Fri Apr 24 19:34:45 2020       \n",
      "+-----------------------------------------------------------------------------+\n",
      "| NVIDIA-SMI 440.64.00    Driver Version: 418.67       CUDA Version: 10.1     |\n",
      "|-------------------------------+----------------------+----------------------+\n",
      "| GPU  Name        Persistence-M| Bus-Id        Disp.A | Volatile Uncorr. ECC |\n",
      "| Fan  Temp  Perf  Pwr:Usage/Cap|         Memory-Usage | GPU-Util  Compute M. |\n",
      "|===============================+======================+======================|\n",
      "|   0  Tesla P100-PCIE...  Off  | 00000000:00:04.0 Off |                    0 |\n",
      "| N/A   42C    P0    30W / 250W |      0MiB / 16280MiB |      0%      Default |\n",
      "+-------------------------------+----------------------+----------------------+\n",
      "                                                                               \n",
      "+-----------------------------------------------------------------------------+\n",
      "| Processes:                                                       GPU Memory |\n",
      "|  GPU       PID   Type   Process name                             Usage      |\n",
      "|=============================================================================|\n",
      "|  No running processes found                                                 |\n",
      "+-----------------------------------------------------------------------------+\n"
     ]
    }
   ],
   "source": [
    "gpu_info = !nvidia-smi\n",
    "gpu_info = '\\n'.join(gpu_info)\n",
    "if gpu_info.find('failed') >= 0:\n",
    "  print('Select the Runtime → \"Change runtime type\" menu to enable a GPU accelerator, ')\n",
    "  print('and then re-execute this cell.')\n",
    "else:\n",
    "  print(gpu_info)"
   ]
  },
  {
   "cell_type": "code",
   "execution_count": 5,
   "metadata": {
    "colab": {
     "base_uri": "https://localhost:8080/",
     "height": 34
    },
    "colab_type": "code",
    "id": "6rgTqTlDGhyW",
    "outputId": "f172620c-648c-4f8f-c936-c6e98f77e48d"
   },
   "outputs": [
    {
     "name": "stderr",
     "output_type": "stream",
     "text": [
      "Using TensorFlow backend.\n"
     ]
    }
   ],
   "source": [
    "from keras.preprocessing.image import ImageDataGenerator\n",
    "from keras.preprocessing.image import img_to_array\n",
    "from keras.preprocessing.image import load_img\n",
    "import numpy as np\n",
    "import argparse\n",
    "import cv2\n",
    "import os\n",
    "from imutils import paths"
   ]
  },
  {
   "cell_type": "code",
   "execution_count": null,
   "metadata": {
    "colab": {},
    "colab_type": "code",
    "id": "XgTEKdRwFSZb"
   },
   "outputs": [],
   "source": [
    "from tensorflow.keras.preprocessing.image import ImageDataGenerator\n",
    "from tensorflow.keras.applications import VGG16\n",
    "from tensorflow.keras.applications.resnet_v2 import ResNet152V2\n",
    "from tensorflow.keras.layers import AveragePooling2D\n",
    "from tensorflow.keras.layers import Dropout\n",
    "from tensorflow.keras.layers import Flatten\n",
    "from tensorflow.keras.layers import Dense\n",
    "from tensorflow.keras.layers import Input\n",
    "from tensorflow.keras.models import Model\n",
    "from tensorflow.keras.optimizers import Adam\n",
    "from tensorflow.keras.utils import to_categorical\n",
    "from sklearn.preprocessing import LabelBinarizer\n",
    "from sklearn.model_selection import train_test_split\n",
    "from sklearn.metrics import classification_report\n",
    "from sklearn.metrics import confusion_matrix\n",
    "from imutils import paths\n",
    "import matplotlib.pyplot as plt\n",
    "import numpy as np\n",
    "import argparse\n",
    "import cv2\n",
    "import os"
   ]
  },
  {
   "cell_type": "code",
   "execution_count": null,
   "metadata": {
    "colab": {},
    "colab_type": "code",
    "id": "rFNOjeEpFScV"
   },
   "outputs": [],
   "source": [
    "x_train=np.load('My Drive/Colab Notebooks/215-FP_Dataset/numpy5/x_train.npy')"
   ]
  },
  {
   "cell_type": "code",
   "execution_count": null,
   "metadata": {
    "colab": {},
    "colab_type": "code",
    "id": "zNPD_4jlFSeU"
   },
   "outputs": [],
   "source": [
    "y_train=np.load('My Drive/Colab Notebooks/215-FP_Dataset/numpy5/y_train.npy')"
   ]
  },
  {
   "cell_type": "code",
   "execution_count": 103,
   "metadata": {
    "colab": {
     "base_uri": "https://localhost:8080/",
     "height": 134
    },
    "colab_type": "code",
    "id": "vjwxmV11eHqs",
    "outputId": "e189479d-5f92-4b7e-d98d-3aa6528fc877"
   },
   "outputs": [
    {
     "data": {
      "text/plain": [
       "array([[0.     , 0.00392],\n",
       "       [0.     , 0.00392],\n",
       "       [0.     , 0.00392],\n",
       "       ...,\n",
       "       [0.     , 0.00392],\n",
       "       [0.     , 0.00392],\n",
       "       [0.     , 0.00392]], dtype=float16)"
      ]
     },
     "execution_count": 103,
     "metadata": {
      "tags": []
     },
     "output_type": "execute_result"
    }
   ],
   "source": []
  },
  {
   "cell_type": "code",
   "execution_count": null,
   "metadata": {
    "colab": {},
    "colab_type": "code",
    "id": "wFIJrbRJFShL"
   },
   "outputs": [],
   "source": []
  },
  {
   "cell_type": "code",
   "execution_count": null,
   "metadata": {
    "colab": {},
    "colab_type": "code",
    "id": "rse4_HHUd_m2"
   },
   "outputs": [],
   "source": []
  },
  {
   "cell_type": "code",
   "execution_count": 24,
   "metadata": {
    "colab": {
     "base_uri": "https://localhost:8080/",
     "height": 134
    },
    "colab_type": "code",
    "id": "S5h9s6E-FSjw",
    "outputId": "3b4cea8a-4135-491f-d18c-7bcf039c72dd"
   },
   "outputs": [
    {
     "data": {
      "text/plain": [
       "array([[1., 0.],\n",
       "       [1., 0.],\n",
       "       [1., 0.],\n",
       "       ...,\n",
       "       [1., 0.],\n",
       "       [1., 0.],\n",
       "       [1., 0.]])"
      ]
     },
     "execution_count": 24,
     "metadata": {
      "tags": []
     },
     "output_type": "execute_result"
    }
   ],
   "source": [
    "y_train"
   ]
  },
  {
   "cell_type": "code",
   "execution_count": null,
   "metadata": {
    "colab": {},
    "colab_type": "code",
    "id": "yIfIyOm7Fpk4"
   },
   "outputs": [],
   "source": [
    "x_valid=np.load('My Drive/Colab Notebooks/215-FP_Dataset/numpy5/x_valid.npy')"
   ]
  },
  {
   "cell_type": "code",
   "execution_count": null,
   "metadata": {
    "colab": {},
    "colab_type": "code",
    "id": "Q3L73xF2Fpn7"
   },
   "outputs": [],
   "source": [
    "y_valid=np.load('My Drive/Colab Notebooks/215-FP_Dataset/numpy5/y_valid.npy')"
   ]
  },
  {
   "cell_type": "code",
   "execution_count": null,
   "metadata": {
    "colab": {},
    "colab_type": "code",
    "id": "OmBQR1hUe2oP"
   },
   "outputs": [],
   "source": []
  },
  {
   "cell_type": "code",
   "execution_count": null,
   "metadata": {
    "colab": {},
    "colab_type": "code",
    "id": "GOFVQCVIgKiK"
   },
   "outputs": [],
   "source": []
  },
  {
   "cell_type": "code",
   "execution_count": 27,
   "metadata": {
    "colab": {
     "base_uri": "https://localhost:8080/",
     "height": 134
    },
    "colab_type": "code",
    "id": "eDrsmyv0gR0q",
    "outputId": "0bc37f82-7b8d-444e-b6e2-41d254807cf2"
   },
   "outputs": [
    {
     "data": {
      "text/plain": [
       "array([[1., 0.],\n",
       "       [1., 0.],\n",
       "       [1., 0.],\n",
       "       ...,\n",
       "       [1., 0.],\n",
       "       [1., 0.],\n",
       "       [1., 0.]])"
      ]
     },
     "execution_count": 27,
     "metadata": {
      "tags": []
     },
     "output_type": "execute_result"
    }
   ],
   "source": [
    "y_valid"
   ]
  },
  {
   "cell_type": "code",
   "execution_count": null,
   "metadata": {
    "colab": {},
    "colab_type": "code",
    "id": "p6scMvyaqW0D"
   },
   "outputs": [],
   "source": [
    "y_train2=y_train\n",
    "y_valid2=y_valid"
   ]
  },
  {
   "cell_type": "code",
   "execution_count": null,
   "metadata": {
    "colab": {},
    "colab_type": "code",
    "id": "5vS8vqncqW5M"
   },
   "outputs": [],
   "source": [
    "y_train2=np.argmax(y_train,axis=1)\n",
    "y_valid2=np.argmax(y_valid,axis=1)"
   ]
  },
  {
   "cell_type": "code",
   "execution_count": 30,
   "metadata": {
    "colab": {
     "base_uri": "https://localhost:8080/",
     "height": 67
    },
    "colab_type": "code",
    "id": "jFOHImzgqo0_",
    "outputId": "d21dc5d0-75c0-481c-dbe6-db6e7a5f8d36"
   },
   "outputs": [
    {
     "data": {
      "text/plain": [
       "array([0, 0, 0, 0, 1, 0, 0, 0, 0, 1, 1, 0, 0, 0, 0, 0, 0, 0, 0, 0, 0, 0,\n",
       "       0, 0, 0, 0, 1, 0, 0, 0, 0, 1, 1, 0, 0, 0, 0, 1, 0, 1, 0, 0, 1, 0,\n",
       "       1, 1, 0, 1, 1, 1])"
      ]
     },
     "execution_count": 30,
     "metadata": {
      "tags": []
     },
     "output_type": "execute_result"
    }
   ],
   "source": [
    "y_train2[:50]"
   ]
  },
  {
   "cell_type": "code",
   "execution_count": 31,
   "metadata": {
    "colab": {
     "base_uri": "https://localhost:8080/",
     "height": 67
    },
    "colab_type": "code",
    "id": "JfcJbz1VqW88",
    "outputId": "d8c0b905-fd59-4737-e7ba-a658627b2864"
   },
   "outputs": [
    {
     "data": {
      "text/plain": [
       "array([0, 0, 0, 1, 0, 0, 0, 1, 0, 0, 0, 0, 1, 0, 0, 0, 0, 0, 0, 1, 1, 0,\n",
       "       0, 0, 1, 0, 0, 1, 0, 1, 0, 0, 1, 0, 0, 0, 0, 0, 0, 0, 1, 0, 0, 0,\n",
       "       0, 0, 1, 0, 1, 1])"
      ]
     },
     "execution_count": 31,
     "metadata": {
      "tags": []
     },
     "output_type": "execute_result"
    }
   ],
   "source": [
    "y_valid2[:50]"
   ]
  },
  {
   "cell_type": "code",
   "execution_count": 34,
   "metadata": {
    "colab": {
     "base_uri": "https://localhost:8080/",
     "height": 34
    },
    "colab_type": "code",
    "id": "ukIgXTzmFkhj",
    "outputId": "6398b8f7-7f24-4151-8a0b-60ae30f66fb3"
   },
   "outputs": [
    {
     "data": {
      "text/plain": [
       "488"
      ]
     },
     "execution_count": 34,
     "metadata": {
      "tags": []
     },
     "output_type": "execute_result"
    }
   ],
   "source": [
    "summation1=0\n",
    "for i in range(len(x_valid)):\n",
    "    if y_valid2[i]==0:\n",
    "        summation1=summation1+1\n",
    "summation1"
   ]
  },
  {
   "cell_type": "code",
   "execution_count": 35,
   "metadata": {
    "colab": {
     "base_uri": "https://localhost:8080/",
     "height": 34
    },
    "colab_type": "code",
    "id": "2nOSlRX2Fkkt",
    "outputId": "f27b3bc1-4acf-4b92-cad9-898b0f6b226b"
   },
   "outputs": [
    {
     "data": {
      "text/plain": [
       "1951"
      ]
     },
     "execution_count": 35,
     "metadata": {
      "tags": []
     },
     "output_type": "execute_result"
    }
   ],
   "source": [
    "summation2=0\n",
    "for i in range(len(x_train)):\n",
    "    if y_train2[i]==0:\n",
    "        summation2=summation2+1\n",
    "summation2"
   ]
  },
  {
   "cell_type": "code",
   "execution_count": 36,
   "metadata": {
    "colab": {
     "base_uri": "https://localhost:8080/",
     "height": 34
    },
    "colab_type": "code",
    "id": "7R8Jt9qxFSmg",
    "outputId": "7c751b5e-6f41-4287-bfd3-38cde2fc7192"
   },
   "outputs": [
    {
     "data": {
      "text/plain": [
       "6025"
      ]
     },
     "execution_count": 36,
     "metadata": {
      "tags": []
     },
     "output_type": "execute_result"
    }
   ],
   "source": [
    "len(x_train)"
   ]
  },
  {
   "cell_type": "code",
   "execution_count": null,
   "metadata": {
    "colab": {},
    "colab_type": "code",
    "id": "IB53fiPiFSpM"
   },
   "outputs": [],
   "source": [
    "#y_train=y_train2\n",
    "y_train=((y_train)/255.).astype('float16')"
   ]
  },
  {
   "cell_type": "code",
   "execution_count": null,
   "metadata": {
    "colab": {},
    "colab_type": "code",
    "id": "E6sIxxvbFSsY"
   },
   "outputs": [],
   "source": [
    "#y_valid=y_valid2\n",
    "y_valid=((y_valid)/255.).astype('float16')"
   ]
  },
  {
   "cell_type": "code",
   "execution_count": null,
   "metadata": {
    "colab": {},
    "colab_type": "code",
    "id": "md54grPDFSuy"
   },
   "outputs": [],
   "source": [
    "\n"
   ]
  },
  {
   "cell_type": "code",
   "execution_count": null,
   "metadata": {
    "colab": {},
    "colab_type": "code",
    "id": "dI13SB94FSzV"
   },
   "outputs": [],
   "source": []
  },
  {
   "cell_type": "code",
   "execution_count": null,
   "metadata": {
    "colab": {},
    "colab_type": "code",
    "id": "T8BUJTMlFS17"
   },
   "outputs": [],
   "source": []
  },
  {
   "cell_type": "code",
   "execution_count": 44,
   "metadata": {
    "colab": {
     "base_uri": "https://localhost:8080/",
     "height": 1000
    },
    "colab_type": "code",
    "id": "XoTJFUs8FS5Y",
    "outputId": "49965036-a997-42fc-b542-c78b4b03e459"
   },
   "outputs": [
    {
     "name": "stdout",
     "output_type": "stream",
     "text": [
      "Model: \"model_19\"\n",
      "_________________________________________________________________\n",
      "Layer (type)                 Output Shape              Param #   \n",
      "=================================================================\n",
      "input_10 (InputLayer)        [(None, None, None, 3)]   0         \n",
      "_________________________________________________________________\n",
      "conv2d_36 (Conv2D)           (None, None, None, 64)    1792      \n",
      "_________________________________________________________________\n",
      "batch_normalization_9 (Batch (None, None, None, 64)    256       \n",
      "_________________________________________________________________\n",
      "conv2d_37 (Conv2D)           (None, None, None, 64)    36928     \n",
      "_________________________________________________________________\n",
      "average_pooling2d_9 (Average (None, None, None, 64)    0         \n",
      "_________________________________________________________________\n",
      "conv2d_38 (Conv2D)           (None, None, None, 128)   73856     \n",
      "_________________________________________________________________\n",
      "conv2d_39 (Conv2D)           (None, None, None, 128)   147584    \n",
      "_________________________________________________________________\n",
      "reshape_9 (Reshape)          (None, None, 128)         0         \n",
      "_________________________________________________________________\n",
      "capsule_36 (Capsule)         (None, 32, 8)             32768     \n",
      "_________________________________________________________________\n",
      "capsule_37 (Capsule)         (None, 32, 8)             2048      \n",
      "_________________________________________________________________\n",
      "capsule_39 (Capsule)         (None, 2, 16)             256       \n",
      "_________________________________________________________________\n",
      "lambda_19 (Lambda)           (None, 2)                 0         \n",
      "=================================================================\n",
      "Total params: 295,488\n",
      "Trainable params: 35,200\n",
      "Non-trainable params: 260,288\n",
      "_________________________________________________________________\n",
      "Not using data augmentation.\n",
      "Train on 6025 samples, validate on 1507 samples\n",
      "Epoch 1/100\n",
      "6000/6025 [============================>.] - ETA: 0s - loss: 0.0100 - accuracy: 0.5620\n",
      "Epoch 00001: val_loss improved from inf to 0.00287, saving model to My Drive/Colab Notebooks/215-FP_Dataset/after-train.h5\n",
      "6025/6025 [==============================] - 22s 4ms/sample - loss: 0.0100 - accuracy: 0.5625 - val_loss: 0.0029 - val_accuracy: 0.6105\n",
      "Epoch 2/100\n",
      "6000/6025 [============================>.] - ETA: 0s - loss: 0.0027 - accuracy: 0.6420\n",
      "Epoch 00002: val_loss improved from 0.00287 to 0.00269, saving model to My Drive/Colab Notebooks/215-FP_Dataset/after-train.h5\n",
      "6025/6025 [==============================] - 25s 4ms/sample - loss: 0.0027 - accuracy: 0.6415 - val_loss: 0.0027 - val_accuracy: 0.6470\n",
      "Epoch 3/100\n",
      "6000/6025 [============================>.] - ETA: 0s - loss: 0.0027 - accuracy: 0.6595\n",
      "Epoch 00003: val_loss improved from 0.00269 to 0.00263, saving model to My Drive/Colab Notebooks/215-FP_Dataset/after-train.h5\n",
      "6025/6025 [==============================] - 24s 4ms/sample - loss: 0.0027 - accuracy: 0.6596 - val_loss: 0.0026 - val_accuracy: 0.6563\n",
      "Epoch 4/100\n",
      "6000/6025 [============================>.] - ETA: 0s - loss: 0.0026 - accuracy: 0.6750\n",
      "Epoch 00004: val_loss improved from 0.00263 to 0.00259, saving model to My Drive/Colab Notebooks/215-FP_Dataset/after-train.h5\n",
      "6025/6025 [==============================] - 25s 4ms/sample - loss: 0.0026 - accuracy: 0.6745 - val_loss: 0.0026 - val_accuracy: 0.6735\n",
      "Epoch 5/100\n",
      "6000/6025 [============================>.] - ETA: 0s - loss: 0.0026 - accuracy: 0.6972\n",
      "Epoch 00005: val_loss improved from 0.00259 to 0.00257, saving model to My Drive/Colab Notebooks/215-FP_Dataset/after-train.h5\n",
      "6025/6025 [==============================] - 23s 4ms/sample - loss: 0.0026 - accuracy: 0.6978 - val_loss: 0.0026 - val_accuracy: 0.6981\n",
      "Epoch 6/100\n",
      "6000/6025 [============================>.] - ETA: 0s - loss: 0.0026 - accuracy: 0.7067\n",
      "Epoch 00006: val_loss improved from 0.00257 to 0.00255, saving model to My Drive/Colab Notebooks/215-FP_Dataset/after-train.h5\n",
      "6025/6025 [==============================] - 24s 4ms/sample - loss: 0.0026 - accuracy: 0.7069 - val_loss: 0.0026 - val_accuracy: 0.7067\n",
      "Epoch 7/100\n",
      "6000/6025 [============================>.] - ETA: 0s - loss: 0.0025 - accuracy: 0.7177\n",
      "Epoch 00007: val_loss improved from 0.00255 to 0.00254, saving model to My Drive/Colab Notebooks/215-FP_Dataset/after-train.h5\n",
      "6025/6025 [==============================] - 22s 4ms/sample - loss: 0.0025 - accuracy: 0.7180 - val_loss: 0.0025 - val_accuracy: 0.7259\n",
      "Epoch 8/100\n",
      "6000/6025 [============================>.] - ETA: 0s - loss: 0.0025 - accuracy: 0.7197\n",
      "Epoch 00008: val_loss improved from 0.00254 to 0.00253, saving model to My Drive/Colab Notebooks/215-FP_Dataset/after-train.h5\n",
      "6025/6025 [==============================] - 21s 4ms/sample - loss: 0.0025 - accuracy: 0.7195 - val_loss: 0.0025 - val_accuracy: 0.7372\n",
      "Epoch 9/100\n",
      "6000/6025 [============================>.] - ETA: 0s - loss: 0.0025 - accuracy: 0.7295\n",
      "Epoch 00009: val_loss improved from 0.00253 to 0.00252, saving model to My Drive/Colab Notebooks/215-FP_Dataset/after-train.h5\n",
      "6025/6025 [==============================] - 24s 4ms/sample - loss: 0.0025 - accuracy: 0.7288 - val_loss: 0.0025 - val_accuracy: 0.7478\n",
      "Epoch 10/100\n",
      "6000/6025 [============================>.] - ETA: 0s - loss: 0.0025 - accuracy: 0.7415\n",
      "Epoch 00010: val_loss improved from 0.00252 to 0.00252, saving model to My Drive/Colab Notebooks/215-FP_Dataset/after-train.h5\n",
      "6025/6025 [==============================] - 23s 4ms/sample - loss: 0.0025 - accuracy: 0.7416 - val_loss: 0.0025 - val_accuracy: 0.7611\n",
      "Epoch 11/100\n",
      "6000/6025 [============================>.] - ETA: 0s - loss: 0.0025 - accuracy: 0.7572\n",
      "Epoch 00011: val_loss improved from 0.00252 to 0.00251, saving model to My Drive/Colab Notebooks/215-FP_Dataset/after-train.h5\n",
      "6025/6025 [==============================] - 22s 4ms/sample - loss: 0.0025 - accuracy: 0.7570 - val_loss: 0.0025 - val_accuracy: 0.7585\n",
      "Epoch 12/100\n",
      "6000/6025 [============================>.] - ETA: 0s - loss: 0.0025 - accuracy: 0.7610\n",
      "Epoch 00012: val_loss improved from 0.00251 to 0.00251, saving model to My Drive/Colab Notebooks/215-FP_Dataset/after-train.h5\n",
      "6025/6025 [==============================] - 24s 4ms/sample - loss: 0.0025 - accuracy: 0.7608 - val_loss: 0.0025 - val_accuracy: 0.7777\n",
      "Epoch 13/100\n",
      "6000/6025 [============================>.] - ETA: 0s - loss: 0.0025 - accuracy: 0.7688\n",
      "Epoch 00013: val_loss improved from 0.00251 to 0.00251, saving model to My Drive/Colab Notebooks/215-FP_Dataset/after-train.h5\n",
      "6025/6025 [==============================] - 22s 4ms/sample - loss: 0.0025 - accuracy: 0.7685 - val_loss: 0.0025 - val_accuracy: 0.7903\n",
      "Epoch 14/100\n",
      "6000/6025 [============================>.] - ETA: 0s - loss: 0.0025 - accuracy: 0.7813\n",
      "Epoch 00014: val_loss improved from 0.00251 to 0.00251, saving model to My Drive/Colab Notebooks/215-FP_Dataset/after-train.h5\n",
      "6025/6025 [==============================] - 22s 4ms/sample - loss: 0.0025 - accuracy: 0.7806 - val_loss: 0.0025 - val_accuracy: 0.8069\n",
      "Epoch 15/100\n",
      "6000/6025 [============================>.] - ETA: 0s - loss: 0.0025 - accuracy: 0.7965\n",
      "Epoch 00015: val_loss improved from 0.00251 to 0.00250, saving model to My Drive/Colab Notebooks/215-FP_Dataset/after-train.h5\n",
      "6025/6025 [==============================] - 22s 4ms/sample - loss: 0.0025 - accuracy: 0.7967 - val_loss: 0.0025 - val_accuracy: 0.8129\n",
      "Epoch 16/100\n",
      "6000/6025 [============================>.] - ETA: 0s - loss: 0.0025 - accuracy: 0.8013\n",
      "Epoch 00016: val_loss improved from 0.00250 to 0.00250, saving model to My Drive/Colab Notebooks/215-FP_Dataset/after-train.h5\n",
      "6025/6025 [==============================] - 24s 4ms/sample - loss: 0.0025 - accuracy: 0.8013 - val_loss: 0.0025 - val_accuracy: 0.8228\n",
      "Epoch 17/100\n",
      "6000/6025 [============================>.] - ETA: 0s - loss: 0.0025 - accuracy: 0.8145\n",
      "Epoch 00017: val_loss improved from 0.00250 to 0.00250, saving model to My Drive/Colab Notebooks/215-FP_Dataset/after-train.h5\n",
      "6025/6025 [==============================] - 26s 4ms/sample - loss: 0.0025 - accuracy: 0.8149 - val_loss: 0.0025 - val_accuracy: 0.8109\n",
      "Epoch 18/100\n",
      "6000/6025 [============================>.] - ETA: 0s - loss: 0.0025 - accuracy: 0.8348\n",
      "Epoch 00018: val_loss improved from 0.00250 to 0.00250, saving model to My Drive/Colab Notebooks/215-FP_Dataset/after-train.h5\n",
      "6025/6025 [==============================] - 24s 4ms/sample - loss: 0.0025 - accuracy: 0.8350 - val_loss: 0.0025 - val_accuracy: 0.8646\n",
      "Epoch 19/100\n",
      "6000/6025 [============================>.] - ETA: 0s - loss: 0.0025 - accuracy: 0.8357\n",
      "Epoch 00019: val_loss improved from 0.00250 to 0.00250, saving model to My Drive/Colab Notebooks/215-FP_Dataset/after-train.h5\n",
      "6025/6025 [==============================] - 22s 4ms/sample - loss: 0.0025 - accuracy: 0.8357 - val_loss: 0.0025 - val_accuracy: 0.8368\n",
      "Epoch 20/100\n",
      "6000/6025 [============================>.] - ETA: 0s - loss: 0.0025 - accuracy: 0.8493\n",
      "Epoch 00020: val_loss improved from 0.00250 to 0.00250, saving model to My Drive/Colab Notebooks/215-FP_Dataset/after-train.h5\n",
      "6025/6025 [==============================] - 25s 4ms/sample - loss: 0.0025 - accuracy: 0.8490 - val_loss: 0.0025 - val_accuracy: 0.8825\n",
      "Epoch 21/100\n",
      "6000/6025 [============================>.] - ETA: 0s - loss: 0.0025 - accuracy: 0.8678\n",
      "Epoch 00021: val_loss improved from 0.00250 to 0.00250, saving model to My Drive/Colab Notebooks/215-FP_Dataset/after-train.h5\n",
      "6025/6025 [==============================] - 23s 4ms/sample - loss: 0.0025 - accuracy: 0.8684 - val_loss: 0.0025 - val_accuracy: 0.8832\n",
      "Epoch 22/100\n",
      "6000/6025 [============================>.] - ETA: 0s - loss: 0.0025 - accuracy: 0.8697\n",
      "Epoch 00022: val_loss improved from 0.00250 to 0.00250, saving model to My Drive/Colab Notebooks/215-FP_Dataset/after-train.h5\n",
      "6025/6025 [==============================] - 24s 4ms/sample - loss: 0.0025 - accuracy: 0.8700 - val_loss: 0.0025 - val_accuracy: 0.9011\n",
      "Epoch 23/100\n",
      "6016/6025 [============================>.] - ETA: 0s - loss: 0.0025 - accuracy: 0.8815\n",
      "Epoch 00023: val_loss improved from 0.00250 to 0.00250, saving model to My Drive/Colab Notebooks/215-FP_Dataset/after-train.h5\n",
      "6025/6025 [==============================] - 22s 4ms/sample - loss: 0.0025 - accuracy: 0.8813 - val_loss: 0.0025 - val_accuracy: 0.8945\n",
      "Epoch 24/100\n",
      "6000/6025 [============================>.] - ETA: 0s - loss: 0.0025 - accuracy: 0.8938\n",
      "Epoch 00024: val_loss improved from 0.00250 to 0.00249, saving model to My Drive/Colab Notebooks/215-FP_Dataset/after-train.h5\n",
      "6025/6025 [==============================] - 21s 4ms/sample - loss: 0.0025 - accuracy: 0.8939 - val_loss: 0.0025 - val_accuracy: 0.9111\n",
      "Epoch 25/100\n",
      "6000/6025 [============================>.] - ETA: 0s - loss: 0.0025 - accuracy: 0.9027\n",
      "Epoch 00025: val_loss improved from 0.00249 to 0.00249, saving model to My Drive/Colab Notebooks/215-FP_Dataset/after-train.h5\n",
      "6025/6025 [==============================] - 17s 3ms/sample - loss: 0.0025 - accuracy: 0.9026 - val_loss: 0.0025 - val_accuracy: 0.9204\n",
      "Epoch 26/100\n",
      "6000/6025 [============================>.] - ETA: 0s - loss: 0.0025 - accuracy: 0.9112\n",
      "Epoch 00026: val_loss improved from 0.00249 to 0.00249, saving model to My Drive/Colab Notebooks/215-FP_Dataset/after-train.h5\n",
      "6025/6025 [==============================] - 17s 3ms/sample - loss: 0.0025 - accuracy: 0.9109 - val_loss: 0.0025 - val_accuracy: 0.9164\n",
      "Epoch 27/100\n",
      "6000/6025 [============================>.] - ETA: 0s - loss: 0.0025 - accuracy: 0.9165\n",
      "Epoch 00027: val_loss improved from 0.00249 to 0.00249, saving model to My Drive/Colab Notebooks/215-FP_Dataset/after-train.h5\n",
      "6025/6025 [==============================] - 18s 3ms/sample - loss: 0.0025 - accuracy: 0.9167 - val_loss: 0.0025 - val_accuracy: 0.9250\n",
      "Epoch 28/100\n",
      "6000/6025 [============================>.] - ETA: 0s - loss: 0.0025 - accuracy: 0.9248\n",
      "Epoch 00028: val_loss did not improve from 0.00249\n",
      "6025/6025 [==============================] - 17s 3ms/sample - loss: 0.0025 - accuracy: 0.9246 - val_loss: 0.0025 - val_accuracy: 0.9131\n",
      "Epoch 29/100\n",
      "6000/6025 [============================>.] - ETA: 0s - loss: 0.0025 - accuracy: 0.9358\n",
      "Epoch 00029: val_loss improved from 0.00249 to 0.00249, saving model to My Drive/Colab Notebooks/215-FP_Dataset/after-train.h5\n",
      "6025/6025 [==============================] - 18s 3ms/sample - loss: 0.0025 - accuracy: 0.9358 - val_loss: 0.0025 - val_accuracy: 0.9463\n",
      "Epoch 30/100\n",
      "6000/6025 [============================>.] - ETA: 0s - loss: 0.0025 - accuracy: 0.9393\n",
      "Epoch 00030: val_loss improved from 0.00249 to 0.00249, saving model to My Drive/Colab Notebooks/215-FP_Dataset/after-train.h5\n",
      "6025/6025 [==============================] - 17s 3ms/sample - loss: 0.0025 - accuracy: 0.9391 - val_loss: 0.0025 - val_accuracy: 0.9536\n",
      "Epoch 31/100\n",
      "6000/6025 [============================>.] - ETA: 0s - loss: 0.0025 - accuracy: 0.9473\n",
      "Epoch 00031: val_loss improved from 0.00249 to 0.00249, saving model to My Drive/Colab Notebooks/215-FP_Dataset/after-train.h5\n",
      "6025/6025 [==============================] - 17s 3ms/sample - loss: 0.0025 - accuracy: 0.9476 - val_loss: 0.0025 - val_accuracy: 0.9575\n",
      "Epoch 32/100\n",
      "6000/6025 [============================>.] - ETA: 0s - loss: 0.0025 - accuracy: 0.9570\n",
      "Epoch 00032: val_loss did not improve from 0.00249\n",
      "6025/6025 [==============================] - 17s 3ms/sample - loss: 0.0025 - accuracy: 0.9570 - val_loss: 0.0025 - val_accuracy: 0.9529\n",
      "Epoch 33/100\n",
      "6000/6025 [============================>.] - ETA: 0s - loss: 0.0025 - accuracy: 0.9563\n",
      "Epoch 00033: val_loss improved from 0.00249 to 0.00249, saving model to My Drive/Colab Notebooks/215-FP_Dataset/after-train.h5\n",
      "6025/6025 [==============================] - 17s 3ms/sample - loss: 0.0025 - accuracy: 0.9563 - val_loss: 0.0025 - val_accuracy: 0.9635\n",
      "Epoch 34/100\n",
      "6000/6025 [============================>.] - ETA: 0s - loss: 0.0025 - accuracy: 0.9667\n",
      "Epoch 00034: val_loss improved from 0.00249 to 0.00249, saving model to My Drive/Colab Notebooks/215-FP_Dataset/after-train.h5\n",
      "6025/6025 [==============================] - 17s 3ms/sample - loss: 0.0025 - accuracy: 0.9668 - val_loss: 0.0025 - val_accuracy: 0.9688\n",
      "Epoch 35/100\n",
      "6000/6025 [============================>.] - ETA: 0s - loss: 0.0025 - accuracy: 0.9703\n",
      "Epoch 00035: val_loss improved from 0.00249 to 0.00249, saving model to My Drive/Colab Notebooks/215-FP_Dataset/after-train.h5\n",
      "6025/6025 [==============================] - 17s 3ms/sample - loss: 0.0025 - accuracy: 0.9705 - val_loss: 0.0025 - val_accuracy: 0.9701\n",
      "Epoch 36/100\n",
      "6000/6025 [============================>.] - ETA: 0s - loss: 0.0025 - accuracy: 0.9725\n",
      "Epoch 00036: val_loss improved from 0.00249 to 0.00249, saving model to My Drive/Colab Notebooks/215-FP_Dataset/after-train.h5\n",
      "6025/6025 [==============================] - 17s 3ms/sample - loss: 0.0025 - accuracy: 0.9724 - val_loss: 0.0025 - val_accuracy: 0.9741\n",
      "Epoch 37/100\n",
      "6000/6025 [============================>.] - ETA: 0s - loss: 0.0025 - accuracy: 0.9770\n",
      "Epoch 00037: val_loss improved from 0.00249 to 0.00249, saving model to My Drive/Colab Notebooks/215-FP_Dataset/after-train.h5\n",
      "6025/6025 [==============================] - 17s 3ms/sample - loss: 0.0025 - accuracy: 0.9769 - val_loss: 0.0025 - val_accuracy: 0.9754\n",
      "Epoch 38/100\n",
      "6000/6025 [============================>.] - ETA: 0s - loss: 0.0025 - accuracy: 0.9803\n",
      "Epoch 00038: val_loss improved from 0.00249 to 0.00249, saving model to My Drive/Colab Notebooks/215-FP_Dataset/after-train.h5\n",
      "6025/6025 [==============================] - 17s 3ms/sample - loss: 0.0025 - accuracy: 0.9804 - val_loss: 0.0025 - val_accuracy: 0.9768\n",
      "Epoch 39/100\n",
      "6000/6025 [============================>.] - ETA: 0s - loss: 0.0025 - accuracy: 0.9818\n",
      "Epoch 00039: val_loss did not improve from 0.00249\n",
      "6025/6025 [==============================] - 17s 3ms/sample - loss: 0.0025 - accuracy: 0.9819 - val_loss: 0.0025 - val_accuracy: 0.9794\n",
      "Epoch 40/100\n",
      "6000/6025 [============================>.] - ETA: 0s - loss: 0.0025 - accuracy: 0.9843\n",
      "Epoch 00040: val_loss improved from 0.00249 to 0.00249, saving model to My Drive/Colab Notebooks/215-FP_Dataset/after-train.h5\n",
      "6025/6025 [==============================] - 17s 3ms/sample - loss: 0.0025 - accuracy: 0.9844 - val_loss: 0.0025 - val_accuracy: 0.9794\n",
      "Epoch 41/100\n",
      "6000/6025 [============================>.] - ETA: 0s - loss: 0.0025 - accuracy: 0.9882\n",
      "Epoch 00041: val_loss improved from 0.00249 to 0.00249, saving model to My Drive/Colab Notebooks/215-FP_Dataset/after-train.h5\n",
      "6025/6025 [==============================] - 17s 3ms/sample - loss: 0.0025 - accuracy: 0.9882 - val_loss: 0.0025 - val_accuracy: 0.9821\n",
      "Epoch 42/100\n",
      "6000/6025 [============================>.] - ETA: 0s - loss: 0.0025 - accuracy: 0.9887\n",
      "Epoch 00042: val_loss did not improve from 0.00249\n",
      "6025/6025 [==============================] - 17s 3ms/sample - loss: 0.0025 - accuracy: 0.9887 - val_loss: 0.0025 - val_accuracy: 0.9814\n",
      "Epoch 43/100\n",
      "6000/6025 [============================>.] - ETA: 0s - loss: 0.0025 - accuracy: 0.9907\n",
      "Epoch 00043: val_loss improved from 0.00249 to 0.00249, saving model to My Drive/Colab Notebooks/215-FP_Dataset/after-train.h5\n",
      "6025/6025 [==============================] - 17s 3ms/sample - loss: 0.0025 - accuracy: 0.9907 - val_loss: 0.0025 - val_accuracy: 0.9854\n",
      "Epoch 44/100\n",
      "6000/6025 [============================>.] - ETA: 0s - loss: 0.0025 - accuracy: 0.9915\n",
      "Epoch 00044: val_loss improved from 0.00249 to 0.00249, saving model to My Drive/Colab Notebooks/215-FP_Dataset/after-train.h5\n",
      "6025/6025 [==============================] - 17s 3ms/sample - loss: 0.0025 - accuracy: 0.9915 - val_loss: 0.0025 - val_accuracy: 0.9900\n",
      "Epoch 45/100\n",
      "6000/6025 [============================>.] - ETA: 0s - loss: 0.0025 - accuracy: 0.9942\n",
      "Epoch 00045: val_loss improved from 0.00249 to 0.00249, saving model to My Drive/Colab Notebooks/215-FP_Dataset/after-train.h5\n",
      "6025/6025 [==============================] - 17s 3ms/sample - loss: 0.0025 - accuracy: 0.9942 - val_loss: 0.0025 - val_accuracy: 0.9861\n",
      "Epoch 46/100\n",
      "6000/6025 [============================>.] - ETA: 0s - loss: 0.0025 - accuracy: 0.9928\n",
      "Epoch 00046: val_loss did not improve from 0.00249\n",
      "6025/6025 [==============================] - 17s 3ms/sample - loss: 0.0025 - accuracy: 0.9929 - val_loss: 0.0025 - val_accuracy: 0.9881\n",
      "Epoch 47/100\n",
      "6000/6025 [============================>.] - ETA: 0s - loss: 0.0025 - accuracy: 0.9935\n",
      "Epoch 00047: val_loss did not improve from 0.00249\n",
      "6025/6025 [==============================] - 17s 3ms/sample - loss: 0.0025 - accuracy: 0.9935 - val_loss: 0.0025 - val_accuracy: 0.9881\n",
      "Epoch 48/100\n",
      "6000/6025 [============================>.] - ETA: 0s - loss: 0.0025 - accuracy: 0.9943\n",
      "Epoch 00048: val_loss did not improve from 0.00249\n",
      "6025/6025 [==============================] - 17s 3ms/sample - loss: 0.0025 - accuracy: 0.9944 - val_loss: 0.0025 - val_accuracy: 0.9861\n",
      "Epoch 49/100\n",
      "6000/6025 [============================>.] - ETA: 0s - loss: 0.0025 - accuracy: 0.9957\n",
      "Epoch 00049: val_loss improved from 0.00249 to 0.00249, saving model to My Drive/Colab Notebooks/215-FP_Dataset/after-train.h5\n",
      "6025/6025 [==============================] - 17s 3ms/sample - loss: 0.0025 - accuracy: 0.9957 - val_loss: 0.0025 - val_accuracy: 0.9907\n",
      "Epoch 50/100\n",
      "6000/6025 [============================>.] - ETA: 0s - loss: 0.0025 - accuracy: 0.9950\n",
      "Epoch 00050: val_loss did not improve from 0.00249\n",
      "6025/6025 [==============================] - 17s 3ms/sample - loss: 0.0025 - accuracy: 0.9950 - val_loss: 0.0025 - val_accuracy: 0.9914\n",
      "Epoch 51/100\n",
      "6000/6025 [============================>.] - ETA: 0s - loss: 0.0025 - accuracy: 0.9953\n",
      "Epoch 00051: val_loss improved from 0.00249 to 0.00249, saving model to My Drive/Colab Notebooks/215-FP_Dataset/after-train.h5\n",
      "6025/6025 [==============================] - 18s 3ms/sample - loss: 0.0025 - accuracy: 0.9954 - val_loss: 0.0025 - val_accuracy: 0.9900\n",
      "Epoch 52/100\n",
      "6000/6025 [============================>.] - ETA: 0s - loss: 0.0025 - accuracy: 0.9972\n",
      "Epoch 00052: val_loss did not improve from 0.00249\n",
      "6025/6025 [==============================] - 17s 3ms/sample - loss: 0.0025 - accuracy: 0.9972 - val_loss: 0.0025 - val_accuracy: 0.9927\n",
      "Epoch 53/100\n",
      "6000/6025 [============================>.] - ETA: 0s - loss: 0.0025 - accuracy: 0.9968\n",
      "Epoch 00053: val_loss improved from 0.00249 to 0.00249, saving model to My Drive/Colab Notebooks/215-FP_Dataset/after-train.h5\n",
      "6025/6025 [==============================] - 17s 3ms/sample - loss: 0.0025 - accuracy: 0.9968 - val_loss: 0.0025 - val_accuracy: 0.9934\n",
      "Epoch 54/100\n",
      "6000/6025 [============================>.] - ETA: 0s - loss: 0.0025 - accuracy: 0.9965\n",
      "Epoch 00054: val_loss did not improve from 0.00249\n",
      "6025/6025 [==============================] - 17s 3ms/sample - loss: 0.0025 - accuracy: 0.9963 - val_loss: 0.0025 - val_accuracy: 0.9920\n",
      "Epoch 55/100\n",
      "6000/6025 [============================>.] - ETA: 0s - loss: 0.0025 - accuracy: 0.9975\n",
      "Epoch 00055: val_loss did not improve from 0.00249\n",
      "6025/6025 [==============================] - 17s 3ms/sample - loss: 0.0025 - accuracy: 0.9975 - val_loss: 0.0025 - val_accuracy: 0.9927\n",
      "Epoch 56/100\n",
      "6000/6025 [============================>.] - ETA: 0s - loss: 0.0025 - accuracy: 0.9963\n",
      "Epoch 00056: val_loss did not improve from 0.00249\n",
      "6025/6025 [==============================] - 17s 3ms/sample - loss: 0.0025 - accuracy: 0.9962 - val_loss: 0.0025 - val_accuracy: 0.9914\n",
      "Epoch 57/100\n",
      "6000/6025 [============================>.] - ETA: 0s - loss: 0.0025 - accuracy: 0.9963\n",
      "Epoch 00057: val_loss improved from 0.00249 to 0.00249, saving model to My Drive/Colab Notebooks/215-FP_Dataset/after-train.h5\n",
      "6025/6025 [==============================] - 17s 3ms/sample - loss: 0.0025 - accuracy: 0.9963 - val_loss: 0.0025 - val_accuracy: 0.9940\n",
      "Epoch 58/100\n",
      "6000/6025 [============================>.] - ETA: 0s - loss: 0.0025 - accuracy: 0.9983\n",
      "Epoch 00058: val_loss did not improve from 0.00249\n",
      "6025/6025 [==============================] - 17s 3ms/sample - loss: 0.0025 - accuracy: 0.9983 - val_loss: 0.0025 - val_accuracy: 0.9927\n",
      "Epoch 59/100\n",
      "6000/6025 [============================>.] - ETA: 0s - loss: 0.0025 - accuracy: 0.9977\n",
      "Epoch 00059: val_loss did not improve from 0.00249\n",
      "6025/6025 [==============================] - 17s 3ms/sample - loss: 0.0025 - accuracy: 0.9977 - val_loss: 0.0025 - val_accuracy: 0.9940\n",
      "Epoch 60/100\n",
      "6000/6025 [============================>.] - ETA: 0s - loss: 0.0025 - accuracy: 0.9972\n",
      "Epoch 00060: val_loss improved from 0.00249 to 0.00249, saving model to My Drive/Colab Notebooks/215-FP_Dataset/after-train.h5\n",
      "6025/6025 [==============================] - 17s 3ms/sample - loss: 0.0025 - accuracy: 0.9972 - val_loss: 0.0025 - val_accuracy: 0.9940\n",
      "Epoch 61/100\n",
      "6000/6025 [============================>.] - ETA: 0s - loss: 0.0025 - accuracy: 0.9983\n",
      "Epoch 00061: val_loss did not improve from 0.00249\n",
      "6025/6025 [==============================] - 17s 3ms/sample - loss: 0.0025 - accuracy: 0.9983 - val_loss: 0.0025 - val_accuracy: 0.9947\n",
      "Epoch 62/100\n",
      "6000/6025 [============================>.] - ETA: 0s - loss: 0.0025 - accuracy: 0.9968\n",
      "Epoch 00062: val_loss did not improve from 0.00249\n",
      "6025/6025 [==============================] - 17s 3ms/sample - loss: 0.0025 - accuracy: 0.9968 - val_loss: 0.0025 - val_accuracy: 0.9907\n",
      "Epoch 63/100\n",
      "6000/6025 [============================>.] - ETA: 0s - loss: 0.0025 - accuracy: 0.9975\n",
      "Epoch 00063: val_loss did not improve from 0.00249\n",
      "6025/6025 [==============================] - 17s 3ms/sample - loss: 0.0025 - accuracy: 0.9975 - val_loss: 0.0025 - val_accuracy: 0.9940\n",
      "Epoch 64/100\n",
      "6000/6025 [============================>.] - ETA: 0s - loss: 0.0025 - accuracy: 0.9987\n",
      "Epoch 00064: val_loss did not improve from 0.00249\n",
      "6025/6025 [==============================] - 17s 3ms/sample - loss: 0.0025 - accuracy: 0.9987 - val_loss: 0.0025 - val_accuracy: 0.9920\n",
      "Epoch 65/100\n",
      "6000/6025 [============================>.] - ETA: 0s - loss: 0.0025 - accuracy: 0.9983\n",
      "Epoch 00065: val_loss improved from 0.00249 to 0.00249, saving model to My Drive/Colab Notebooks/215-FP_Dataset/after-train.h5\n",
      "6025/6025 [==============================] - 17s 3ms/sample - loss: 0.0025 - accuracy: 0.9983 - val_loss: 0.0025 - val_accuracy: 0.9947\n",
      "Epoch 66/100\n",
      "6000/6025 [============================>.] - ETA: 0s - loss: 0.0025 - accuracy: 0.9982\n",
      "Epoch 00066: val_loss did not improve from 0.00249\n",
      "6025/6025 [==============================] - 17s 3ms/sample - loss: 0.0025 - accuracy: 0.9982 - val_loss: 0.0025 - val_accuracy: 0.9927\n",
      "Epoch 67/100\n",
      "6000/6025 [============================>.] - ETA: 0s - loss: 0.0025 - accuracy: 0.9988\n",
      "Epoch 00067: val_loss did not improve from 0.00249\n",
      "6025/6025 [==============================] - 17s 3ms/sample - loss: 0.0025 - accuracy: 0.9988 - val_loss: 0.0025 - val_accuracy: 0.9940\n",
      "Epoch 68/100\n",
      "6000/6025 [============================>.] - ETA: 0s - loss: 0.0025 - accuracy: 0.9997\n",
      "Epoch 00068: val_loss did not improve from 0.00249\n",
      "6025/6025 [==============================] - 17s 3ms/sample - loss: 0.0025 - accuracy: 0.9997 - val_loss: 0.0025 - val_accuracy: 0.9914\n",
      "Epoch 69/100\n",
      "6000/6025 [============================>.] - ETA: 0s - loss: 0.0025 - accuracy: 0.9990\n",
      "Epoch 00069: val_loss improved from 0.00249 to 0.00249, saving model to My Drive/Colab Notebooks/215-FP_Dataset/after-train.h5\n",
      "6025/6025 [==============================] - 18s 3ms/sample - loss: 0.0025 - accuracy: 0.9990 - val_loss: 0.0025 - val_accuracy: 0.9954\n",
      "Epoch 70/100\n",
      "6000/6025 [============================>.] - ETA: 0s - loss: 0.0025 - accuracy: 0.9987\n",
      "Epoch 00070: val_loss improved from 0.00249 to 0.00249, saving model to My Drive/Colab Notebooks/215-FP_Dataset/after-train.h5\n",
      "6025/6025 [==============================] - 17s 3ms/sample - loss: 0.0025 - accuracy: 0.9987 - val_loss: 0.0025 - val_accuracy: 0.9967\n",
      "Epoch 71/100\n",
      "6000/6025 [============================>.] - ETA: 0s - loss: 0.0025 - accuracy: 0.9998\n",
      "Epoch 00071: val_loss did not improve from 0.00249\n",
      "6025/6025 [==============================] - 17s 3ms/sample - loss: 0.0025 - accuracy: 0.9998 - val_loss: 0.0025 - val_accuracy: 0.9954\n",
      "Epoch 72/100\n",
      "6000/6025 [============================>.] - ETA: 0s - loss: 0.0025 - accuracy: 0.9980\n",
      "Epoch 00072: val_loss improved from 0.00249 to 0.00249, saving model to My Drive/Colab Notebooks/215-FP_Dataset/after-train.h5\n",
      "6025/6025 [==============================] - 18s 3ms/sample - loss: 0.0025 - accuracy: 0.9980 - val_loss: 0.0025 - val_accuracy: 0.9947\n",
      "Epoch 73/100\n",
      "6000/6025 [============================>.] - ETA: 0s - loss: 0.0025 - accuracy: 0.9988\n",
      "Epoch 00073: val_loss did not improve from 0.00249\n",
      "6025/6025 [==============================] - 17s 3ms/sample - loss: 0.0025 - accuracy: 0.9988 - val_loss: 0.0025 - val_accuracy: 0.9940\n",
      "Epoch 74/100\n",
      "6000/6025 [============================>.] - ETA: 0s - loss: 0.0025 - accuracy: 0.9993\n",
      "Epoch 00074: val_loss did not improve from 0.00249\n",
      "6025/6025 [==============================] - 17s 3ms/sample - loss: 0.0025 - accuracy: 0.9993 - val_loss: 0.0025 - val_accuracy: 0.9920\n",
      "Epoch 75/100\n",
      "6000/6025 [============================>.] - ETA: 0s - loss: 0.0025 - accuracy: 0.9980\n",
      "Epoch 00075: val_loss improved from 0.00249 to 0.00249, saving model to My Drive/Colab Notebooks/215-FP_Dataset/after-train.h5\n",
      "6025/6025 [==============================] - 17s 3ms/sample - loss: 0.0025 - accuracy: 0.9980 - val_loss: 0.0025 - val_accuracy: 0.9934\n",
      "Epoch 76/100\n",
      "6000/6025 [============================>.] - ETA: 0s - loss: 0.0025 - accuracy: 0.9988\n",
      "Epoch 00076: val_loss did not improve from 0.00249\n",
      "6025/6025 [==============================] - 17s 3ms/sample - loss: 0.0025 - accuracy: 0.9988 - val_loss: 0.0025 - val_accuracy: 0.9947\n",
      "Epoch 77/100\n",
      "6000/6025 [============================>.] - ETA: 0s - loss: 0.0025 - accuracy: 0.9993\n",
      "Epoch 00077: val_loss improved from 0.00249 to 0.00249, saving model to My Drive/Colab Notebooks/215-FP_Dataset/after-train.h5\n",
      "6025/6025 [==============================] - 17s 3ms/sample - loss: 0.0025 - accuracy: 0.9993 - val_loss: 0.0025 - val_accuracy: 0.9914\n",
      "Epoch 78/100\n",
      "6000/6025 [============================>.] - ETA: 0s - loss: 0.0025 - accuracy: 0.9993\n",
      "Epoch 00078: val_loss improved from 0.00249 to 0.00249, saving model to My Drive/Colab Notebooks/215-FP_Dataset/after-train.h5\n",
      "6025/6025 [==============================] - 17s 3ms/sample - loss: 0.0025 - accuracy: 0.9993 - val_loss: 0.0025 - val_accuracy: 0.9960\n",
      "Epoch 79/100\n",
      "6000/6025 [============================>.] - ETA: 0s - loss: 0.0025 - accuracy: 0.9990\n",
      "Epoch 00079: val_loss did not improve from 0.00249\n",
      "6025/6025 [==============================] - 17s 3ms/sample - loss: 0.0025 - accuracy: 0.9990 - val_loss: 0.0025 - val_accuracy: 0.9934\n",
      "Epoch 80/100\n",
      "6000/6025 [============================>.] - ETA: 0s - loss: 0.0025 - accuracy: 0.9990\n",
      "Epoch 00080: val_loss did not improve from 0.00249\n",
      "6025/6025 [==============================] - 17s 3ms/sample - loss: 0.0025 - accuracy: 0.9990 - val_loss: 0.0025 - val_accuracy: 0.9954\n",
      "Epoch 81/100\n",
      "6000/6025 [============================>.] - ETA: 0s - loss: 0.0025 - accuracy: 0.9988\n",
      "Epoch 00081: val_loss did not improve from 0.00249\n",
      "6025/6025 [==============================] - 17s 3ms/sample - loss: 0.0025 - accuracy: 0.9988 - val_loss: 0.0025 - val_accuracy: 0.9954\n",
      "Epoch 82/100\n",
      "6000/6025 [============================>.] - ETA: 0s - loss: 0.0025 - accuracy: 0.9992\n",
      "Epoch 00082: val_loss did not improve from 0.00249\n",
      "6025/6025 [==============================] - 17s 3ms/sample - loss: 0.0025 - accuracy: 0.9992 - val_loss: 0.0025 - val_accuracy: 0.9947\n",
      "Epoch 83/100\n",
      "6000/6025 [============================>.] - ETA: 0s - loss: 0.0025 - accuracy: 0.9987\n",
      "Epoch 00083: val_loss did not improve from 0.00249\n",
      "6025/6025 [==============================] - 17s 3ms/sample - loss: 0.0025 - accuracy: 0.9985 - val_loss: 0.0025 - val_accuracy: 0.9927\n",
      "Epoch 84/100\n",
      "6000/6025 [============================>.] - ETA: 0s - loss: 0.0025 - accuracy: 0.9990\n",
      "Epoch 00084: val_loss did not improve from 0.00249\n",
      "6025/6025 [==============================] - 17s 3ms/sample - loss: 0.0025 - accuracy: 0.9990 - val_loss: 0.0025 - val_accuracy: 0.9940\n",
      "Epoch 85/100\n",
      "6000/6025 [============================>.] - ETA: 0s - loss: 0.0025 - accuracy: 0.9982\n",
      "Epoch 00085: val_loss did not improve from 0.00249\n",
      "6025/6025 [==============================] - 17s 3ms/sample - loss: 0.0025 - accuracy: 0.9982 - val_loss: 0.0025 - val_accuracy: 0.9934\n",
      "Epoch 86/100\n",
      "6000/6025 [============================>.] - ETA: 0s - loss: 0.0025 - accuracy: 0.9992\n",
      "Epoch 00086: val_loss improved from 0.00249 to 0.00249, saving model to My Drive/Colab Notebooks/215-FP_Dataset/after-train.h5\n",
      "6025/6025 [==============================] - 17s 3ms/sample - loss: 0.0025 - accuracy: 0.9992 - val_loss: 0.0025 - val_accuracy: 0.9947\n",
      "Epoch 87/100\n",
      "6000/6025 [============================>.] - ETA: 0s - loss: 0.0025 - accuracy: 0.9997\n",
      "Epoch 00087: val_loss did not improve from 0.00249\n",
      "6025/6025 [==============================] - 17s 3ms/sample - loss: 0.0025 - accuracy: 0.9997 - val_loss: 0.0025 - val_accuracy: 0.9954\n",
      "Epoch 88/100\n",
      "6000/6025 [============================>.] - ETA: 0s - loss: 0.0025 - accuracy: 0.9993\n",
      "Epoch 00088: val_loss did not improve from 0.00249\n",
      "6025/6025 [==============================] - 17s 3ms/sample - loss: 0.0025 - accuracy: 0.9993 - val_loss: 0.0025 - val_accuracy: 0.9954\n",
      "Epoch 89/100\n",
      "6000/6025 [============================>.] - ETA: 0s - loss: 0.0025 - accuracy: 0.9995\n",
      "Epoch 00089: val_loss did not improve from 0.00249\n",
      "6025/6025 [==============================] - 17s 3ms/sample - loss: 0.0025 - accuracy: 0.9995 - val_loss: 0.0025 - val_accuracy: 0.9934\n",
      "Epoch 90/100\n",
      "6000/6025 [============================>.] - ETA: 0s - loss: 0.0025 - accuracy: 0.9992\n",
      "Epoch 00090: val_loss improved from 0.00249 to 0.00249, saving model to My Drive/Colab Notebooks/215-FP_Dataset/after-train.h5\n",
      "6025/6025 [==============================] - 18s 3ms/sample - loss: 0.0025 - accuracy: 0.9992 - val_loss: 0.0025 - val_accuracy: 0.9940\n",
      "Epoch 91/100\n",
      "6000/6025 [============================>.] - ETA: 0s - loss: 0.0025 - accuracy: 0.9992\n",
      "Epoch 00091: val_loss did not improve from 0.00249\n",
      "6025/6025 [==============================] - 17s 3ms/sample - loss: 0.0025 - accuracy: 0.9992 - val_loss: 0.0025 - val_accuracy: 0.9947\n",
      "Epoch 92/100\n",
      "6000/6025 [============================>.] - ETA: 0s - loss: 0.0025 - accuracy: 0.9988\n",
      "Epoch 00092: val_loss did not improve from 0.00249\n",
      "6025/6025 [==============================] - 17s 3ms/sample - loss: 0.0025 - accuracy: 0.9988 - val_loss: 0.0025 - val_accuracy: 0.9960\n",
      "Epoch 93/100\n",
      "6000/6025 [============================>.] - ETA: 0s - loss: 0.0025 - accuracy: 0.9992\n",
      "Epoch 00093: val_loss did not improve from 0.00249\n",
      "6025/6025 [==============================] - 17s 3ms/sample - loss: 0.0025 - accuracy: 0.9992 - val_loss: 0.0025 - val_accuracy: 0.9954\n",
      "Epoch 94/100\n",
      "6016/6025 [============================>.] - ETA: 0s - loss: 0.0025 - accuracy: 0.9998\n",
      "Epoch 00094: val_loss did not improve from 0.00249\n",
      "6025/6025 [==============================] - 17s 3ms/sample - loss: 0.0025 - accuracy: 0.9998 - val_loss: 0.0025 - val_accuracy: 0.9960\n",
      "Epoch 95/100\n",
      "6000/6025 [============================>.] - ETA: 0s - loss: 0.0025 - accuracy: 0.9995\n",
      "Epoch 00095: val_loss did not improve from 0.00249\n",
      "6025/6025 [==============================] - 17s 3ms/sample - loss: 0.0025 - accuracy: 0.9995 - val_loss: 0.0025 - val_accuracy: 0.9954\n",
      "Epoch 96/100\n",
      "6000/6025 [============================>.] - ETA: 0s - loss: 0.0025 - accuracy: 0.9998\n",
      "Epoch 00096: val_loss did not improve from 0.00249\n",
      "6025/6025 [==============================] - 17s 3ms/sample - loss: 0.0025 - accuracy: 0.9998 - val_loss: 0.0025 - val_accuracy: 0.9954\n",
      "Epoch 97/100\n",
      "6000/6025 [============================>.] - ETA: 0s - loss: 0.0025 - accuracy: 0.9992\n",
      "Epoch 00097: val_loss did not improve from 0.00249\n",
      "6025/6025 [==============================] - 17s 3ms/sample - loss: 0.0025 - accuracy: 0.9990 - val_loss: 0.0025 - val_accuracy: 0.9954\n",
      "Epoch 98/100\n",
      "6000/6025 [============================>.] - ETA: 0s - loss: 0.0025 - accuracy: 0.9988\n",
      "Epoch 00098: val_loss did not improve from 0.00249\n",
      "6025/6025 [==============================] - 17s 3ms/sample - loss: 0.0025 - accuracy: 0.9988 - val_loss: 0.0025 - val_accuracy: 0.9960\n",
      "Epoch 99/100\n",
      "6000/6025 [============================>.] - ETA: 0s - loss: 0.0025 - accuracy: 0.9990\n",
      "Epoch 00099: val_loss did not improve from 0.00249\n",
      "6025/6025 [==============================] - 17s 3ms/sample - loss: 0.0025 - accuracy: 0.9990 - val_loss: 0.0025 - val_accuracy: 0.9940\n",
      "Epoch 100/100\n",
      "6000/6025 [============================>.] - ETA: 0s - loss: 0.0025 - accuracy: 0.9993\n",
      "Epoch 00100: val_loss did not improve from 0.00249\n",
      "6025/6025 [==============================] - 17s 3ms/sample - loss: 0.0025 - accuracy: 0.9993 - val_loss: 0.0025 - val_accuracy: 0.9960\n"
     ]
    }
   ],
   "source": [
    "from __future__ import print_function\n",
    "from tensorflow.keras import backend as K\n",
    "from tensorflow.keras.layers import Layer\n",
    "from tensorflow.keras import activations\n",
    "from tensorflow.keras import utils\n",
    "from tensorflow.keras.models import Model\n",
    "from tensorflow.keras.layers import *\n",
    "from tensorflow.keras.preprocessing.image import ImageDataGenerator\n",
    "import numpy as np\n",
    "import keras\n",
    "from tensorflow.keras.callbacks import ModelCheckpoint\n",
    "from tensorflow.keras import optimizers\n",
    "\n",
    "K.set_image_data_format('channels_last')\n",
    "\n",
    "def squash(x, axis=-1):\n",
    "    s_squared_norm = K.sum(K.square(x), axis, keepdims=True) + K.epsilon()\n",
    "    scale = K.sqrt(s_squared_norm) / (1 + s_squared_norm)\n",
    "    return scale * x\n",
    "\n",
    "\n",
    "def softmax(x, axis=-1):\n",
    "    \n",
    "    ex = K.exp(x - K.max(x, axis=axis, keepdims=True))\n",
    "    return ex / K.sum(ex, axis=axis, keepdims=True)\n",
    "\n",
    "\n",
    "def margin_loss(y_true, y_pred):\n",
    "    \n",
    "    lamb, margin = 0.5, 0.1\n",
    "    return K.sum((y_true * K.square(K.relu(1 - margin - y_pred)) + lamb * (\n",
    "        1 - y_true) * K.square(K.relu(y_pred - margin))), axis=-1)\n",
    "\n",
    "\n",
    "class Capsule(Layer):\n",
    "   \n",
    "\n",
    "    def __init__(self,\n",
    "                 num_capsule,\n",
    "                 dim_capsule,\n",
    "                 routings=3,\n",
    "                 share_weights=True,\n",
    "                 activation='squash',\n",
    "                 **kwargs):\n",
    "        super(Capsule, self).__init__(**kwargs)\n",
    "        self.num_capsule = num_capsule\n",
    "        self.dim_capsule = dim_capsule\n",
    "        self.routings = routings\n",
    "        self.share_weights = share_weights\n",
    "        if activation == 'squash':\n",
    "            self.activation = squash\n",
    "        else:\n",
    "            self.activation = activations.get(activation)\n",
    "            \n",
    "    def get_config(self):\n",
    "        config = super().get_config().copy()\n",
    "        config.update({\n",
    "        'num_capsule':  self.num_capsule,\n",
    "        'dim_capsule' : self.dim_capsule,\n",
    "        'routings':  self.routings,\n",
    "        'share_weight':self.share_weights,\n",
    "        \n",
    "       \n",
    "           \n",
    "        })\n",
    "        return config\n",
    "\n",
    "    def build(self, input_shape):\n",
    "        input_dim_capsule = input_shape[-1]\n",
    "        if self.share_weights:\n",
    "            self.kernel = self.add_weight(\n",
    "                name='capsule_kernel',\n",
    "                shape=(1, input_dim_capsule,\n",
    "                       self.num_capsule * self.dim_capsule),\n",
    "                initializer='glorot_uniform',\n",
    "                trainable=True)\n",
    "        else:\n",
    "            input_num_capsule = input_shape[-2]\n",
    "            self.kernel = self.add_weight(\n",
    "                name='capsule_kernel',\n",
    "                shape=(input_num_capsule, input_dim_capsule,\n",
    "                       self.num_capsule * self.dim_capsule),\n",
    "                initializer='glorot_uniform',\n",
    "                trainable=True)\n",
    "\n",
    "    def call(self, inputs):\n",
    "        \n",
    "\n",
    "        if self.share_weights:\n",
    "            hat_inputs = K.conv1d(inputs, self.kernel)\n",
    "        else:\n",
    "            hat_inputs = K.local_conv1d(inputs, self.kernel, [1], [1])\n",
    "\n",
    "        batch_size = K.shape(inputs)[0]\n",
    "        input_num_capsule = K.shape(inputs)[1]\n",
    "        hat_inputs = K.reshape(hat_inputs,\n",
    "                               (batch_size, input_num_capsule,\n",
    "                                self.num_capsule, self.dim_capsule))\n",
    "        hat_inputs = K.permute_dimensions(hat_inputs, (0, 2, 1, 3))\n",
    "\n",
    "        b = K.zeros_like(hat_inputs[:, :, :, 0])\n",
    "        for i in range(self.routings):\n",
    "            c = softmax(b, 1)\n",
    "            o = self.activation(keras.backend.batch_dot(c, hat_inputs, [2, 2]))\n",
    "            if i < self.routings - 1:\n",
    "                b = keras.backend.batch_dot(o, hat_inputs, [2, 3])\n",
    "                if K.backend() == 'theano':\n",
    "                    o = K.sum(o, axis=1)\n",
    "\n",
    "        return o\n",
    "\n",
    "    def compute_output_shape(self, input_shape):\n",
    "        return (None, self.num_capsule, self.dim_capsule)\n",
    "\n",
    "\n",
    "\n",
    "\n",
    "batch_size = 16  \n",
    "num_classes = 2\n",
    "epochs = 100\n",
    "\n",
    "\n",
    "\n",
    "\n",
    "#class weights to handle class imbalance\n",
    "\n",
    "#class_weights = {0: 1-np.count_nonzero(y_train==0)/len(y_train),\n",
    "            #    1: 1-np.count_nonzero(y_train==1)/len(y_train)} \n",
    "\n",
    "\n",
    "\n",
    "input_image = Input(shape=(None, None, 3))\n",
    "x = Conv2D(64, (3, 3), activation='relu',trainable = False)(input_image)\n",
    "x=BatchNormalization(axis=-1, momentum=0.99, epsilon=0.001, center=True, scale=True, beta_initializer='zeros', gamma_initializer='ones', moving_mean_initializer='zeros', moving_variance_initializer='ones', beta_regularizer=None, gamma_regularizer=None, beta_constraint=None, gamma_constraint=None)(x)\n",
    "x = Conv2D(64, (3, 3), activation='relu',trainable = False)(x)\n",
    "x = AveragePooling2D((2, 2),trainable = False)(x)\n",
    "x = Conv2D(128, (3, 3), activation='relu',trainable = False)(x)\n",
    "x = Conv2D(128, (3, 3), activation='relu',trainable = False)(x)\n",
    "\n",
    "\n",
    "\n",
    "\n",
    "x = Reshape((-1, 128))(x)\n",
    "x = Capsule(32, 8, 3, True)(x)  \n",
    "x = Capsule(32, 8, 3, True)(x)   \n",
    "capsule = Capsule(5, 16, 3, True)(x)\n",
    "output = Lambda(lambda z: K.sqrt(K.sum(K.square(z), 2)))(capsule)\n",
    "\n",
    "\n",
    "\n",
    "\n",
    "model = Model(inputs=[input_image], outputs=[output])\n",
    "\n",
    "model.load_weights('My Drive/Colab Notebooks/215-FP_Dataset/pre-train.h5')\n",
    "\n",
    "capsule2 = Capsule(2, 16, 3, True)(model.layers[-3].output)\n",
    "output2 = Lambda(lambda z: K.sqrt(K.sum(K.square(z), 2)))(capsule2)\n",
    "\n",
    "\n",
    "model2 = Model(inputs=[input_image], outputs=[output2])\n",
    "\n",
    "\n",
    "adam = optimizers.Adam(lr=0.001) \n",
    "model.compile(loss=margin_loss, optimizer=adam, metrics=['accuracy'])\n",
    "model2.compile(loss=margin_loss, optimizer=adam, metrics=['accuracy'])\n",
    "model2.summary()\n",
    "\n",
    "data_augmentation = False\n",
    "# The best model is selected based on the loss value on the validation set\n",
    "\n",
    "\n",
    "filepath='My Drive/Colab Notebooks/215-FP_Dataset/after-train.h5'\n",
    "checkpoint = ModelCheckpoint(filepath, monitor='val_loss', verbose=1, save_best_only=True, mode='min')\n",
    "callbacks_list = [checkpoint]\n",
    "\n",
    "\n",
    "\n",
    "\n",
    "\n",
    "if not data_augmentation:\n",
    "    print('Not using data augmentation.')\n",
    "    model2.fit(\n",
    "        [x_train], [y_train],\n",
    "        batch_size=batch_size,\n",
    "        epochs=epochs,\n",
    "        validation_data=[[x_valid], [y_valid]],\n",
    "        shuffle=True,callbacks=callbacks_list)\n",
    "    \n",
    "else:\n",
    "    print('Using real-time data augmentation.')\n",
    "    # This will do preprocessing and realtime data augmentation:\n",
    "    datagen = ImageDataGenerator(\n",
    "        featurewise_center=False,  # set input mean to 0 over the dataset\n",
    "        samplewise_center=False,  # set each sample mean to 0\n",
    "        featurewise_std_normalization=False,  # divide inputs by dataset std\n",
    "        samplewise_std_normalization=False,  # divide each input by its std\n",
    "        zca_whitening=False,  # apply ZCA whitening\n",
    "        zca_epsilon=1e-06,  # epsilon for ZCA whitening\n",
    "        rotation_range=0.1,  # randomly rotate images in 0 to 180 degrees\n",
    "        width_shift_range=0.1,  # randomly shift images horizontally\n",
    "        height_shift_range=0.1,  # randomly shift images vertically\n",
    "        brightness_range=[0.5,1.5],\n",
    "        shear_range=0.1,  # set range for random shear\n",
    "        zoom_range=0.1,  # set range for random zoom\n",
    "        channel_shift_range=0.,  # set range for random chann el shifts\n",
    "        # set mode for filling points outside the input boundaries\n",
    "        fill_mode='nearest',\n",
    "        cval=0.,  # value used for fill_mode = \"constant\"\n",
    "        horizontal_flip=True,  # randomly flip images\n",
    "        vertical_flip=True,  # randomly flip images\n",
    "        # set rescaling factor (applied before any other transformation)\n",
    "        rescale=None,\n",
    "        # set function that will be applied on each input \n",
    "        preprocessing_function=None,\n",
    "        # image data format, either \"channels_first\" or \"channels_last\"\n",
    "        data_format=None,\n",
    "        # fraction of images reserved for validation (strictly between 0 and 1)\n",
    "        validation_split=0.0)\n",
    "\n",
    "    # Compute quantities required for feature-wise normalization\n",
    "    # (std, mean, and principal components if ZCA whitening is applied).\n",
    "    datagen.fit(x_train)\n",
    "\n",
    "    # Fit the model on the batches generated by datagen.flow().\n",
    "    model.fit(\n",
    "        datagen.flow(x_train, y_train, batch_size=batch_size),\n",
    "        epochs=epochs,\n",
    "        validation_data=(x_valid, y_valid),shuffle=True)"
   ]
  },
  {
   "cell_type": "code",
   "execution_count": null,
   "metadata": {
    "colab": {},
    "colab_type": "code",
    "id": "qwYVcrAjTemF"
   },
   "outputs": [],
   "source": []
  },
  {
   "cell_type": "code",
   "execution_count": null,
   "metadata": {
    "colab": {},
    "colab_type": "code",
    "id": "VdWv7dlITemI"
   },
   "outputs": [],
   "source": []
  },
  {
   "cell_type": "code",
   "execution_count": null,
   "metadata": {
    "colab": {},
    "colab_type": "code",
    "id": "vCtBKF81FprL"
   },
   "outputs": [],
   "source": [
    "batch_size = 16  \n",
    "num_classes = 2\n",
    "epochs = 100     \n",
    "\n",
    "\n",
    "\n",
    "x_test=  x_valid\n",
    "y_test=  y_valid\n",
    "\n",
    "\n",
    "\n",
    "\n",
    "\n",
    "\n",
    "\n",
    "#model: model without pre-training\n",
    "\n",
    "input_image = Input(shape=(None, None, 3))\n",
    "x = Conv2D(64, (3, 3), activation='relu')(input_image)\n",
    "x=BatchNormalization(axis=-1, momentum=0.99, epsilon=0.001, center=True, scale=True, beta_initializer='zeros', gamma_initializer='ones', moving_mean_initializer='zeros', moving_variance_initializer='ones', beta_regularizer=None, gamma_regularizer=None, beta_constraint=None, gamma_constraint=None)(x)\n",
    "x = Conv2D(64, (3, 3), activation='relu')(x)\n",
    "x = AveragePooling2D((2, 2))(x)\n",
    "x = Conv2D(128, (3, 3), activation='relu')(x)\n",
    "x = Conv2D(128, (3, 3), activation='relu')(x)\n",
    "\n",
    "\n",
    "\n",
    "\n",
    "x = Reshape((-1, 128))(x)\n",
    "x = Capsule(32, 8, 3, True)(x)  \n",
    "x = Capsule(32, 8, 3, True)(x)   \n",
    "capsule = Capsule(2, 16, 3, True)(x)\n",
    "output = Lambda(lambda z: K.sqrt(K.sum(K.square(z), 2)))(capsule)\n",
    "\n",
    "\n",
    "#model2: model with pre-training\n",
    "input_image2 = Input(shape=(None, None, 3))\n",
    "x2 = Conv2D(64, (3, 3), activation='relu')(input_image2)\n",
    "x2=BatchNormalization(axis=-1, momentum=0.99, epsilon=0.001, center=True, scale=True, beta_initializer='zeros', gamma_initializer='ones', moving_mean_initializer='zeros', moving_variance_initializer='ones', beta_regularizer=None, gamma_regularizer=None, beta_constraint=None, gamma_constraint=None)(x2)\n",
    "x2 = Conv2D(64, (3, 3), activation='relu')(x2)\n",
    "x2 = AveragePooling2D((2, 2))(x2)\n",
    "x2 = Conv2D(128, (3, 3), activation='relu')(x2)\n",
    "x2 = Conv2D(128, (3, 3), activation='relu')(x2)\n",
    "\n",
    "\n",
    "\n",
    "\n",
    "x2 = Reshape((-1, 128))(x2)\n",
    "x2 = Capsule(32, 8, 3, True)(x2)  \n",
    "x2 = Capsule(32, 8, 3, True)(x2)   \n",
    "capsule2 = Capsule(2, 16, 3, True)(x2)\n",
    "output2 = Lambda(lambda z: K.sqrt(K.sum(K.square(z), 2)))(capsule2)\n",
    "\n",
    "\n",
    "\n",
    "\n",
    "model = Model(inputs=[input_image], outputs=[output])\n",
    "model2 = Model(inputs=[input_image2], outputs=[output2])\n",
    "\n",
    "\n",
    "\n",
    "model.load_weights('My Drive/Colab Notebooks/215-FP_Dataset/after-train.h5')\n",
    "model2.load_weights('My Drive/Colab Notebooks/215-FP_Dataset/weights-improvement-binary-after-44.h5')\n",
    "\n",
    "predict=model.predict([x_test])\n",
    "predict=np.argmax(predict,axis=1)\n",
    "\n",
    "predict2=model2.predict([x_test])\n",
    "predict2=np.argmax(predict2,axis=1)\n",
    "\n",
    "\n",
    "summation1=0\n",
    "\n",
    "\n"
   ]
  },
  {
   "cell_type": "code",
   "execution_count": 47,
   "metadata": {
    "colab": {
     "base_uri": "https://localhost:8080/",
     "height": 101
    },
    "colab_type": "code",
    "id": "mTNjdCQOMvia",
    "outputId": "39c3ddb6-d15f-4868-b296-1f2d2f9448d3"
   },
   "outputs": [
    {
     "data": {
      "text/plain": [
       "array([0, 0, 0, 1, 0, 0, 0, 1, 0, 0, 0, 0, 1, 0, 0, 0, 0, 0, 0, 1, 1, 0,\n",
       "       0, 0, 1, 0, 0, 1, 0, 1, 0, 0, 1, 0, 0, 0, 0, 0, 0, 0, 1, 0, 0, 0,\n",
       "       0, 0, 1, 0, 1, 1, 0, 0, 0, 0, 1, 0, 0, 0, 0, 0, 1, 0, 0, 1, 0, 0,\n",
       "       1, 0, 0, 0, 0, 0, 1, 1, 1, 0, 1, 0, 0, 0, 1, 0, 1, 0, 1, 0, 1, 1,\n",
       "       0, 1, 1, 1, 0, 1, 0, 1, 0, 0, 1, 1])"
      ]
     },
     "execution_count": 47,
     "metadata": {
      "tags": []
     },
     "output_type": "execute_result"
    }
   ],
   "source": [
    "y_test=np.argmax(y_test,axis=1)\n",
    "y_test[0:100]"
   ]
  },
  {
   "cell_type": "code",
   "execution_count": 48,
   "metadata": {
    "colab": {
     "base_uri": "https://localhost:8080/",
     "height": 101
    },
    "colab_type": "code",
    "id": "7FfVirqhLpVv",
    "outputId": "e395edd7-d084-4ff9-b9c6-a48cbe1ec804"
   },
   "outputs": [
    {
     "data": {
      "text/plain": [
       "array([0, 0, 0, 1, 0, 0, 0, 1, 0, 0, 0, 0, 1, 0, 0, 0, 0, 0, 0, 1, 1, 0,\n",
       "       0, 0, 1, 0, 0, 1, 0, 1, 0, 0, 1, 0, 0, 0, 0, 0, 0, 0, 1, 0, 0, 0,\n",
       "       0, 0, 1, 0, 1, 1, 0, 0, 0, 0, 1, 0, 0, 0, 0, 0, 1, 0, 0, 1, 0, 0,\n",
       "       1, 0, 0, 0, 0, 0, 0, 1, 1, 0, 1, 0, 0, 0, 1, 0, 1, 0, 1, 0, 1, 1,\n",
       "       0, 1, 1, 1, 0, 1, 0, 1, 0, 0, 1, 1])"
      ]
     },
     "execution_count": 48,
     "metadata": {
      "tags": []
     },
     "output_type": "execute_result"
    }
   ],
   "source": [
    "predict[0:100]"
   ]
  },
  {
   "cell_type": "code",
   "execution_count": null,
   "metadata": {
    "colab": {},
    "colab_type": "code",
    "id": "9tUl17oSMZTi"
   },
   "outputs": [],
   "source": [
    "'''from sklearn.preprocessing import LabelEncoder\n",
    "from sklearn.preprocessing import OneHotEncoder\n",
    "predict=np.array(predict)\n",
    "label_encoder = LabelEncoder()\n",
    "predict = label_encoder.fit_transform(predict)\n",
    "predict\n",
    "\n",
    "\n",
    "\n",
    "onehot_encoder = OneHotEncoder(sparse=False)\n",
    "predict = predict.reshape(len(predict), 1)\n",
    "predict = onehot_encoder.fit_transform(predict)\n",
    "predict\n",
    "\n",
    "predict2=np.array(predict2)\n",
    "label_encoder = LabelEncoder()\n",
    "predict2 = label_encoder.fit_transform(predict2)\n",
    "predict2\n",
    "onehot_encoder = OneHotEncoder(sparse=False)\n",
    "predict2 = predict2.reshape(len(predict2), 1)\n",
    "predict2 = onehot_encoder.fit_transform(predict2)\n",
    "predict2'''\n"
   ]
  },
  {
   "cell_type": "code",
   "execution_count": null,
   "metadata": {
    "colab": {},
    "colab_type": "code",
    "id": "K9NfQOsMNH3E"
   },
   "outputs": [],
   "source": []
  },
  {
   "cell_type": "code",
   "execution_count": 63,
   "metadata": {
    "colab": {
     "base_uri": "https://localhost:8080/",
     "height": 134
    },
    "colab_type": "code",
    "id": "-gNx5spZFpuF",
    "outputId": "9a73af94-9d25-4c39-a130-214589a42b55"
   },
   "outputs": [
    {
     "name": "stdout",
     "output_type": "stream",
     "text": [
      "accurate predictions:  1498\n",
      "Total predictions to be made in testing : 1507\n",
      "accuracy :  0.9940278699402787\n",
      "specificity  :  0.9960745829244357\n",
      "sensitivity or precision  :  0.9897540983606558\n",
      "precision  :  0.9950980392156863\n",
      "f1-score  :  0.9924188748760097\n"
     ]
    }
   ],
   "source": [
    "accuracy_before=0\n",
    "specificity_before=0\n",
    "sensitivity_before=0\n",
    "precision_before=0\n",
    "f1_before=0\n",
    "newaccuracy=0\n",
    "from __future__ import print_function\n",
    "from tensorflow.keras import backend as K\n",
    "from tensorflow.keras.layers import Layer\n",
    "from tensorflow.keras import activations\n",
    "from tensorflow.keras import utils\n",
    "from tensorflow.keras.models import Model\n",
    "from tensorflow.keras.layers import *\n",
    "import numpy as np\n",
    "import keras\n",
    "from sklearn.metrics import roc_curve, auc\n",
    "from matplotlib import pyplot as plt\n",
    "\n",
    "summation1=0\n",
    "\n",
    "for i in range(len(x_test)):\n",
    "    if predict[i]==y_test[i]:\n",
    "        summation1=summation1+1\n",
    "print('accurate predictions: ',summation1) \n",
    "print('Total predictions to be made in testing :', len(x_test))     \n",
    "accuracy_before=summation1/len(x_test)\n",
    "\n",
    "\n",
    "\n",
    "summation1=0\n",
    "summation2=0\n",
    "summation3=0\n",
    "summation4=0\n",
    "\n",
    "for i in range(len(x_test)):\n",
    "    if predict[i]==y_test[i] and y_test[i]==0:\n",
    "        summation1=summation1+1\n",
    "        \n",
    "specificity_before=summation1/np.count_nonzero(y_test==0)\n",
    "\n",
    "for i in range(len(x_test)):\n",
    "    if predict[i]==y_test[i] and y_test[i]==1:\n",
    "        summation2=summation2+1\n",
    "        \n",
    "sensitivity_before=summation2/np.count_nonzero(y_test==1)\n",
    "\n",
    "for i in range(len(x_test)):\n",
    "    if predict[i]!=y_test[i] and y_test[i]==1:\n",
    "        summation3=summation3+1\n",
    "\n",
    "for i in range(len(x_test)):\n",
    "    if predict2[i]!=y_test[i] and y_test[i]==0:\n",
    "        summation4=summation4+1\n",
    "\n",
    "\n",
    "precision_before=summation1/(summation1+summation3)\n",
    "newaccuracy=((summation1+summation2)/(summation1+summation2+summation3+summation4))\n",
    "f1_before=2*((sensitivity_before*precision_before)/(sensitivity_before + precision_before))\n",
    "#print(\"TN: \",summation1,\", TP : \",summation2,\", FP:\",summation3, \", FN :\",summation4)\n",
    "print('accuracy : ',accuracy_before)\n",
    "print('specificity  : ',specificity_before)\n",
    "print('sensitivity or precision  : ',sensitivity_before)\n",
    "print('precision  : ', precision_before)\n",
    "print('f1-score  : ', f1_before)\n",
    "#print('newaccuracy : ',newaccuracy)\n",
    "\n",
    "\n"
   ]
  },
  {
   "cell_type": "code",
   "execution_count": null,
   "metadata": {
    "colab": {},
    "colab_type": "code",
    "id": "oZ8Ey_ZrFpzn"
   },
   "outputs": [],
   "source": []
  },
  {
   "cell_type": "code",
   "execution_count": null,
   "metadata": {
    "colab": {},
    "colab_type": "code",
    "id": "fSupNGyWFSxm"
   },
   "outputs": [],
   "source": []
  }
 ],
 "metadata": {
  "accelerator": "GPU",
  "colab": {
   "collapsed_sections": [],
   "machine_shape": "hm",
   "name": "Untitled6.ipynb",
   "provenance": []
  },
  "kernelspec": {
   "display_name": "Python 3",
   "language": "python",
   "name": "python3"
  },
  "language_info": {
   "codemirror_mode": {
    "name": "ipython",
    "version": 3
   },
   "file_extension": ".py",
   "mimetype": "text/x-python",
   "name": "python",
   "nbconvert_exporter": "python",
   "pygments_lexer": "ipython3",
   "version": "3.7.4"
  }
 },
 "nbformat": 4,
 "nbformat_minor": 4
}
