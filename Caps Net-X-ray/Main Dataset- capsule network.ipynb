{
 "cells": [
  {
   "cell_type": "code",
   "execution_count": 1,
   "metadata": {
    "colab": {
     "base_uri": "https://localhost:8080/",
     "height": 50
    },
    "colab_type": "code",
    "id": "hmB-sDdn3-Mp",
    "outputId": "b4ccc015-555c-4907-eeab-691a7d0bc924"
   },
   "outputs": [
    {
     "name": "stdout",
     "output_type": "stream",
     "text": [
      "Drive already mounted at /gdrive; to attempt to forcibly remount, call drive.mount(\"/gdrive\", force_remount=True).\n",
      "/gdrive\n"
     ]
    }
   ],
   "source": [
    "from google.colab import drive\n",
    "drive.mount('/gdrive')\n",
    "%cd /gdrive"
   ]
  },
  {
   "cell_type": "code",
   "execution_count": 2,
   "metadata": {
    "colab": {
     "base_uri": "https://localhost:8080/",
     "height": 151
    },
    "colab_type": "code",
    "id": "ZbF20FbL4mqj",
    "outputId": "c2d1f13a-1a50-44c7-c177-bcfe825afc2c"
   },
   "outputs": [
    {
     "name": "stdout",
     "output_type": "stream",
     "text": [
      "Requirement already satisfied: keras==2.2.4 in /usr/local/lib/python3.6/dist-packages (2.2.4)\n",
      "Requirement already satisfied: scipy>=0.14 in /usr/local/lib/python3.6/dist-packages (from keras==2.2.4) (1.4.1)\n",
      "Requirement already satisfied: keras-preprocessing>=1.0.5 in /usr/local/lib/python3.6/dist-packages (from keras==2.2.4) (1.1.0)\n",
      "Requirement already satisfied: six>=1.9.0 in /usr/local/lib/python3.6/dist-packages (from keras==2.2.4) (1.12.0)\n",
      "Requirement already satisfied: numpy>=1.9.1 in /usr/local/lib/python3.6/dist-packages (from keras==2.2.4) (1.18.3)\n",
      "Requirement already satisfied: pyyaml in /usr/local/lib/python3.6/dist-packages (from keras==2.2.4) (3.13)\n",
      "Requirement already satisfied: keras-applications>=1.0.6 in /usr/local/lib/python3.6/dist-packages (from keras==2.2.4) (1.0.8)\n",
      "Requirement already satisfied: h5py in /usr/local/lib/python3.6/dist-packages (from keras==2.2.4) (2.10.0)\n"
     ]
    }
   ],
   "source": [
    "!pip install keras==2.2.4"
   ]
  },
  {
   "cell_type": "code",
   "execution_count": 3,
   "metadata": {
    "colab": {
     "base_uri": "https://localhost:8080/",
     "height": 608
    },
    "colab_type": "code",
    "id": "2MZj32v3WAWk",
    "outputId": "7966eeb3-9598-4be4-add5-169ffa854502"
   },
   "outputs": [
    {
     "name": "stdout",
     "output_type": "stream",
     "text": [
      "Requirement already satisfied: tensorflow-gpu==2.0.0 in /usr/local/lib/python3.6/dist-packages (2.0.0)\n",
      "Requirement already satisfied: numpy<2.0,>=1.16.0 in /usr/local/lib/python3.6/dist-packages (from tensorflow-gpu==2.0.0) (1.18.3)\n",
      "Requirement already satisfied: opt-einsum>=2.3.2 in /usr/local/lib/python3.6/dist-packages (from tensorflow-gpu==2.0.0) (3.2.1)\n",
      "Requirement already satisfied: absl-py>=0.7.0 in /usr/local/lib/python3.6/dist-packages (from tensorflow-gpu==2.0.0) (0.9.0)\n",
      "Requirement already satisfied: wrapt>=1.11.1 in /usr/local/lib/python3.6/dist-packages (from tensorflow-gpu==2.0.0) (1.12.1)\n",
      "Requirement already satisfied: keras-preprocessing>=1.0.5 in /usr/local/lib/python3.6/dist-packages (from tensorflow-gpu==2.0.0) (1.1.0)\n",
      "Requirement already satisfied: six>=1.10.0 in /usr/local/lib/python3.6/dist-packages (from tensorflow-gpu==2.0.0) (1.12.0)\n",
      "Requirement already satisfied: wheel>=0.26 in /usr/local/lib/python3.6/dist-packages (from tensorflow-gpu==2.0.0) (0.34.2)\n",
      "Requirement already satisfied: tensorboard<2.1.0,>=2.0.0 in /usr/local/lib/python3.6/dist-packages (from tensorflow-gpu==2.0.0) (2.0.2)\n",
      "Requirement already satisfied: protobuf>=3.6.1 in /usr/local/lib/python3.6/dist-packages (from tensorflow-gpu==2.0.0) (3.10.0)\n",
      "Requirement already satisfied: astor>=0.6.0 in /usr/local/lib/python3.6/dist-packages (from tensorflow-gpu==2.0.0) (0.8.1)\n",
      "Requirement already satisfied: termcolor>=1.1.0 in /usr/local/lib/python3.6/dist-packages (from tensorflow-gpu==2.0.0) (1.1.0)\n",
      "Requirement already satisfied: grpcio>=1.8.6 in /usr/local/lib/python3.6/dist-packages (from tensorflow-gpu==2.0.0) (1.28.1)\n",
      "Requirement already satisfied: keras-applications>=1.0.8 in /usr/local/lib/python3.6/dist-packages (from tensorflow-gpu==2.0.0) (1.0.8)\n",
      "Requirement already satisfied: gast==0.2.2 in /usr/local/lib/python3.6/dist-packages (from tensorflow-gpu==2.0.0) (0.2.2)\n",
      "Requirement already satisfied: google-pasta>=0.1.6 in /usr/local/lib/python3.6/dist-packages (from tensorflow-gpu==2.0.0) (0.2.0)\n",
      "Requirement already satisfied: tensorflow-estimator<2.1.0,>=2.0.0 in /usr/local/lib/python3.6/dist-packages (from tensorflow-gpu==2.0.0) (2.0.1)\n",
      "Requirement already satisfied: requests<3,>=2.21.0 in /usr/local/lib/python3.6/dist-packages (from tensorboard<2.1.0,>=2.0.0->tensorflow-gpu==2.0.0) (2.21.0)\n",
      "Requirement already satisfied: werkzeug>=0.11.15 in /usr/local/lib/python3.6/dist-packages (from tensorboard<2.1.0,>=2.0.0->tensorflow-gpu==2.0.0) (1.0.1)\n",
      "Requirement already satisfied: google-auth-oauthlib<0.5,>=0.4.1 in /usr/local/lib/python3.6/dist-packages (from tensorboard<2.1.0,>=2.0.0->tensorflow-gpu==2.0.0) (0.4.1)\n",
      "Requirement already satisfied: google-auth<2,>=1.6.3 in /usr/local/lib/python3.6/dist-packages (from tensorboard<2.1.0,>=2.0.0->tensorflow-gpu==2.0.0) (1.7.2)\n",
      "Requirement already satisfied: setuptools>=41.0.0 in /usr/local/lib/python3.6/dist-packages (from tensorboard<2.1.0,>=2.0.0->tensorflow-gpu==2.0.0) (46.1.3)\n",
      "Requirement already satisfied: markdown>=2.6.8 in /usr/local/lib/python3.6/dist-packages (from tensorboard<2.1.0,>=2.0.0->tensorflow-gpu==2.0.0) (3.2.1)\n",
      "Requirement already satisfied: h5py in /usr/local/lib/python3.6/dist-packages (from keras-applications>=1.0.8->tensorflow-gpu==2.0.0) (2.10.0)\n",
      "Requirement already satisfied: chardet<3.1.0,>=3.0.2 in /usr/local/lib/python3.6/dist-packages (from requests<3,>=2.21.0->tensorboard<2.1.0,>=2.0.0->tensorflow-gpu==2.0.0) (3.0.4)\n",
      "Requirement already satisfied: certifi>=2017.4.17 in /usr/local/lib/python3.6/dist-packages (from requests<3,>=2.21.0->tensorboard<2.1.0,>=2.0.0->tensorflow-gpu==2.0.0) (2020.4.5.1)\n",
      "Requirement already satisfied: idna<2.9,>=2.5 in /usr/local/lib/python3.6/dist-packages (from requests<3,>=2.21.0->tensorboard<2.1.0,>=2.0.0->tensorflow-gpu==2.0.0) (2.8)\n",
      "Requirement already satisfied: urllib3<1.25,>=1.21.1 in /usr/local/lib/python3.6/dist-packages (from requests<3,>=2.21.0->tensorboard<2.1.0,>=2.0.0->tensorflow-gpu==2.0.0) (1.24.3)\n",
      "Requirement already satisfied: requests-oauthlib>=0.7.0 in /usr/local/lib/python3.6/dist-packages (from google-auth-oauthlib<0.5,>=0.4.1->tensorboard<2.1.0,>=2.0.0->tensorflow-gpu==2.0.0) (1.3.0)\n",
      "Requirement already satisfied: pyasn1-modules>=0.2.1 in /usr/local/lib/python3.6/dist-packages (from google-auth<2,>=1.6.3->tensorboard<2.1.0,>=2.0.0->tensorflow-gpu==2.0.0) (0.2.8)\n",
      "Requirement already satisfied: cachetools<3.2,>=2.0.0 in /usr/local/lib/python3.6/dist-packages (from google-auth<2,>=1.6.3->tensorboard<2.1.0,>=2.0.0->tensorflow-gpu==2.0.0) (3.1.1)\n",
      "Requirement already satisfied: rsa<4.1,>=3.1.4 in /usr/local/lib/python3.6/dist-packages (from google-auth<2,>=1.6.3->tensorboard<2.1.0,>=2.0.0->tensorflow-gpu==2.0.0) (4.0)\n",
      "Requirement already satisfied: oauthlib>=3.0.0 in /usr/local/lib/python3.6/dist-packages (from requests-oauthlib>=0.7.0->google-auth-oauthlib<0.5,>=0.4.1->tensorboard<2.1.0,>=2.0.0->tensorflow-gpu==2.0.0) (3.1.0)\n",
      "Requirement already satisfied: pyasn1<0.5.0,>=0.4.6 in /usr/local/lib/python3.6/dist-packages (from pyasn1-modules>=0.2.1->google-auth<2,>=1.6.3->tensorboard<2.1.0,>=2.0.0->tensorflow-gpu==2.0.0) (0.4.8)\n"
     ]
    }
   ],
   "source": [
    "!pip install tensorflow-gpu==2.0.0"
   ]
  },
  {
   "cell_type": "code",
   "execution_count": 6,
   "metadata": {
    "colab": {
     "base_uri": "https://localhost:8080/",
     "height": 34
    },
    "colab_type": "code",
    "id": "Rr-J1I4A4eZD",
    "outputId": "fab18801-9e6b-4456-cd84-b2a714bef19e"
   },
   "outputs": [
    {
     "name": "stderr",
     "output_type": "stream",
     "text": [
      "Using TensorFlow backend.\n"
     ]
    }
   ],
   "source": [
    "from keras.preprocessing.image import ImageDataGenerator\n",
    "from keras.preprocessing.image import img_to_array\n",
    "from keras.preprocessing.image import load_img\n",
    "import numpy as np\n",
    "import argparse\n",
    "import cv2\n",
    "import os\n",
    "from imutils import paths"
   ]
  },
  {
   "cell_type": "code",
   "execution_count": null,
   "metadata": {
    "colab": {},
    "colab_type": "code",
    "id": "gdyaxM6T4ebu"
   },
   "outputs": [],
   "source": [
    "from tensorflow.keras.preprocessing.image import ImageDataGenerator\n",
    "from tensorflow.keras.applications import VGG16\n",
    "from tensorflow.keras.applications.resnet_v2 import ResNet152V2\n",
    "from tensorflow.keras.layers import AveragePooling2D\n",
    "from tensorflow.keras.layers import Dropout\n",
    "from tensorflow.keras.layers import Flatten\n",
    "from tensorflow.keras.layers import Dense\n",
    "from tensorflow.keras.layers import Input\n",
    "from tensorflow.keras.models import Model\n",
    "from tensorflow.keras.optimizers import Adam\n",
    "from tensorflow.keras.utils import to_categorical\n",
    "from sklearn.preprocessing import LabelBinarizer\n",
    "from sklearn.model_selection import train_test_split\n",
    "from sklearn.metrics import classification_report\n",
    "from sklearn.metrics import confusion_matrix\n",
    "from imutils import paths\n",
    "import matplotlib.pyplot as plt\n",
    "import numpy as np\n",
    "import argparse\n",
    "import cv2\n",
    "import os"
   ]
  },
  {
   "cell_type": "code",
   "execution_count": null,
   "metadata": {
    "colab": {},
    "colab_type": "code",
    "id": "pnZrE-z5UmjF"
   },
   "outputs": [],
   "source": []
  },
  {
   "cell_type": "code",
   "execution_count": null,
   "metadata": {
    "colab": {},
    "colab_type": "code",
    "id": "HJyqUdRs4eTm"
   },
   "outputs": [],
   "source": [
    "import numpy as np\n",
    "x_train=np.load('My Drive/Colab Notebooks/hi/x_train2.npy')"
   ]
  },
  {
   "cell_type": "code",
   "execution_count": null,
   "metadata": {
    "colab": {
     "base_uri": "https://localhost:8080/",
     "height": 34
    },
    "colab_type": "code",
    "id": "EYpbJRa14eWM",
    "outputId": "0aa3ba8b-9ad5-4b60-d41e-a00ec6ec9e5d"
   },
   "outputs": [
    {
     "data": {
      "text/plain": [
       "(1616, 224, 224, 3)"
      ]
     },
     "execution_count": 6,
     "metadata": {
      "tags": []
     },
     "output_type": "execute_result"
    }
   ],
   "source": [
    "x_train.shape"
   ]
  },
  {
   "cell_type": "code",
   "execution_count": null,
   "metadata": {
    "colab": {},
    "colab_type": "code",
    "id": "aJCSbx8N7kMk"
   },
   "outputs": [],
   "source": [
    "for i in range(3,7):\n",
    " x=np.load('My Drive/Colab Notebooks/hi/x_train{}.npy'.format(i))\n",
    " x_train=np.vstack((x_train,x))"
   ]
  },
  {
   "cell_type": "code",
   "execution_count": 10,
   "metadata": {
    "colab": {
     "base_uri": "https://localhost:8080/",
     "height": 34
    },
    "colab_type": "code",
    "id": "2dghXjCoYvpn",
    "outputId": "44bbdc8b-629d-4a6f-9d0a-e5f665980ad0"
   },
   "outputs": [
    {
     "data": {
      "text/plain": [
       "(8016, 224, 224, 3)"
      ]
     },
     "execution_count": 10,
     "metadata": {
      "tags": []
     },
     "output_type": "execute_result"
    }
   ],
   "source": [
    "x_train.shape"
   ]
  },
  {
   "cell_type": "code",
   "execution_count": null,
   "metadata": {
    "colab": {},
    "colab_type": "code",
    "id": "jCz5ZcMH7kPU"
   },
   "outputs": [],
   "source": [
    "for i in range(7,11):\n",
    " x=np.load('My Drive/Colab Notebooks/hi/x_train{}.npy'.format(i))\n",
    " x_train=np.vstack((x_train,x))"
   ]
  },
  {
   "cell_type": "code",
   "execution_count": 12,
   "metadata": {
    "colab": {
     "base_uri": "https://localhost:8080/",
     "height": 34
    },
    "colab_type": "code",
    "id": "YCssYTro7p7t",
    "outputId": "8029ef79-7b11-405b-8d45-4cb003c88bc3"
   },
   "outputs": [
    {
     "data": {
      "text/plain": [
       "(13432, 224, 224, 3)"
      ]
     },
     "execution_count": 12,
     "metadata": {
      "tags": []
     },
     "output_type": "execute_result"
    }
   ],
   "source": [
    "x_train.shape"
   ]
  },
  {
   "cell_type": "code",
   "execution_count": null,
   "metadata": {
    "colab": {},
    "colab_type": "code",
    "id": "SG1YpcvY7p-Y"
   },
   "outputs": [],
   "source": [
    "for i in range(3,11):\n",
    " y=np.load('My Drive/Colab Notebooks/hi/y_train{}.npy'.format(i))\n",
    " y_train=np.vstack((y_train,y))"
   ]
  },
  {
   "cell_type": "code",
   "execution_count": null,
   "metadata": {
    "colab": {},
    "colab_type": "code",
    "id": "xfhA9Rc1XZZj"
   },
   "outputs": [],
   "source": []
  },
  {
   "cell_type": "code",
   "execution_count": null,
   "metadata": {
    "colab": {},
    "colab_type": "code",
    "id": "BtxVdBKzUXTb"
   },
   "outputs": [],
   "source": [
    "y_train2=np.argmax(y_train,axis=1)\n",
    "y_valid2=np.argmax(y_valid,axis=1)"
   ]
  },
  {
   "cell_type": "code",
   "execution_count": null,
   "metadata": {
    "colab": {
     "base_uri": "https://localhost:8080/",
     "height": 34
    },
    "colab_type": "code",
    "id": "G4TCKhr6WF4S",
    "outputId": "abd6cd8a-4169-4c66-db0a-e57ddf1b2744"
   },
   "outputs": [
    {
     "data": {
      "text/plain": [
       "array([0, 2, 0, ..., 2, 0, 0])"
      ]
     },
     "execution_count": 114,
     "metadata": {
      "tags": []
     },
     "output_type": "execute_result"
    }
   ],
   "source": [
    "y_train2"
   ]
  },
  {
   "cell_type": "code",
   "execution_count": null,
   "metadata": {
    "colab": {
     "base_uri": "https://localhost:8080/",
     "height": 185
    },
    "colab_type": "code",
    "id": "7H1stV4FWfRb",
    "outputId": "7d5ea042-2c6c-4371-ad82-db0462e8452c"
   },
   "outputs": [
    {
     "data": {
      "text/plain": [
       "array([1, 0, 0, 2, 0, 2, 1, 0, 2, 2, 0, 1, 0, 0, 0, 0, 0, 2, 1, 0, 2, 1,\n",
       "       1, 0, 1, 2, 0, 0, 1, 0, 2, 0, 1, 1, 1, 0, 1, 2, 1, 2, 2, 0, 0, 0,\n",
       "       0, 2, 1, 0, 2, 0, 2, 0, 1, 1, 0, 1, 1, 2, 0, 1, 0, 0, 2, 1, 0, 2,\n",
       "       1, 1, 1, 2, 1, 1, 1, 2, 1, 2, 0, 1, 0, 0, 2, 1, 2, 1, 1, 0, 1, 1,\n",
       "       2, 1, 0, 2, 1, 0, 0, 0, 2, 1, 1, 0, 1, 2, 0, 0, 1, 0, 2, 1, 2, 1,\n",
       "       0, 1, 1, 1, 1, 2, 2, 0, 1, 0, 1, 1, 0, 2, 0, 2, 1, 0, 1, 2, 1, 0,\n",
       "       2, 1, 1, 1, 1, 0, 2, 0, 2, 1, 1, 0, 1, 2, 1, 0, 1, 0, 0, 2, 0, 2,\n",
       "       0, 1, 1, 0, 2, 0, 2, 1, 1, 0, 0, 2, 0, 1, 1, 1, 1, 2, 2, 0, 1, 0,\n",
       "       0, 0, 1, 2, 1, 2, 1, 0, 0, 2, 0, 0, 1, 2, 1, 0, 0, 2, 1, 1, 1, 2,\n",
       "       1, 0])"
      ]
     },
     "execution_count": 115,
     "metadata": {
      "tags": []
     },
     "output_type": "execute_result"
    }
   ],
   "source": [
    "y_valid2"
   ]
  },
  {
   "cell_type": "code",
   "execution_count": null,
   "metadata": {
    "colab": {
     "base_uri": "https://localhost:8080/",
     "height": 34
    },
    "colab_type": "code",
    "id": "8iswNA9RUXWa",
    "outputId": "46a848e4-2931-43a9-dfa7-c5b059299ee3"
   },
   "outputs": [
    {
     "data": {
      "text/plain": [
       "50"
      ]
     },
     "execution_count": 116,
     "metadata": {
      "tags": []
     },
     "output_type": "execute_result"
    }
   ],
   "source": [
    "summation1=0\n",
    "for i in range(len(y_valid)):\n",
    "    if y_valid2[i]==2:\n",
    "        summation1=summation1+1\n",
    "summation1"
   ]
  },
  {
   "cell_type": "code",
   "execution_count": null,
   "metadata": {
    "colab": {
     "base_uri": "https://localhost:8080/",
     "height": 34
    },
    "colab_type": "code",
    "id": "QvAsViYQWu0q",
    "outputId": "3068019b-8622-4274-e120-59640e080509"
   },
   "outputs": [
    {
     "data": {
      "text/plain": [
       "200"
      ]
     },
     "execution_count": 117,
     "metadata": {
      "tags": []
     },
     "output_type": "execute_result"
    }
   ],
   "source": [
    "len(y_valid)"
   ]
  },
  {
   "cell_type": "code",
   "execution_count": null,
   "metadata": {
    "colab": {
     "base_uri": "https://localhost:8080/",
     "height": 34
    },
    "colab_type": "code",
    "id": "kxgrGdr4UXaG",
    "outputId": "ab76b011-4cb9-4763-f9c5-3bba7fd186b6"
   },
   "outputs": [
    {
     "data": {
      "text/plain": [
       "3358"
      ]
     },
     "execution_count": 118,
     "metadata": {
      "tags": []
     },
     "output_type": "execute_result"
    }
   ],
   "source": [
    "summation2=0\n",
    "for i in range(len(y_train)):\n",
    "    if y_train2[i]==2:\n",
    "        summation2=summation2+1\n",
    "summation2"
   ]
  },
  {
   "cell_type": "code",
   "execution_count": null,
   "metadata": {
    "colab": {},
    "colab_type": "code",
    "id": "zkZXjcnrUXdY"
   },
   "outputs": [],
   "source": [
    "for i in range(len(y_train2)):\n",
    "  if(y_train2[i]==1):\n",
    "    y_train2[i]=0"
   ]
  },
  {
   "cell_type": "code",
   "execution_count": null,
   "metadata": {
    "colab": {},
    "colab_type": "code",
    "id": "J4Qx8tRRVW3a"
   },
   "outputs": [],
   "source": [
    "for i in range(len(y_train2)):\n",
    "  if(y_train2[i]==2):\n",
    "    y_train2[i]=1"
   ]
  },
  {
   "cell_type": "code",
   "execution_count": null,
   "metadata": {
    "colab": {
     "base_uri": "https://localhost:8080/",
     "height": 34
    },
    "colab_type": "code",
    "id": "ChjIjttHYGD7",
    "outputId": "7e33a0b6-3acb-410c-8d0e-d2075a9b0138"
   },
   "outputs": [
    {
     "data": {
      "text/plain": [
       "3358"
      ]
     },
     "execution_count": 121,
     "metadata": {
      "tags": []
     },
     "output_type": "execute_result"
    }
   ],
   "source": [
    "summation2=0\n",
    "for i in range(len(y_train)):\n",
    "    if y_train2[i]==1:\n",
    "        summation2=summation2+1\n",
    "summation2"
   ]
  },
  {
   "cell_type": "code",
   "execution_count": null,
   "metadata": {
    "colab": {},
    "colab_type": "code",
    "id": "Y6B9kA3Keo9y"
   },
   "outputs": [],
   "source": [
    "for i in range(len(y_valid2)):\n",
    "  if(y_valid2[i]==1):\n",
    "    y_valid2[i]=0"
   ]
  },
  {
   "cell_type": "code",
   "execution_count": null,
   "metadata": {
    "colab": {},
    "colab_type": "code",
    "id": "deTG8UosepEz"
   },
   "outputs": [],
   "source": [
    "for i in range(len(y_valid2)):\n",
    "  if(y_valid2[i]==2):\n",
    "    y_valid2[i]=1"
   ]
  },
  {
   "cell_type": "code",
   "execution_count": null,
   "metadata": {
    "colab": {
     "base_uri": "https://localhost:8080/",
     "height": 34
    },
    "colab_type": "code",
    "id": "j9wszd_vepIK",
    "outputId": "d6a962d4-8352-4925-8103-0cc183dd759b"
   },
   "outputs": [
    {
     "data": {
      "text/plain": [
       "(200,)"
      ]
     },
     "execution_count": 124,
     "metadata": {
      "tags": []
     },
     "output_type": "execute_result"
    }
   ],
   "source": [
    "y_valid2.shape"
   ]
  },
  {
   "cell_type": "code",
   "execution_count": null,
   "metadata": {
    "colab": {
     "base_uri": "https://localhost:8080/",
     "height": 185
    },
    "colab_type": "code",
    "id": "YmhPM27pepBd",
    "outputId": "63b7302f-1518-4ebe-c36e-2f32daf5a6d0"
   },
   "outputs": [
    {
     "data": {
      "text/plain": [
       "array([0, 0, 0, 1, 0, 1, 0, 0, 1, 1, 0, 0, 0, 0, 0, 0, 0, 1, 0, 0, 1, 0,\n",
       "       0, 0, 0, 1, 0, 0, 0, 0, 1, 0, 0, 0, 0, 0, 0, 1, 0, 1, 1, 0, 0, 0,\n",
       "       0, 1, 0, 0, 1, 0, 1, 0, 0, 0, 0, 0, 0, 1, 0, 0, 0, 0, 1, 0, 0, 1,\n",
       "       0, 0, 0, 1, 0, 0, 0, 1, 0, 1, 0, 0, 0, 0, 1, 0, 1, 0, 0, 0, 0, 0,\n",
       "       1, 0, 0, 1, 0, 0, 0, 0, 1, 0, 0, 0, 0, 1, 0, 0, 0, 0, 1, 0, 1, 0,\n",
       "       0, 0, 0, 0, 0, 1, 1, 0, 0, 0, 0, 0, 0, 1, 0, 1, 0, 0, 0, 1, 0, 0,\n",
       "       1, 0, 0, 0, 0, 0, 1, 0, 1, 0, 0, 0, 0, 1, 0, 0, 0, 0, 0, 1, 0, 1,\n",
       "       0, 0, 0, 0, 1, 0, 1, 0, 0, 0, 0, 1, 0, 0, 0, 0, 0, 1, 1, 0, 0, 0,\n",
       "       0, 0, 0, 1, 0, 1, 0, 0, 0, 1, 0, 0, 0, 1, 0, 0, 0, 1, 0, 0, 0, 1,\n",
       "       0, 0])"
      ]
     },
     "execution_count": 125,
     "metadata": {
      "tags": []
     },
     "output_type": "execute_result"
    }
   ],
   "source": [
    "y_valid2"
   ]
  },
  {
   "cell_type": "code",
   "execution_count": null,
   "metadata": {
    "colab": {},
    "colab_type": "code",
    "id": "ZuPznh_-YGGq"
   },
   "outputs": [],
   "source": [
    "from tensorflow import keras\n",
    "y_train2=keras.utils.to_categorical(y_train2, num_classes=2)\n"
   ]
  },
  {
   "cell_type": "code",
   "execution_count": null,
   "metadata": {
    "colab": {},
    "colab_type": "code",
    "id": "7FqRThyujtUY"
   },
   "outputs": [],
   "source": [
    "y_valid2=keras.utils.to_categorical(y_valid2, num_classes=2)"
   ]
  },
  {
   "cell_type": "code",
   "execution_count": null,
   "metadata": {
    "colab": {
     "base_uri": "https://localhost:8080/",
     "height": 34
    },
    "colab_type": "code",
    "id": "o6gXhPFZdSx4",
    "outputId": "d9d0f7cc-b9c7-4307-d27d-22a3fad3b68b"
   },
   "outputs": [
    {
     "data": {
      "text/plain": [
       "(13432, 2)"
      ]
     },
     "execution_count": 137,
     "metadata": {
      "tags": []
     },
     "output_type": "execute_result"
    }
   ],
   "source": [
    "y_train2.shape"
   ]
  },
  {
   "cell_type": "code",
   "execution_count": null,
   "metadata": {
    "colab": {
     "base_uri": "https://localhost:8080/",
     "height": 34
    },
    "colab_type": "code",
    "id": "zSq4i9JKc8TF",
    "outputId": "844b0cde-6178-4dc3-cef2-a5a88697aaa1"
   },
   "outputs": [
    {
     "data": {
      "text/plain": [
       "(200, 2)"
      ]
     },
     "execution_count": 136,
     "metadata": {
      "tags": []
     },
     "output_type": "execute_result"
    }
   ],
   "source": [
    "y_valid2.shape"
   ]
  },
  {
   "cell_type": "code",
   "execution_count": null,
   "metadata": {
    "colab": {},
    "colab_type": "code",
    "id": "PnYzmGG-YUCu"
   },
   "outputs": [],
   "source": [
    "y_valid=y_valid2"
   ]
  },
  {
   "cell_type": "code",
   "execution_count": null,
   "metadata": {
    "colab": {},
    "colab_type": "code",
    "id": "ULP2eDXNVZ7z"
   },
   "outputs": [],
   "source": [
    "y_train=y_train2"
   ]
  },
  {
   "cell_type": "code",
   "execution_count": null,
   "metadata": {
    "colab": {},
    "colab_type": "code",
    "id": "JY_KwZwzBuzc"
   },
   "outputs": [],
   "source": []
  },
  {
   "cell_type": "code",
   "execution_count": null,
   "metadata": {
    "colab": {},
    "colab_type": "code",
    "id": "CVhL2Qh6W274"
   },
   "outputs": [],
   "source": [
    "np.save('My Drive/Colab Notebooks/hi/y_valid',y_valid)"
   ]
  },
  {
   "cell_type": "code",
   "execution_count": null,
   "metadata": {
    "colab": {},
    "colab_type": "code",
    "id": "Fdl_YacKW3EE"
   },
   "outputs": [],
   "source": [
    "np.save('My Drive/Colab Notebooks/hi/y_train',y_train)"
   ]
  },
  {
   "cell_type": "code",
   "execution_count": null,
   "metadata": {
    "colab": {},
    "colab_type": "code",
    "id": "p68yrOawW3G8"
   },
   "outputs": [],
   "source": [
    "np.save('My Drive/Colab Notebooks/hi/x_valid',x_valid)"
   ]
  },
  {
   "cell_type": "code",
   "execution_count": null,
   "metadata": {
    "colab": {},
    "colab_type": "code",
    "id": "g2C2prB2W3PL"
   },
   "outputs": [],
   "source": [
    "np.save('My Drive/Colab Notebooks/hi/x_train',x_train)"
   ]
  },
  {
   "cell_type": "code",
   "execution_count": null,
   "metadata": {
    "colab": {},
    "colab_type": "code",
    "id": "fvZ-VAKDBwJn"
   },
   "outputs": [],
   "source": []
  },
  {
   "cell_type": "code",
   "execution_count": null,
   "metadata": {
    "colab": {},
    "colab_type": "code",
    "id": "F5vKRiGMXZiY"
   },
   "outputs": [],
   "source": [
    "x_train=np.load('My Drive/Colab Notebooks/hi/x_train.npy')"
   ]
  },
  {
   "cell_type": "code",
   "execution_count": null,
   "metadata": {
    "colab": {},
    "colab_type": "code",
    "id": "bvjfwVDjXZlQ"
   },
   "outputs": [],
   "source": [
    "y_train=np.load('My Drive/Colab Notebooks/hi/y_train.npy')"
   ]
  },
  {
   "cell_type": "code",
   "execution_count": null,
   "metadata": {
    "colab": {},
    "colab_type": "code",
    "id": "UUOm5Vxq7kSD"
   },
   "outputs": [],
   "source": [
    "x_valid=np.load('My Drive/Colab Notebooks/hi/x_valid.npy')"
   ]
  },
  {
   "cell_type": "code",
   "execution_count": null,
   "metadata": {
    "colab": {},
    "colab_type": "code",
    "id": "l7AkfuaP7tPT"
   },
   "outputs": [],
   "source": [
    "y_valid=np.load('My Drive/Colab Notebooks/hi/y_valid.npy')\n"
   ]
  },
  {
   "cell_type": "code",
   "execution_count": null,
   "metadata": {
    "colab": {},
    "colab_type": "code",
    "id": "QqESJmKCrg52"
   },
   "outputs": [],
   "source": []
  },
  {
   "cell_type": "code",
   "execution_count": 34,
   "metadata": {
    "colab": {
     "base_uri": "https://localhost:8080/",
     "height": 1000
    },
    "colab_type": "code",
    "id": "aO3KVakR7tUr",
    "outputId": "5060b236-b43f-4af4-c91e-ba3892b64a77"
   },
   "outputs": [
    {
     "name": "stdout",
     "output_type": "stream",
     "text": [
      "Model: \"model_3\"\n",
      "_________________________________________________________________\n",
      "Layer (type)                 Output Shape              Param #   \n",
      "=================================================================\n",
      "input_2 (InputLayer)         [(None, None, None, 3)]   0         \n",
      "_________________________________________________________________\n",
      "conv2d_4 (Conv2D)            (None, None, None, 64)    1792      \n",
      "_________________________________________________________________\n",
      "batch_normalization_1 (Batch (None, None, None, 64)    256       \n",
      "_________________________________________________________________\n",
      "conv2d_5 (Conv2D)            (None, None, None, 64)    36928     \n",
      "_________________________________________________________________\n",
      "average_pooling2d_1 (Average (None, None, None, 64)    0         \n",
      "_________________________________________________________________\n",
      "conv2d_6 (Conv2D)            (None, None, None, 128)   73856     \n",
      "_________________________________________________________________\n",
      "conv2d_7 (Conv2D)            (None, None, None, 128)   147584    \n",
      "_________________________________________________________________\n",
      "reshape_1 (Reshape)          (None, None, 128)         0         \n",
      "_________________________________________________________________\n",
      "capsule_4 (Capsule)          (None, 32, 8)             32768     \n",
      "_________________________________________________________________\n",
      "capsule_5 (Capsule)          (None, 32, 8)             2048      \n",
      "_________________________________________________________________\n",
      "capsule_7 (Capsule)          (None, 2, 16)             256       \n",
      "_________________________________________________________________\n",
      "lambda_3 (Lambda)            (None, 2)                 0         \n",
      "=================================================================\n",
      "Total params: 295,488\n",
      "Trainable params: 35,200\n",
      "Non-trainable params: 260,288\n",
      "_________________________________________________________________\n",
      "Not using data augmentation.\n",
      "Train on 13432 samples, validate on 200 samples\n",
      "Epoch 1/100\n",
      "13424/13432 [============================>.] - ETA: 0s - loss: 0.1768 - accuracy: 0.7479\n",
      "Epoch 00001: val_loss improved from inf to 0.15127, saving model to My Drive/Colab Notebooks/after-train.h5\n",
      "13432/13432 [==============================] - 102s 8ms/sample - loss: 0.1768 - accuracy: 0.7479 - val_loss: 0.1513 - val_accuracy: 0.7500\n",
      "Epoch 2/100\n",
      "13424/13432 [============================>.] - ETA: 0s - loss: 0.1531 - accuracy: 0.7601\n",
      "Epoch 00002: val_loss improved from 0.15127 to 0.13522, saving model to My Drive/Colab Notebooks/after-train.h5\n",
      "13432/13432 [==============================] - 98s 7ms/sample - loss: 0.1530 - accuracy: 0.7601 - val_loss: 0.1352 - val_accuracy: 0.7600\n",
      "Epoch 3/100\n",
      "13424/13432 [============================>.] - ETA: 0s - loss: 0.1356 - accuracy: 0.7910\n",
      "Epoch 00003: val_loss did not improve from 0.13522\n",
      "13432/13432 [==============================] - 98s 7ms/sample - loss: 0.1356 - accuracy: 0.7910 - val_loss: 0.1357 - val_accuracy: 0.7800\n",
      "Epoch 4/100\n",
      "13424/13432 [============================>.] - ETA: 0s - loss: 0.1300 - accuracy: 0.7983\n",
      "Epoch 00004: val_loss improved from 0.13522 to 0.12870, saving model to My Drive/Colab Notebooks/after-train.h5\n",
      "13432/13432 [==============================] - 98s 7ms/sample - loss: 0.1299 - accuracy: 0.7984 - val_loss: 0.1287 - val_accuracy: 0.7750\n",
      "Epoch 5/100\n",
      "13424/13432 [============================>.] - ETA: 0s - loss: 0.1258 - accuracy: 0.8065\n",
      "Epoch 00005: val_loss did not improve from 0.12870\n",
      "13432/13432 [==============================] - 97s 7ms/sample - loss: 0.1258 - accuracy: 0.8066 - val_loss: 0.1293 - val_accuracy: 0.7700\n",
      "Epoch 6/100\n",
      "13424/13432 [============================>.] - ETA: 0s - loss: 0.1241 - accuracy: 0.8094\n",
      "Epoch 00006: val_loss did not improve from 0.12870\n",
      "13432/13432 [==============================] - 98s 7ms/sample - loss: 0.1241 - accuracy: 0.8094 - val_loss: 0.1422 - val_accuracy: 0.7750\n",
      "Epoch 7/100\n",
      "13424/13432 [============================>.] - ETA: 0s - loss: 0.1241 - accuracy: 0.8106\n",
      "Epoch 00007: val_loss improved from 0.12870 to 0.11802, saving model to My Drive/Colab Notebooks/after-train.h5\n",
      "13432/13432 [==============================] - 98s 7ms/sample - loss: 0.1241 - accuracy: 0.8108 - val_loss: 0.1180 - val_accuracy: 0.8050\n",
      "Epoch 8/100\n",
      "13424/13432 [============================>.] - ETA: 0s - loss: 0.1182 - accuracy: 0.8181\n",
      "Epoch 00008: val_loss did not improve from 0.11802\n",
      "13432/13432 [==============================] - 97s 7ms/sample - loss: 0.1182 - accuracy: 0.8180 - val_loss: 0.1200 - val_accuracy: 0.7900\n",
      "Epoch 9/100\n",
      "13424/13432 [============================>.] - ETA: 0s - loss: 0.1174 - accuracy: 0.8202\n",
      "Epoch 00009: val_loss improved from 0.11802 to 0.11238, saving model to My Drive/Colab Notebooks/after-train.h5\n",
      "13432/13432 [==============================] - 98s 7ms/sample - loss: 0.1174 - accuracy: 0.8203 - val_loss: 0.1124 - val_accuracy: 0.8000\n",
      "Epoch 10/100\n",
      "13424/13432 [============================>.] - ETA: 0s - loss: 0.1150 - accuracy: 0.8235\n",
      "Epoch 00010: val_loss did not improve from 0.11238\n",
      "13432/13432 [==============================] - 98s 7ms/sample - loss: 0.1150 - accuracy: 0.8235 - val_loss: 0.1140 - val_accuracy: 0.8200\n",
      "Epoch 11/100\n",
      "13424/13432 [============================>.] - ETA: 0s - loss: 0.1109 - accuracy: 0.8303\n",
      "Epoch 00011: val_loss did not improve from 0.11238\n",
      "13432/13432 [==============================] - 98s 7ms/sample - loss: 0.1110 - accuracy: 0.8302 - val_loss: 0.1222 - val_accuracy: 0.7750\n",
      "Epoch 12/100\n",
      "13424/13432 [============================>.] - ETA: 0s - loss: 0.1102 - accuracy: 0.8318\n",
      "Epoch 00012: val_loss improved from 0.11238 to 0.10317, saving model to My Drive/Colab Notebooks/after-train.h5\n",
      "13432/13432 [==============================] - 98s 7ms/sample - loss: 0.1102 - accuracy: 0.8318 - val_loss: 0.1032 - val_accuracy: 0.8450\n",
      "Epoch 13/100\n",
      "13424/13432 [============================>.] - ETA: 0s - loss: 0.1076 - accuracy: 0.8360\n",
      "Epoch 00013: val_loss did not improve from 0.10317\n",
      "13432/13432 [==============================] - 97s 7ms/sample - loss: 0.1077 - accuracy: 0.8358 - val_loss: 0.1070 - val_accuracy: 0.8300\n",
      "Epoch 14/100\n",
      "13424/13432 [============================>.] - ETA: 0s - loss: 0.1036 - accuracy: 0.8406\n",
      "Epoch 00014: val_loss improved from 0.10317 to 0.10203, saving model to My Drive/Colab Notebooks/after-train.h5\n",
      "13432/13432 [==============================] - 98s 7ms/sample - loss: 0.1036 - accuracy: 0.8406 - val_loss: 0.1020 - val_accuracy: 0.8400\n",
      "Epoch 15/100\n",
      "13424/13432 [============================>.] - ETA: 0s - loss: 0.1003 - accuracy: 0.8471\n",
      "Epoch 00015: val_loss did not improve from 0.10203\n",
      "13432/13432 [==============================] - 97s 7ms/sample - loss: 0.1003 - accuracy: 0.8471 - val_loss: 0.1020 - val_accuracy: 0.8700\n",
      "Epoch 16/100\n",
      "13424/13432 [============================>.] - ETA: 0s - loss: 0.0996 - accuracy: 0.8468\n",
      "Epoch 00016: val_loss improved from 0.10203 to 0.10060, saving model to My Drive/Colab Notebooks/after-train.h5\n",
      "13432/13432 [==============================] - 98s 7ms/sample - loss: 0.0996 - accuracy: 0.8467 - val_loss: 0.1006 - val_accuracy: 0.8700\n",
      "Epoch 17/100\n",
      "13424/13432 [============================>.] - ETA: 0s - loss: 0.0986 - accuracy: 0.8518\n",
      "Epoch 00017: val_loss did not improve from 0.10060\n",
      "13432/13432 [==============================] - 97s 7ms/sample - loss: 0.0986 - accuracy: 0.8518 - val_loss: 0.1202 - val_accuracy: 0.7900\n",
      "Epoch 18/100\n",
      "13424/13432 [============================>.] - ETA: 0s - loss: 0.0968 - accuracy: 0.8559\n",
      "Epoch 00018: val_loss improved from 0.10060 to 0.09103, saving model to My Drive/Colab Notebooks/after-train.h5\n",
      "13432/13432 [==============================] - 97s 7ms/sample - loss: 0.0969 - accuracy: 0.8558 - val_loss: 0.0910 - val_accuracy: 0.8750\n",
      "Epoch 19/100\n",
      "13424/13432 [============================>.] - ETA: 0s - loss: 0.0940 - accuracy: 0.8573\n",
      "Epoch 00019: val_loss did not improve from 0.09103\n",
      "13432/13432 [==============================] - 97s 7ms/sample - loss: 0.0940 - accuracy: 0.8573 - val_loss: 0.1177 - val_accuracy: 0.8100\n",
      "Epoch 20/100\n",
      "13424/13432 [============================>.] - ETA: 0s - loss: 0.0933 - accuracy: 0.8620\n",
      "Epoch 00020: val_loss did not improve from 0.09103\n",
      "13432/13432 [==============================] - 97s 7ms/sample - loss: 0.0933 - accuracy: 0.8621 - val_loss: 0.0944 - val_accuracy: 0.8950\n",
      "Epoch 21/100\n",
      "13424/13432 [============================>.] - ETA: 0s - loss: 0.0926 - accuracy: 0.8607\n",
      "Epoch 00021: val_loss improved from 0.09103 to 0.08909, saving model to My Drive/Colab Notebooks/after-train.h5\n",
      "13432/13432 [==============================] - 98s 7ms/sample - loss: 0.0925 - accuracy: 0.8608 - val_loss: 0.0891 - val_accuracy: 0.8900\n",
      "Epoch 22/100\n",
      "13424/13432 [============================>.] - ETA: 0s - loss: 0.0892 - accuracy: 0.8681\n",
      "Epoch 00022: val_loss did not improve from 0.08909\n",
      "13432/13432 [==============================] - 97s 7ms/sample - loss: 0.0891 - accuracy: 0.8682 - val_loss: 0.0923 - val_accuracy: 0.8200\n",
      "Epoch 23/100\n",
      "13424/13432 [============================>.] - ETA: 0s - loss: 0.0886 - accuracy: 0.8655\n",
      "Epoch 00023: val_loss did not improve from 0.08909\n",
      "13432/13432 [==============================] - 97s 7ms/sample - loss: 0.0885 - accuracy: 0.8655 - val_loss: 0.0995 - val_accuracy: 0.8300\n",
      "Epoch 24/100\n",
      "13424/13432 [============================>.] - ETA: 0s - loss: 0.0861 - accuracy: 0.8738\n",
      "Epoch 00024: val_loss did not improve from 0.08909\n",
      "13432/13432 [==============================] - 97s 7ms/sample - loss: 0.0862 - accuracy: 0.8737 - val_loss: 0.0993 - val_accuracy: 0.8000\n",
      "Epoch 25/100\n",
      "13424/13432 [============================>.] - ETA: 0s - loss: 0.0882 - accuracy: 0.8670\n",
      "Epoch 00025: val_loss improved from 0.08909 to 0.08351, saving model to My Drive/Colab Notebooks/after-train.h5\n",
      "13432/13432 [==============================] - 98s 7ms/sample - loss: 0.0882 - accuracy: 0.8670 - val_loss: 0.0835 - val_accuracy: 0.8800\n",
      "Epoch 26/100\n",
      "13424/13432 [============================>.] - ETA: 0s - loss: 0.0858 - accuracy: 0.8718\n",
      "Epoch 00026: val_loss did not improve from 0.08351\n",
      "13432/13432 [==============================] - 97s 7ms/sample - loss: 0.0858 - accuracy: 0.8716 - val_loss: 0.1178 - val_accuracy: 0.8200\n",
      "Epoch 27/100\n",
      "13424/13432 [============================>.] - ETA: 0s - loss: 0.0874 - accuracy: 0.8684\n",
      "Epoch 00027: val_loss did not improve from 0.08351\n",
      "13432/13432 [==============================] - 97s 7ms/sample - loss: 0.0875 - accuracy: 0.8684 - val_loss: 0.1019 - val_accuracy: 0.8300\n",
      "Epoch 28/100\n",
      "13424/13432 [============================>.] - ETA: 0s - loss: 0.0825 - accuracy: 0.8771\n",
      "Epoch 00028: val_loss did not improve from 0.08351\n",
      "13432/13432 [==============================] - 97s 7ms/sample - loss: 0.0825 - accuracy: 0.8771 - val_loss: 0.0982 - val_accuracy: 0.8600\n",
      "Epoch 29/100\n",
      "13424/13432 [============================>.] - ETA: 0s - loss: 0.0804 - accuracy: 0.8789\n",
      "Epoch 00029: val_loss did not improve from 0.08351\n",
      "13432/13432 [==============================] - 97s 7ms/sample - loss: 0.0803 - accuracy: 0.8789 - val_loss: 0.0932 - val_accuracy: 0.8650\n",
      "Epoch 30/100\n",
      "13424/13432 [============================>.] - ETA: 0s - loss: 0.0783 - accuracy: 0.8818\n",
      "Epoch 00030: val_loss did not improve from 0.08351\n",
      "13432/13432 [==============================] - 97s 7ms/sample - loss: 0.0783 - accuracy: 0.8818 - val_loss: 0.1869 - val_accuracy: 0.7050\n",
      "Epoch 31/100\n",
      "13424/13432 [============================>.] - ETA: 0s - loss: 0.0801 - accuracy: 0.8796\n",
      "Epoch 00031: val_loss did not improve from 0.08351\n",
      "13432/13432 [==============================] - 97s 7ms/sample - loss: 0.0800 - accuracy: 0.8795 - val_loss: 0.1050 - val_accuracy: 0.8200\n",
      "Epoch 32/100\n",
      "13424/13432 [============================>.] - ETA: 0s - loss: 0.0761 - accuracy: 0.8839\n",
      "Epoch 00032: val_loss did not improve from 0.08351\n",
      "13432/13432 [==============================] - 97s 7ms/sample - loss: 0.0760 - accuracy: 0.8839 - val_loss: 0.0861 - val_accuracy: 0.8750\n",
      "Epoch 33/100\n",
      "13424/13432 [============================>.] - ETA: 0s - loss: 0.0770 - accuracy: 0.8853\n",
      "Epoch 00033: val_loss did not improve from 0.08351\n",
      "13432/13432 [==============================] - 97s 7ms/sample - loss: 0.0770 - accuracy: 0.8853 - val_loss: 0.0900 - val_accuracy: 0.8600\n",
      "Epoch 34/100\n",
      "13424/13432 [============================>.] - ETA: 0s - loss: 0.0767 - accuracy: 0.8856\n",
      "Epoch 00034: val_loss did not improve from 0.08351\n",
      "13432/13432 [==============================] - 98s 7ms/sample - loss: 0.0767 - accuracy: 0.8856 - val_loss: 0.0936 - val_accuracy: 0.8200\n",
      "Epoch 35/100\n",
      "13424/13432 [============================>.] - ETA: 0s - loss: 0.0738 - accuracy: 0.8889\n",
      "Epoch 00035: val_loss did not improve from 0.08351\n",
      "13432/13432 [==============================] - 98s 7ms/sample - loss: 0.0738 - accuracy: 0.8888 - val_loss: 0.1013 - val_accuracy: 0.8400\n",
      "Epoch 36/100\n",
      "13424/13432 [============================>.] - ETA: 0s - loss: 0.0716 - accuracy: 0.8933\n",
      "Epoch 00036: val_loss did not improve from 0.08351\n",
      "13432/13432 [==============================] - 97s 7ms/sample - loss: 0.0716 - accuracy: 0.8933 - val_loss: 0.0864 - val_accuracy: 0.8800\n",
      "Epoch 37/100\n",
      "13424/13432 [============================>.] - ETA: 0s - loss: 0.0717 - accuracy: 0.8939\n",
      "Epoch 00037: val_loss did not improve from 0.08351\n",
      "13432/13432 [==============================] - 97s 7ms/sample - loss: 0.0717 - accuracy: 0.8940 - val_loss: 0.0836 - val_accuracy: 0.8950\n",
      "Epoch 38/100\n",
      "13424/13432 [============================>.] - ETA: 0s - loss: 0.0722 - accuracy: 0.8941\n",
      "Epoch 00038: val_loss did not improve from 0.08351\n",
      "13432/13432 [==============================] - 97s 7ms/sample - loss: 0.0722 - accuracy: 0.8941 - val_loss: 0.0999 - val_accuracy: 0.8050\n",
      "Epoch 39/100\n",
      "13424/13432 [============================>.] - ETA: 0s - loss: 0.0690 - accuracy: 0.8965\n",
      "Epoch 00039: val_loss did not improve from 0.08351\n",
      "13432/13432 [==============================] - 97s 7ms/sample - loss: 0.0690 - accuracy: 0.8964 - val_loss: 0.0872 - val_accuracy: 0.8500\n",
      "Epoch 40/100\n",
      "13424/13432 [============================>.] - ETA: 0s - loss: 0.0687 - accuracy: 0.8984\n",
      "Epoch 00040: val_loss improved from 0.08351 to 0.07061, saving model to My Drive/Colab Notebooks/after-train.h5\n",
      "13432/13432 [==============================] - 98s 7ms/sample - loss: 0.0687 - accuracy: 0.8984 - val_loss: 0.0706 - val_accuracy: 0.9050\n",
      "Epoch 41/100\n",
      "13424/13432 [============================>.] - ETA: 0s - loss: 0.0701 - accuracy: 0.8968\n",
      "Epoch 00041: val_loss did not improve from 0.07061\n",
      "13432/13432 [==============================] - 97s 7ms/sample - loss: 0.0702 - accuracy: 0.8967 - val_loss: 0.1248 - val_accuracy: 0.7950\n",
      "Epoch 42/100\n",
      "13424/13432 [============================>.] - ETA: 0s - loss: 0.0681 - accuracy: 0.8990\n",
      "Epoch 00042: val_loss did not improve from 0.07061\n",
      "13432/13432 [==============================] - 97s 7ms/sample - loss: 0.0681 - accuracy: 0.8990 - val_loss: 0.1245 - val_accuracy: 0.8050\n",
      "Epoch 43/100\n",
      "13424/13432 [============================>.] - ETA: 0s - loss: 0.0654 - accuracy: 0.9034\n",
      "Epoch 00043: val_loss did not improve from 0.07061\n",
      "13432/13432 [==============================] - 97s 7ms/sample - loss: 0.0654 - accuracy: 0.9034 - val_loss: 0.0948 - val_accuracy: 0.8350\n",
      "Epoch 44/100\n",
      "13424/13432 [============================>.] - ETA: 0s - loss: 0.0658 - accuracy: 0.9023\n",
      "Epoch 00044: val_loss did not improve from 0.07061\n",
      "13432/13432 [==============================] - 98s 7ms/sample - loss: 0.0658 - accuracy: 0.9023 - val_loss: 0.1009 - val_accuracy: 0.8150\n",
      "Epoch 45/100\n",
      "13424/13432 [============================>.] - ETA: 0s - loss: 0.0698 - accuracy: 0.8952\n",
      "Epoch 00045: val_loss did not improve from 0.07061\n",
      "13432/13432 [==============================] - 98s 7ms/sample - loss: 0.0698 - accuracy: 0.8952 - val_loss: 0.1288 - val_accuracy: 0.8200\n",
      "Epoch 46/100\n",
      "13424/13432 [============================>.] - ETA: 0s - loss: 0.0644 - accuracy: 0.9034\n",
      "Epoch 00046: val_loss did not improve from 0.07061\n",
      "13432/13432 [==============================] - 98s 7ms/sample - loss: 0.0644 - accuracy: 0.9034 - val_loss: 0.1109 - val_accuracy: 0.8100\n",
      "Epoch 47/100\n",
      "13424/13432 [============================>.] - ETA: 0s - loss: 0.0638 - accuracy: 0.9038\n",
      "Epoch 00047: val_loss did not improve from 0.07061\n",
      "13432/13432 [==============================] - 97s 7ms/sample - loss: 0.0637 - accuracy: 0.9039 - val_loss: 0.0804 - val_accuracy: 0.8650\n",
      "Epoch 48/100\n",
      "13424/13432 [============================>.] - ETA: 0s - loss: 0.0642 - accuracy: 0.9030\n",
      "Epoch 00048: val_loss did not improve from 0.07061\n",
      "13432/13432 [==============================] - 98s 7ms/sample - loss: 0.0642 - accuracy: 0.9030 - val_loss: 0.1096 - val_accuracy: 0.8150\n",
      "Epoch 49/100\n",
      "13424/13432 [============================>.] - ETA: 0s - loss: 0.0624 - accuracy: 0.9059\n",
      "Epoch 00049: val_loss did not improve from 0.07061\n",
      "13432/13432 [==============================] - 98s 7ms/sample - loss: 0.0624 - accuracy: 0.9060 - val_loss: 0.1044 - val_accuracy: 0.8200\n",
      "Epoch 50/100\n",
      "13424/13432 [============================>.] - ETA: 0s - loss: 0.0601 - accuracy: 0.9098\n",
      "Epoch 00050: val_loss did not improve from 0.07061\n",
      "13432/13432 [==============================] - 98s 7ms/sample - loss: 0.0601 - accuracy: 0.9098 - val_loss: 0.1044 - val_accuracy: 0.8400\n",
      "Epoch 51/100\n",
      "13424/13432 [============================>.] - ETA: 0s - loss: 0.0631 - accuracy: 0.9060\n",
      "Epoch 00051: val_loss did not improve from 0.07061\n",
      "13432/13432 [==============================] - 98s 7ms/sample - loss: 0.0631 - accuracy: 0.9060 - val_loss: 0.1029 - val_accuracy: 0.8100\n",
      "Epoch 52/100\n",
      "13424/13432 [============================>.] - ETA: 0s - loss: 0.0583 - accuracy: 0.9146\n",
      "Epoch 00052: val_loss did not improve from 0.07061\n",
      "13432/13432 [==============================] - 98s 7ms/sample - loss: 0.0583 - accuracy: 0.9146 - val_loss: 0.0761 - val_accuracy: 0.8950\n",
      "Epoch 53/100\n",
      "13424/13432 [============================>.] - ETA: 0s - loss: 0.0596 - accuracy: 0.9119\n",
      "Epoch 00053: val_loss did not improve from 0.07061\n",
      "13432/13432 [==============================] - 98s 7ms/sample - loss: 0.0596 - accuracy: 0.9119 - val_loss: 0.0981 - val_accuracy: 0.8250\n",
      "Epoch 54/100\n",
      "13424/13432 [============================>.] - ETA: 0s - loss: 0.0579 - accuracy: 0.9133\n",
      "Epoch 00054: val_loss did not improve from 0.07061\n",
      "13432/13432 [==============================] - 98s 7ms/sample - loss: 0.0580 - accuracy: 0.9132 - val_loss: 0.0844 - val_accuracy: 0.8800\n",
      "Epoch 55/100\n",
      "13424/13432 [============================>.] - ETA: 0s - loss: 0.0569 - accuracy: 0.9144\n",
      "Epoch 00055: val_loss did not improve from 0.07061\n",
      "13432/13432 [==============================] - 97s 7ms/sample - loss: 0.0569 - accuracy: 0.9145 - val_loss: 0.1027 - val_accuracy: 0.8150\n",
      "Epoch 56/100\n",
      "13424/13432 [============================>.] - ETA: 0s - loss: 0.0568 - accuracy: 0.9156\n",
      "Epoch 00056: val_loss did not improve from 0.07061\n",
      "13432/13432 [==============================] - 97s 7ms/sample - loss: 0.0568 - accuracy: 0.9156 - val_loss: 0.0769 - val_accuracy: 0.8950\n",
      "Epoch 57/100\n",
      "13424/13432 [============================>.] - ETA: 0s - loss: 0.0562 - accuracy: 0.9163\n",
      "Epoch 00057: val_loss did not improve from 0.07061\n",
      "13432/13432 [==============================] - 97s 7ms/sample - loss: 0.0562 - accuracy: 0.9162 - val_loss: 0.1046 - val_accuracy: 0.8100\n",
      "Epoch 58/100\n",
      "13424/13432 [============================>.] - ETA: 0s - loss: 0.0554 - accuracy: 0.9173\n",
      "Epoch 00058: val_loss did not improve from 0.07061\n",
      "13432/13432 [==============================] - 97s 7ms/sample - loss: 0.0554 - accuracy: 0.9174 - val_loss: 0.0780 - val_accuracy: 0.8750\n",
      "Epoch 59/100\n",
      "13424/13432 [============================>.] - ETA: 0s - loss: 0.0547 - accuracy: 0.9200\n",
      "Epoch 00059: val_loss did not improve from 0.07061\n",
      "13432/13432 [==============================] - 98s 7ms/sample - loss: 0.0546 - accuracy: 0.9200 - val_loss: 0.0983 - val_accuracy: 0.8200\n",
      "Epoch 60/100\n",
      "13424/13432 [============================>.] - ETA: 0s - loss: 0.0539 - accuracy: 0.9216\n",
      "Epoch 00060: val_loss did not improve from 0.07061\n",
      "13432/13432 [==============================] - 97s 7ms/sample - loss: 0.0538 - accuracy: 0.9217 - val_loss: 0.1193 - val_accuracy: 0.8200\n",
      "Epoch 61/100\n",
      "13424/13432 [============================>.] - ETA: 0s - loss: 0.0542 - accuracy: 0.9194\n",
      "Epoch 00061: val_loss did not improve from 0.07061\n",
      "13432/13432 [==============================] - 98s 7ms/sample - loss: 0.0542 - accuracy: 0.9194 - val_loss: 0.0740 - val_accuracy: 0.8900\n",
      "Epoch 62/100\n",
      "13424/13432 [============================>.] - ETA: 0s - loss: 0.0557 - accuracy: 0.9163\n",
      "Epoch 00062: val_loss did not improve from 0.07061\n",
      "13432/13432 [==============================] - 97s 7ms/sample - loss: 0.0557 - accuracy: 0.9162 - val_loss: 0.0787 - val_accuracy: 0.8550\n",
      "Epoch 63/100\n",
      "13424/13432 [============================>.] - ETA: 0s - loss: 0.0515 - accuracy: 0.9242\n",
      "Epoch 00063: val_loss did not improve from 0.07061\n",
      "13432/13432 [==============================] - 97s 7ms/sample - loss: 0.0515 - accuracy: 0.9243 - val_loss: 0.0741 - val_accuracy: 0.8950\n",
      "Epoch 64/100\n",
      "13424/13432 [============================>.] - ETA: 0s - loss: 0.0551 - accuracy: 0.9176\n",
      "Epoch 00064: val_loss did not improve from 0.07061\n",
      "13432/13432 [==============================] - 97s 7ms/sample - loss: 0.0551 - accuracy: 0.9177 - val_loss: 0.0775 - val_accuracy: 0.9000\n",
      "Epoch 65/100\n",
      "13424/13432 [============================>.] - ETA: 0s - loss: 0.0511 - accuracy: 0.9242\n",
      "Epoch 00065: val_loss did not improve from 0.07061\n",
      "13432/13432 [==============================] - 97s 7ms/sample - loss: 0.0511 - accuracy: 0.9242 - val_loss: 0.0910 - val_accuracy: 0.8350\n",
      "Epoch 66/100\n",
      "13424/13432 [============================>.] - ETA: 0s - loss: 0.0517 - accuracy: 0.9224\n",
      "Epoch 00066: val_loss improved from 0.07061 to 0.06192, saving model to My Drive/Colab Notebooks/after-train.h5\n",
      "13432/13432 [==============================] - 98s 7ms/sample - loss: 0.0517 - accuracy: 0.9224 - val_loss: 0.0619 - val_accuracy: 0.9050\n",
      "Epoch 67/100\n",
      "13424/13432 [============================>.] - ETA: 0s - loss: 0.0500 - accuracy: 0.9281\n",
      "Epoch 00067: val_loss did not improve from 0.06192\n",
      "13432/13432 [==============================] - 97s 7ms/sample - loss: 0.0500 - accuracy: 0.9282 - val_loss: 0.0809 - val_accuracy: 0.8850\n",
      "Epoch 68/100\n",
      "13424/13432 [============================>.] - ETA: 0s - loss: 0.0481 - accuracy: 0.9289\n",
      "Epoch 00068: val_loss did not improve from 0.06192\n",
      "13432/13432 [==============================] - 97s 7ms/sample - loss: 0.0481 - accuracy: 0.9289 - val_loss: 0.1127 - val_accuracy: 0.8400\n",
      "Epoch 69/100\n",
      "13424/13432 [============================>.] - ETA: 0s - loss: 0.0510 - accuracy: 0.9239\n",
      "Epoch 00069: val_loss did not improve from 0.06192\n",
      "13432/13432 [==============================] - 97s 7ms/sample - loss: 0.0510 - accuracy: 0.9239 - val_loss: 0.0808 - val_accuracy: 0.8850\n",
      "Epoch 70/100\n",
      "13424/13432 [============================>.] - ETA: 0s - loss: 0.0475 - accuracy: 0.9277\n",
      "Epoch 00070: val_loss did not improve from 0.06192\n",
      "13432/13432 [==============================] - 98s 7ms/sample - loss: 0.0475 - accuracy: 0.9278 - val_loss: 0.0744 - val_accuracy: 0.8850\n",
      "Epoch 71/100\n",
      "13424/13432 [============================>.] - ETA: 0s - loss: 0.0477 - accuracy: 0.9312\n",
      "Epoch 00071: val_loss did not improve from 0.06192\n",
      "13432/13432 [==============================] - 97s 7ms/sample - loss: 0.0476 - accuracy: 0.9312 - val_loss: 0.0704 - val_accuracy: 0.8950\n",
      "Epoch 72/100\n",
      "13424/13432 [============================>.] - ETA: 0s - loss: 0.0493 - accuracy: 0.9281\n",
      "Epoch 00072: val_loss did not improve from 0.06192\n",
      "13432/13432 [==============================] - 98s 7ms/sample - loss: 0.0492 - accuracy: 0.9282 - val_loss: 0.1226 - val_accuracy: 0.8200\n",
      "Epoch 73/100\n",
      "13424/13432 [============================>.] - ETA: 0s - loss: 0.0478 - accuracy: 0.9294\n",
      "Epoch 00073: val_loss did not improve from 0.06192\n",
      "13432/13432 [==============================] - 98s 7ms/sample - loss: 0.0478 - accuracy: 0.9294 - val_loss: 0.1098 - val_accuracy: 0.8350\n",
      "Epoch 74/100\n",
      "13424/13432 [============================>.] - ETA: 0s - loss: 0.0458 - accuracy: 0.9332\n",
      "Epoch 00074: val_loss did not improve from 0.06192\n",
      "13432/13432 [==============================] - 98s 7ms/sample - loss: 0.0459 - accuracy: 0.9331 - val_loss: 0.0837 - val_accuracy: 0.8750\n",
      "Epoch 75/100\n",
      "13424/13432 [============================>.] - ETA: 0s - loss: 0.0475 - accuracy: 0.9319\n",
      "Epoch 00075: val_loss did not improve from 0.06192\n",
      "13432/13432 [==============================] - 98s 7ms/sample - loss: 0.0475 - accuracy: 0.9320 - val_loss: 0.1013 - val_accuracy: 0.8500\n",
      "Epoch 76/100\n",
      "13424/13432 [============================>.] - ETA: 0s - loss: 0.0458 - accuracy: 0.9329\n",
      "Epoch 00076: val_loss did not improve from 0.06192\n",
      "13432/13432 [==============================] - 98s 7ms/sample - loss: 0.0459 - accuracy: 0.9328 - val_loss: 0.1107 - val_accuracy: 0.8200\n",
      "Epoch 77/100\n",
      "13424/13432 [============================>.] - ETA: 0s - loss: 0.0455 - accuracy: 0.9337\n",
      "Epoch 00077: val_loss did not improve from 0.06192\n",
      "13432/13432 [==============================] - 98s 7ms/sample - loss: 0.0455 - accuracy: 0.9337 - val_loss: 0.1281 - val_accuracy: 0.7850\n",
      "Epoch 78/100\n",
      "13424/13432 [============================>.] - ETA: 0s - loss: 0.0448 - accuracy: 0.9334\n",
      "Epoch 00078: val_loss did not improve from 0.06192\n",
      "13432/13432 [==============================] - 98s 7ms/sample - loss: 0.0447 - accuracy: 0.9334 - val_loss: 0.0986 - val_accuracy: 0.8400\n",
      "Epoch 79/100\n",
      "13424/13432 [============================>.] - ETA: 0s - loss: 0.0459 - accuracy: 0.9302\n",
      "Epoch 00079: val_loss did not improve from 0.06192\n",
      "13432/13432 [==============================] - 97s 7ms/sample - loss: 0.0459 - accuracy: 0.9302 - val_loss: 0.0861 - val_accuracy: 0.8600\n",
      "Epoch 80/100\n",
      "13424/13432 [============================>.] - ETA: 0s - loss: 0.0436 - accuracy: 0.9365\n",
      "Epoch 00080: val_loss did not improve from 0.06192\n",
      "13432/13432 [==============================] - 97s 7ms/sample - loss: 0.0437 - accuracy: 0.9364 - val_loss: 0.0821 - val_accuracy: 0.8600\n",
      "Epoch 81/100\n",
      "13424/13432 [============================>.] - ETA: 0s - loss: 0.0420 - accuracy: 0.9378\n",
      "Epoch 00081: val_loss did not improve from 0.06192\n",
      "13432/13432 [==============================] - 97s 7ms/sample - loss: 0.0422 - accuracy: 0.9376 - val_loss: 0.0781 - val_accuracy: 0.8800\n",
      "Epoch 82/100\n",
      "13424/13432 [============================>.] - ETA: 0s - loss: 0.0429 - accuracy: 0.9385\n",
      "Epoch 00082: val_loss did not improve from 0.06192\n",
      "13432/13432 [==============================] - 97s 7ms/sample - loss: 0.0429 - accuracy: 0.9386 - val_loss: 0.0785 - val_accuracy: 0.8500\n",
      "Epoch 83/100\n",
      "13424/13432 [============================>.] - ETA: 0s - loss: 0.0435 - accuracy: 0.9359\n",
      "Epoch 00083: val_loss did not improve from 0.06192\n",
      "13432/13432 [==============================] - 98s 7ms/sample - loss: 0.0435 - accuracy: 0.9359 - val_loss: 0.0929 - val_accuracy: 0.8350\n",
      "Epoch 84/100\n",
      "13424/13432 [============================>.] - ETA: 0s - loss: 0.0425 - accuracy: 0.9395\n",
      "Epoch 00084: val_loss did not improve from 0.06192\n",
      "13432/13432 [==============================] - 98s 7ms/sample - loss: 0.0424 - accuracy: 0.9395 - val_loss: 0.1033 - val_accuracy: 0.8400\n",
      "Epoch 85/100\n",
      "13424/13432 [============================>.] - ETA: 0s - loss: 0.0420 - accuracy: 0.9402\n",
      "Epoch 00085: val_loss did not improve from 0.06192\n",
      "13432/13432 [==============================] - 98s 7ms/sample - loss: 0.0420 - accuracy: 0.9402 - val_loss: 0.0698 - val_accuracy: 0.9150\n",
      "Epoch 86/100\n",
      "13424/13432 [============================>.] - ETA: 0s - loss: 0.0417 - accuracy: 0.9386\n",
      "Epoch 00086: val_loss did not improve from 0.06192\n",
      "13432/13432 [==============================] - 98s 7ms/sample - loss: 0.0417 - accuracy: 0.9386 - val_loss: 0.0710 - val_accuracy: 0.9100\n",
      "Epoch 87/100\n",
      "13424/13432 [============================>.] - ETA: 0s - loss: 0.0417 - accuracy: 0.9382\n",
      "Epoch 00087: val_loss did not improve from 0.06192\n",
      "13432/13432 [==============================] - 98s 7ms/sample - loss: 0.0417 - accuracy: 0.9381 - val_loss: 0.0938 - val_accuracy: 0.8600\n",
      "Epoch 88/100\n",
      "13424/13432 [============================>.] - ETA: 0s - loss: 0.0407 - accuracy: 0.9409\n",
      "Epoch 00088: val_loss did not improve from 0.06192\n",
      "13432/13432 [==============================] - 98s 7ms/sample - loss: 0.0407 - accuracy: 0.9410 - val_loss: 0.1001 - val_accuracy: 0.8450\n",
      "Epoch 89/100\n",
      "13424/13432 [============================>.] - ETA: 0s - loss: 0.0416 - accuracy: 0.9400\n",
      "Epoch 00089: val_loss did not improve from 0.06192\n",
      "13432/13432 [==============================] - 98s 7ms/sample - loss: 0.0416 - accuracy: 0.9401 - val_loss: 0.0732 - val_accuracy: 0.8800\n",
      "Epoch 90/100\n",
      "13424/13432 [============================>.] - ETA: 0s - loss: 0.0400 - accuracy: 0.9422\n",
      "Epoch 00090: val_loss did not improve from 0.06192\n",
      "13432/13432 [==============================] - 97s 7ms/sample - loss: 0.0399 - accuracy: 0.9422 - val_loss: 0.0813 - val_accuracy: 0.8850\n",
      "Epoch 91/100\n",
      "13424/13432 [============================>.] - ETA: 0s - loss: 0.0408 - accuracy: 0.9403\n",
      "Epoch 00091: val_loss did not improve from 0.06192\n",
      "13432/13432 [==============================] - 97s 7ms/sample - loss: 0.0408 - accuracy: 0.9404 - val_loss: 0.0700 - val_accuracy: 0.8650\n",
      "Epoch 92/100\n",
      "13424/13432 [============================>.] - ETA: 0s - loss: 0.0391 - accuracy: 0.9438\n",
      "Epoch 00092: val_loss did not improve from 0.06192\n",
      "13432/13432 [==============================] - 97s 7ms/sample - loss: 0.0391 - accuracy: 0.9438 - val_loss: 0.0738 - val_accuracy: 0.8850\n",
      "Epoch 93/100\n",
      "13424/13432 [============================>.] - ETA: 0s - loss: 0.0388 - accuracy: 0.9445\n",
      "Epoch 00093: val_loss improved from 0.06192 to 0.05377, saving model to My Drive/Colab Notebooks/after-train.h5\n",
      "13432/13432 [==============================] - 98s 7ms/sample - loss: 0.0388 - accuracy: 0.9445 - val_loss: 0.0538 - val_accuracy: 0.9400\n",
      "Epoch 94/100\n",
      "13424/13432 [============================>.] - ETA: 0s - loss: 0.0397 - accuracy: 0.9408\n",
      "Epoch 00094: val_loss did not improve from 0.05377\n",
      "13432/13432 [==============================] - 97s 7ms/sample - loss: 0.0397 - accuracy: 0.9408 - val_loss: 0.0927 - val_accuracy: 0.8700\n",
      "Epoch 95/100\n",
      "13424/13432 [============================>.] - ETA: 0s - loss: 0.0397 - accuracy: 0.9434\n",
      "Epoch 00095: val_loss did not improve from 0.05377\n",
      "13432/13432 [==============================] - 97s 7ms/sample - loss: 0.0396 - accuracy: 0.9434 - val_loss: 0.0789 - val_accuracy: 0.8800\n",
      "Epoch 96/100\n",
      "13424/13432 [============================>.] - ETA: 0s - loss: 0.0387 - accuracy: 0.9429\n",
      "Epoch 00096: val_loss did not improve from 0.05377\n",
      "13432/13432 [==============================] - 97s 7ms/sample - loss: 0.0387 - accuracy: 0.9429 - val_loss: 0.0683 - val_accuracy: 0.9050\n",
      "Epoch 97/100\n",
      "13424/13432 [============================>.] - ETA: 0s - loss: 0.0395 - accuracy: 0.9432\n",
      "Epoch 00097: val_loss did not improve from 0.05377\n",
      "13432/13432 [==============================] - 97s 7ms/sample - loss: 0.0395 - accuracy: 0.9433 - val_loss: 0.0762 - val_accuracy: 0.8750\n",
      "Epoch 98/100\n",
      "13424/13432 [============================>.] - ETA: 0s - loss: 0.0376 - accuracy: 0.9445\n",
      "Epoch 00098: val_loss did not improve from 0.05377\n",
      "13432/13432 [==============================] - 97s 7ms/sample - loss: 0.0376 - accuracy: 0.9445 - val_loss: 0.1218 - val_accuracy: 0.8100\n",
      "Epoch 99/100\n",
      "13424/13432 [============================>.] - ETA: 0s - loss: 0.0385 - accuracy: 0.9443\n",
      "Epoch 00099: val_loss did not improve from 0.05377\n",
      "13432/13432 [==============================] - 98s 7ms/sample - loss: 0.0384 - accuracy: 0.9443 - val_loss: 0.1763 - val_accuracy: 0.7300\n",
      "Epoch 100/100\n",
      "13424/13432 [============================>.] - ETA: 0s - loss: 0.0371 - accuracy: 0.9486\n",
      "Epoch 00100: val_loss did not improve from 0.05377\n",
      "13432/13432 [==============================] - 97s 7ms/sample - loss: 0.0370 - accuracy: 0.9486 - val_loss: 0.0741 - val_accuracy: 0.8750\n"
     ]
    }
   ],
   "source": [
    "from __future__ import print_function\n",
    "from tensorflow.keras import backend as K\n",
    "from tensorflow.keras.layers import Layer\n",
    "from tensorflow.keras import activations\n",
    "from tensorflow.keras import utils\n",
    "from tensorflow.keras.models import Model\n",
    "from tensorflow.keras.layers import *\n",
    "from tensorflow.keras.preprocessing.image import ImageDataGenerator\n",
    "import numpy as np\n",
    "import keras\n",
    "from tensorflow.keras.callbacks import ModelCheckpoint\n",
    "from tensorflow.keras import optimizers\n",
    "\n",
    "K.set_image_data_format('channels_last')\n",
    "\n",
    "def squash(x, axis=-1):\n",
    "    s_squared_norm = K.sum(K.square(x), axis, keepdims=True) + K.epsilon()\n",
    "    scale = K.sqrt(s_squared_norm) / (1 + s_squared_norm)\n",
    "    return scale * x\n",
    "\n",
    "\n",
    "def softmax(x, axis=-1):\n",
    "    \n",
    "    ex = K.exp(x - K.max(x, axis=axis, keepdims=True))\n",
    "    return ex / K.sum(ex, axis=axis, keepdims=True)\n",
    "\n",
    "\n",
    "def margin_loss(y_true, y_pred):\n",
    "    \n",
    "    lamb, margin = 0.5, 0.1\n",
    "    return K.sum((y_true * K.square(K.relu(1 - margin - y_pred)) + lamb * (\n",
    "        1 - y_true) * K.square(K.relu(y_pred - margin))), axis=-1)\n",
    "\n",
    "\n",
    "class Capsule(Layer):\n",
    "   \n",
    "\n",
    "    def __init__(self,\n",
    "                 num_capsule,\n",
    "                 dim_capsule,\n",
    "                 routings=3,\n",
    "                 share_weights=True,\n",
    "                 activation='squash',\n",
    "                 **kwargs):\n",
    "        super(Capsule, self).__init__(**kwargs)\n",
    "        self.num_capsule = num_capsule\n",
    "        self.dim_capsule = dim_capsule\n",
    "        self.routings = routings\n",
    "        self.share_weights = share_weights\n",
    "        if activation == 'squash':\n",
    "            self.activation = squash\n",
    "        else:\n",
    "            self.activation = activations.get(activation)\n",
    "            \n",
    "    def get_config(self):\n",
    "        config = super().get_config().copy()\n",
    "        config.update({\n",
    "        'num_capsule':  self.num_capsule,\n",
    "        'dim_capsule' : self.dim_capsule,\n",
    "        'routings':  self.routings,\n",
    "        'share_weight':self.share_weights,\n",
    "        \n",
    "       \n",
    "           \n",
    "        })\n",
    "        return config\n",
    "\n",
    "    def build(self, input_shape):\n",
    "        input_dim_capsule = input_shape[-1]\n",
    "        if self.share_weights:\n",
    "            self.kernel = self.add_weight(\n",
    "                name='capsule_kernel',\n",
    "                shape=(1, input_dim_capsule,\n",
    "                       self.num_capsule * self.dim_capsule),\n",
    "                initializer='glorot_uniform',\n",
    "                trainable=True)\n",
    "        else:\n",
    "            input_num_capsule = input_shape[-2]\n",
    "            self.kernel = self.add_weight(\n",
    "                name='capsule_kernel',\n",
    "                shape=(input_num_capsule, input_dim_capsule,\n",
    "                       self.num_capsule * self.dim_capsule),\n",
    "                initializer='glorot_uniform',\n",
    "                trainable=True)\n",
    "\n",
    "    def call(self, inputs):\n",
    "        \n",
    "\n",
    "        if self.share_weights:\n",
    "            hat_inputs = K.conv1d(inputs, self.kernel)\n",
    "        else:\n",
    "            hat_inputs = K.local_conv1d(inputs, self.kernel, [1], [1])\n",
    "\n",
    "        batch_size = K.shape(inputs)[0]\n",
    "        input_num_capsule = K.shape(inputs)[1]\n",
    "        hat_inputs = K.reshape(hat_inputs,\n",
    "                               (batch_size, input_num_capsule,\n",
    "                                self.num_capsule, self.dim_capsule))\n",
    "        hat_inputs = K.permute_dimensions(hat_inputs, (0, 2, 1, 3))\n",
    "\n",
    "        b = K.zeros_like(hat_inputs[:, :, :, 0])\n",
    "        for i in range(self.routings):\n",
    "            c = softmax(b, 1)\n",
    "            o = self.activation(keras.backend.batch_dot(c, hat_inputs, [2, 2]))\n",
    "            if i < self.routings - 1:\n",
    "                b = keras.backend.batch_dot(o, hat_inputs, [2, 3])\n",
    "                if K.backend() == 'theano':\n",
    "                    o = K.sum(o, axis=1)\n",
    "\n",
    "        return o\n",
    "\n",
    "    def compute_output_shape(self, input_shape):\n",
    "        return (None, self.num_capsule, self.dim_capsule)\n",
    "\n",
    "\n",
    "\n",
    "\n",
    "batch_size = 16  \n",
    "num_classes = 2\n",
    "epochs = 100\n",
    "\n",
    "\n",
    "\n",
    "#class weights to handle class imbalance\n",
    "\n",
    "#class_weights = {0: 1-np.count_nonzero(y_train==0)/len(y_train),\n",
    "              #  1: 1-np.count_nonzero(y_train==1)/len(y_train)} \n",
    "\n",
    "\n",
    "\n",
    "input_image = Input(shape=(None, None, 3))\n",
    "x = Conv2D(64, (3, 3), activation='relu',trainable = False)(input_image)\n",
    "x=BatchNormalization(axis=-1, momentum=0.99, epsilon=0.001, center=True, scale=True, beta_initializer='zeros', gamma_initializer='ones', moving_mean_initializer='zeros', moving_variance_initializer='ones', beta_regularizer=None, gamma_regularizer=None, beta_constraint=None, gamma_constraint=None)(x)\n",
    "x = Conv2D(64, (3, 3), activation='relu',trainable = False)(x)\n",
    "x = AveragePooling2D((2, 2),trainable = False)(x)\n",
    "x = Conv2D(128, (3, 3), activation='relu',trainable = False)(x)\n",
    "x = Conv2D(128, (3, 3), activation='relu',trainable = False)(x)\n",
    "\n",
    "\n",
    "\n",
    "\n",
    "x = Reshape((-1, 128))(x)\n",
    "x = Capsule(32, 8, 3, True)(x)  \n",
    "x = Capsule(32, 8, 3, True)(x)   \n",
    "capsule = Capsule(5, 16, 3, True)(x)\n",
    "output = Lambda(lambda z: K.sqrt(K.sum(K.square(z), 2)))(capsule)\n",
    "\n",
    "\n",
    "\n",
    "\n",
    "model = Model(inputs=[input_image], outputs=[output])\n",
    "\n",
    "model.load_weights('My Drive/Colab Notebooks/pre-train-train.h5')\n",
    "\n",
    "capsule2 = Capsule(2, 16, 3, True)(model.layers[-3].output)\n",
    "output2 = Lambda(lambda z: K.sqrt(K.sum(K.square(z), 2)))(capsule2)\n",
    "\n",
    "\n",
    "model2 = Model(inputs=[input_image], outputs=[output2])\n",
    "\n",
    "\n",
    "adam = optimizers.Adam(lr=0.001) \n",
    "model.compile(loss=margin_loss, optimizer=adam, metrics=['accuracy'])\n",
    "model2.compile(loss=margin_loss, optimizer=adam, metrics=['accuracy'])\n",
    "model2.summary()\n",
    "\n",
    "data_augmentation = False\n",
    "# The best model is selected based on the loss value on the validation set\n",
    "\n",
    "\n",
    "filepath='My Drive/Colab Notebooks/after-train.h5'\n",
    "checkpoint = ModelCheckpoint(filepath, monitor='val_loss', verbose=1, save_best_only=True, mode='min')\n",
    "callbacks_list = [checkpoint]\n",
    "\n",
    "\n",
    "\n",
    "\n",
    "\n",
    "if not data_augmentation:\n",
    "    print('Not using data augmentation.')\n",
    "    model2.fit(\n",
    "        [x_train], [y_train],\n",
    "        batch_size=batch_size,\n",
    "        epochs=epochs,\n",
    "        validation_data=[[x_valid], [y_valid]],\n",
    "        shuffle=True,callbacks=callbacks_list)\n",
    "    \n",
    "else:\n",
    "    print('Using real-time data augmentation.')\n",
    "    # This will do preprocessing and realtime data augmentation:\n",
    "    datagen = ImageDataGenerator(\n",
    "        featurewise_center=False,  # set input mean to 0 over the dataset\n",
    "        samplewise_center=False,  # set each sample mean to 0\n",
    "        featurewise_std_normalization=False,  # divide inputs by dataset std\n",
    "        samplewise_std_normalization=False,  # divide each input by its std\n",
    "        zca_whitening=False,  # apply ZCA whitening\n",
    "        zca_epsilon=1e-06,  # epsilon for ZCA whitening\n",
    "        rotation_range=0.1,  # randomly rotate images in 0 to 180 degrees\n",
    "        width_shift_range=0.1,  # randomly shift images horizontally\n",
    "        height_shift_range=0.1,  # randomly shift images vertically\n",
    "        brightness_range=[0.5,1.5],\n",
    "        shear_range=0.1,  # set range for random shear\n",
    "        zoom_range=0.1,  # set range for random zoom\n",
    "        channel_shift_range=0.,  # set range for random chann el shifts\n",
    "        # set mode for filling points outside the input boundaries\n",
    "        fill_mode='nearest',\n",
    "        cval=0.,  # value used for fill_mode = \"constant\"\n",
    "        horizontal_flip=True,  # randomly flip images\n",
    "        vertical_flip=True,  # randomly flip images\n",
    "        # set rescaling factor (applied before any other transformation)\n",
    "        rescale=None,\n",
    "        # set function that will be applied on each input \n",
    "        preprocessing_function=None,\n",
    "        # image data format, either \"channels_first\" or \"channels_last\"\n",
    "        data_format=None,\n",
    "        # fraction of images reserved for validation (strictly between 0 and 1)\n",
    "        validation_split=0.0)\n",
    "\n",
    "    # Compute quantities required for feature-wise normalization\n",
    "    # (std, mean, and principal components if ZCA whitening is applied).\n",
    "    datagen.fit(x_train)\n",
    "\n",
    "    # Fit the model on the batches generated by datagen.flow().\n",
    "    model.fit(\n",
    "        datagen.flow(x_train, y_train, batch_size=batch_size),\n",
    "        epochs=epochs,\n",
    "        validation_data=(x_valid, y_valid),shuffle=True)"
   ]
  },
  {
   "cell_type": "code",
   "execution_count": null,
   "metadata": {
    "colab": {},
    "colab_type": "code",
    "id": "OdWRCljy7tXK"
   },
   "outputs": [],
   "source": [
    "batch_size = 16  \n",
    "num_classes = 2\n",
    "epochs = 100     \n",
    "\n",
    "\n",
    "\n",
    "x_test=  x_valid\n",
    "y_test=  y_valid\n",
    "\n",
    "\n",
    "\n",
    "\n",
    "\n",
    "\n",
    "\n",
    "#model: model without pre-training\n",
    "\n",
    "input_image = Input(shape=(None, None, 3))\n",
    "x = Conv2D(64, (3, 3), activation='relu')(input_image)\n",
    "x=BatchNormalization(axis=-1, momentum=0.99, epsilon=0.001, center=True, scale=True, beta_initializer='zeros', gamma_initializer='ones', moving_mean_initializer='zeros', moving_variance_initializer='ones', beta_regularizer=None, gamma_regularizer=None, beta_constraint=None, gamma_constraint=None)(x)\n",
    "x = Conv2D(64, (3, 3), activation='relu')(x)\n",
    "x = AveragePooling2D((2, 2))(x)\n",
    "x = Conv2D(128, (3, 3), activation='relu')(x)\n",
    "x = Conv2D(128, (3, 3), activation='relu')(x)\n",
    "\n",
    "\n",
    "\n",
    "\n",
    "x = Reshape((-1, 128))(x)\n",
    "x = Capsule(32, 8, 3, True)(x)  \n",
    "x = Capsule(32, 8, 3, True)(x)   \n",
    "capsule = Capsule(2, 16, 3, True)(x)\n",
    "output = Lambda(lambda z: K.sqrt(K.sum(K.square(z), 2)))(capsule)\n",
    "\n",
    "\n",
    "#model2: model with pre-training\n",
    "input_image2 = Input(shape=(None, None, 3))\n",
    "x2 = Conv2D(64, (3, 3), activation='relu')(input_image2)\n",
    "x2=BatchNormalization(axis=-1, momentum=0.99, epsilon=0.001, center=True, scale=True, beta_initializer='zeros', gamma_initializer='ones', moving_mean_initializer='zeros', moving_variance_initializer='ones', beta_regularizer=None, gamma_regularizer=None, beta_constraint=None, gamma_constraint=None)(x2)\n",
    "x2 = Conv2D(64, (3, 3), activation='relu')(x2)\n",
    "x2 = AveragePooling2D((2, 2))(x2)\n",
    "x2 = Conv2D(128, (3, 3), activation='relu')(x2)\n",
    "x2 = Conv2D(128, (3, 3), activation='relu')(x2)\n",
    "\n",
    "\n",
    "\n",
    "\n",
    "x2 = Reshape((-1, 128))(x2)\n",
    "x2 = Capsule(32, 8, 3, True)(x2)  \n",
    "x2 = Capsule(32, 8, 3, True)(x2)   \n",
    "capsule2 = Capsule(2, 16, 3, True)(x2)\n",
    "output2 = Lambda(lambda z: K.sqrt(K.sum(K.square(z), 2)))(capsule2)\n",
    "\n",
    "\n",
    "\n",
    "\n",
    "model = Model(inputs=[input_image], outputs=[output])\n",
    "model2 = Model(inputs=[input_image2], outputs=[output2])\n",
    "\n",
    "\n",
    "\n",
    "model.load_weights('My Drive/Colab Notebooks/after-train.h5')\n",
    "model2.load_weights('My Drive/Colab Notebooks/final_weights.h5')\n",
    "\n",
    "predict=model.predict([x_test])\n",
    "predict=np.argmax(predict,axis=1)\n",
    "\n",
    "predict2=model2.predict([x_test])\n",
    "predict2=np.argmax(predict2,axis=1)\n",
    "\n",
    "\n",
    "summation1=0\n",
    "\n"
   ]
  },
  {
   "cell_type": "code",
   "execution_count": null,
   "metadata": {
    "colab": {},
    "colab_type": "code",
    "id": "7NUN-O0yKK1S"
   },
   "outputs": [],
   "source": [
    "y_test[0:100]"
   ]
  },
  {
   "cell_type": "code",
   "execution_count": null,
   "metadata": {
    "colab": {},
    "colab_type": "code",
    "id": "hG4g4VA38c_M"
   },
   "outputs": [],
   "source": [
    "y_test=np.argmax(y_test,axis=1)\n"
   ]
  },
  {
   "cell_type": "code",
   "execution_count": 62,
   "metadata": {
    "colab": {
     "base_uri": "https://localhost:8080/",
     "height": 101
    },
    "colab_type": "code",
    "id": "KsbOeMldKNLK",
    "outputId": "ba992b44-90ce-433f-faa2-f501310218fd"
   },
   "outputs": [
    {
     "data": {
      "text/plain": [
       "array([0, 0, 0, 1, 0, 1, 0, 0, 1, 1, 0, 0, 0, 0, 0, 0, 0, 1, 0, 0, 1, 0,\n",
       "       0, 0, 0, 1, 0, 0, 0, 0, 1, 0, 0, 0, 0, 0, 0, 1, 0, 1, 1, 0, 0, 0,\n",
       "       0, 1, 0, 0, 1, 0, 1, 0, 0, 0, 0, 0, 0, 1, 0, 0, 0, 0, 1, 0, 0, 1,\n",
       "       0, 0, 0, 1, 0, 0, 0, 1, 0, 1, 0, 0, 0, 0, 1, 0, 1, 0, 0, 0, 0, 0,\n",
       "       1, 0, 0, 1, 0, 0, 0, 0, 1, 0, 0, 0])"
      ]
     },
     "execution_count": 62,
     "metadata": {
      "tags": []
     },
     "output_type": "execute_result"
    }
   ],
   "source": [
    "y_test[0:100]"
   ]
  },
  {
   "cell_type": "code",
   "execution_count": 59,
   "metadata": {
    "colab": {
     "base_uri": "https://localhost:8080/",
     "height": 101
    },
    "colab_type": "code",
    "id": "2sJi4CGx8dB3",
    "outputId": "2a2f604d-a5f7-416c-f2a6-fd2a4a0a8d75"
   },
   "outputs": [
    {
     "data": {
      "text/plain": [
       "array([0, 0, 0, 1, 0, 1, 0, 0, 0, 1, 0, 0, 0, 0, 1, 0, 0, 1, 0, 0, 1, 0,\n",
       "       0, 0, 0, 1, 0, 0, 0, 0, 1, 0, 0, 0, 0, 0, 0, 1, 0, 0, 1, 0, 0, 0,\n",
       "       0, 0, 0, 0, 1, 0, 1, 0, 0, 0, 0, 0, 0, 1, 0, 0, 0, 0, 1, 0, 0, 1,\n",
       "       0, 0, 1, 1, 0, 0, 0, 0, 0, 1, 0, 0, 0, 0, 1, 0, 1, 0, 0, 0, 1, 0,\n",
       "       1, 0, 0, 1, 1, 0, 0, 0, 1, 0, 0, 0])"
      ]
     },
     "execution_count": 59,
     "metadata": {
      "tags": []
     },
     "output_type": "execute_result"
    }
   ],
   "source": [
    "predict[:100]"
   ]
  },
  {
   "cell_type": "code",
   "execution_count": 56,
   "metadata": {
    "colab": {
     "base_uri": "https://localhost:8080/",
     "height": 151
    },
    "colab_type": "code",
    "id": "obZIdWWL8dEz",
    "outputId": "2f625e02-a8ee-4693-f517-e07b0d0dc7e9"
   },
   "outputs": [
    {
     "name": "stdout",
     "output_type": "stream",
     "text": [
      "accurate predictions:  188\n",
      "Total predictions to be made in testing : 200\n",
      "TN:  144 , TP :  44 , FP: 6 , FN : 6\n",
      "accuracy :  0.94\n",
      "specificity  :  0.96\n",
      "sensitivity or precision  :  0.88\n",
      "precision  :  0.96\n",
      "f1-score  :  0.9182608695652175\n"
     ]
    }
   ],
   "source": [
    "accuracy_before=0\n",
    "specificity_before=0\n",
    "sensitivity_before=0\n",
    "precision_before=0\n",
    "f1_before=0\n",
    "newaccuracy=0\n",
    "from __future__ import print_function\n",
    "from tensorflow.keras import backend as K\n",
    "from tensorflow.keras.layers import Layer\n",
    "from tensorflow.keras import activations\n",
    "from tensorflow.keras import utils\n",
    "from tensorflow.keras.models import Model\n",
    "from tensorflow.keras.layers import *\n",
    "import numpy as np\n",
    "import keras\n",
    "from sklearn.metrics import roc_curve, auc\n",
    "from matplotlib import pyplot as plt\n",
    "\n",
    "summation1=0\n",
    "\n",
    "for i in range(len(x_test)):\n",
    "    if predict[i]==y_test[i]:\n",
    "        summation1=summation1+1\n",
    "print('accurate predictions: ',summation1) \n",
    "print('Total predictions to be made in testing :', len(x_test))     \n",
    "accuracy_before=summation1/len(x_test)\n",
    "\n",
    "\n",
    "\n",
    "summation1=0\n",
    "summation2=0\n",
    "summation3=0\n",
    "summation4=0\n",
    "\n",
    "for i in range(len(x_test)):\n",
    "    if predict[i]==y_test[i] and y_test[i]==0:\n",
    "        summation1=summation1+1\n",
    "        \n",
    "\n",
    "\n",
    "for i in range(len(x_test)):\n",
    "    if predict[i]==y_test[i] and y_test[i]==1:\n",
    "        summation2=summation2+1\n",
    "        \n",
    "\n",
    "\n",
    "for i in range(len(x_test)):\n",
    "    if predict[i]!=y_test[i] and y_test[i]==1:\n",
    "        summation3=summation3+1\n",
    "\n",
    "for i in range(len(x_test)):\n",
    "    if predict[i]!=y_test[i] and y_test[i]==0:\n",
    "        summation4=summation4+1\n",
    "\n",
    "specificity_before=summation1/np.count_nonzero(y_test==0)\n",
    "sensitivity_before=summation2/np.count_nonzero(y_test==1)\n",
    "precision_before=summation1/(summation1+summation3)\n",
    "newaccuracy=((summation1+summation2)/(summation1+summation2+summation3+summation4))\n",
    "f1_before=2*((sensitivity_before*precision_before)/(sensitivity_before + precision_before))\n",
    "\n",
    "print(\"TN: \",summation1,\", TP : \",summation2,\", FP:\",summation3, \", FN :\",summation4)\n",
    "print('accuracy : ',accuracy_before)\n",
    "print('specificity  : ',specificity_before)\n",
    "print('sensitivity or precision  : ',sensitivity_before)\n",
    "print('precision  : ', precision_before)\n",
    "print('f1-score  : ', f1_before)\n",
    "#print('newaccuracy : ',newaccuracy)\n",
    "\n",
    "\n"
   ]
  },
  {
   "cell_type": "code",
   "execution_count": 48,
   "metadata": {
    "colab": {
     "base_uri": "https://localhost:8080/",
     "height": 627
    },
    "colab_type": "code",
    "id": "HsFNCIy08dJ2",
    "outputId": "f935bca3-92c2-4502-f243-84207d161a2b"
   },
   "outputs": [
    {
     "name": "stdout",
     "output_type": "stream",
     "text": [
      "Performance of model with Pre-training.\n",
      "-----------------------------------------------------------------------------------------------\n",
      "                                                                                                \n",
      "Accuracy score: 0.94\n",
      "Precision score: 0.94\n",
      "Recall score: 0.94\n",
      "F1 score: 0.94\n",
      "[[144   6]\n",
      " [  6  44]]\n",
      "Plotting confusion matrix\n"
     ]
    },
    {
     "data": {
      "image/png": "[encoded data removed]",
      "text/plain": [
       "<Figure size 432x288 with 2 Axes>"
      ]
     },
     "metadata": {
      "needs_background": "light",
      "tags": []
     },
     "output_type": "display_data"
    },
    {
     "name": "stdout",
     "output_type": "stream",
     "text": [
      "              precision    recall  f1-score   support\n",
      "\n",
      "           0       0.96      0.96      0.96       150\n",
      "           1       0.88      0.88      0.88        50\n",
      "\n",
      "    accuracy                           0.94       200\n",
      "   macro avg       0.92      0.92      0.92       200\n",
      "weighted avg       0.94      0.94      0.94       200\n",
      "\n"
     ]
    }
   ],
   "source": [
    "from sklearn import metrics\n",
    "from sklearn.metrics import roc_curve, auc\n",
    "from sklearn.metrics import confusion_matrix, classification_report\n",
    "\n",
    "\n",
    "\n",
    "\n",
    "# Plot a confusion matrix.\n",
    "# cm is the confusion matrix, names are the names of the classes.\n",
    "def plot_confusion_matrix(cm, names, title='Confusion matrix', cmap=plt.cm.Blues):\n",
    "    plt.imshow(cm, interpolation='nearest', cmap=cmap)\n",
    "    plt.title(title)\n",
    "    plt.colorbar()\n",
    "    tick_marks = np.arange(len(names))\n",
    "    plt.xticks(tick_marks, names, rotation=45)\n",
    "    plt.yticks(tick_marks, names)\n",
    "    plt.tight_layout()\n",
    "    plt.ylabel('True label')\n",
    "    plt.xlabel('Predicted label')\n",
    "    \n",
    "\n",
    "# Plot an ROC. pred - the predictions, y - the expected output.\n",
    "def plot_roc(pred,y):\n",
    "    fpr, tpr, thresholds = roc_curve(y, pred)\n",
    "    roc_auc = auc(fpr, tpr)\n",
    "\n",
    "    plt.figure()\n",
    "    plt.plot(fpr, tpr, label='ROC curve (area = %0.2f)' % roc_auc)\n",
    "    plt.plot([0, 1], [0, 1], 'k--')\n",
    "    plt.xlim([0.0, 1.0])\n",
    "    plt.ylim([0.0, 1.05])\n",
    "    plt.xlabel('False Positive Rate')\n",
    "    plt.ylabel('True Positive Rate')\n",
    "    plt.title('Receiver Operating Characteristic (ROC)')\n",
    "    plt.legend(loc=\"lower right\")\n",
    "    plt.show()\n",
    "\n",
    "print('Performance of model with Pre-training.')\n",
    "print('-----------------------------------------------------------------------------------------------')\n",
    "print('                                                                                                ')\n",
    "pred=predict\n",
    "y_true= np.argmax(y_test,axis=1) \n",
    "\n",
    "score = metrics.accuracy_score(y_true, pred)\n",
    "\n",
    "print(\"Accuracy score: {}\".format(score))\n",
    "\n",
    "\n",
    "score = metrics.precision_score(y_true, pred, average= \"weighted\")\n",
    "print(\"Precision score: {}\".format(score))\n",
    "\n",
    "score = metrics.recall_score(y_true, pred, average= \"weighted\")\n",
    "print(\"Recall score: {}\".format(score))\n",
    "\n",
    "\n",
    "score = metrics.f1_score(y_true, pred, average= \"weighted\")\n",
    "print(\"F1 score: {}\".format(score))\n",
    "\n",
    "\n",
    "# Compute confusion matrix\n",
    "cm = confusion_matrix(y_true, pred)\n",
    "print(cm)\n",
    "\n",
    "\n",
    "print('Plotting confusion matrix')\n",
    "\n",
    "lab =['covid','non-covid']\n",
    "plt.figure()\n",
    "plot_confusion_matrix(cm, lab)\n",
    "plt.show()\n",
    "\n",
    "\n",
    "print(classification_report(y_true, pred))\n"
   ]
  },
  {
   "cell_type": "code",
   "execution_count": null,
   "metadata": {
    "colab": {},
    "colab_type": "code",
    "id": "TP80SlB-7kUg"
   },
   "outputs": [],
   "source": []
  }
 ],
 "metadata": {
  "accelerator": "GPU",
  "colab": {
   "machine_shape": "hm",
   "name": "Untitled1.ipynb",
   "provenance": []
  },
  "kernelspec": {
   "display_name": "Python 3",
   "language": "python",
   "name": "python3"
  },
  "language_info": {
   "codemirror_mode": {
    "name": "ipython",
    "version": 3
   },
   "file_extension": ".py",
   "mimetype": "text/x-python",
   "name": "python",
   "nbconvert_exporter": "python",
   "pygments_lexer": "ipython3",
   "version": "3.7.4"
  }
 },
 "nbformat": 4,
 "nbformat_minor": 4
}
