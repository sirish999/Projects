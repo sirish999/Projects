{
 "cells": [
  {
   "cell_type": "code",
   "execution_count": 32,
   "metadata": {},
   "outputs": [
    {
     "name": "stdout",
     "output_type": "stream",
     "text": [
      "b'/9j/4AAQSkZJRgABAQAAAQABAAD/2wBDAAgGBgcGBQgHBwcJCQgKDBQNDAsLDBkSEw8UHRofHh0aHBwgJC4nICIsIxwcKDcpLDAxNDQ0Hyc5PTgyPC4zNDL/2wBDAQkJCQwLDBgNDRgyIRwhMjIyMjIyMjIyMjIyMjIyMjIyMjIyMjIyMjIyMjIyMjIyMjIyMjIyMjIyMjIyMjIyMjL/wAARCAAsALcDASIAAhEBAxEB/8QAHwAAAQUBAQEBAQEAAAAAAAAAAAECAwQFBgcICQoL/8QAtRAAAgEDAwIEAwUFBAQAAAF9AQIDAAQRBRIhMUEGE1FhByJxFDKBkaEII0KxwRVS0fAkM2JyggkKFhcYGRolJicoKSo0NTY3ODk6Q0RFRkdISUpTVFVWV1hZWmNkZWZnaGlqc3R1dnd4eXqDhIWGh4iJipKTlJWWl5iZmqKjpKWmp6ipqrKztLW2t7i5usLDxMXGx8jJytLT1NXW19jZ2uHi4+Tl5ufo6erx8vP09fb3+Pn6/8QAHwEAAwEBAQEBAQEBAQAAAAAAAAECAwQFBgcICQoL/8QAtREAAgECBAQDBAcFBAQAAQJ3AAECAxEEBSExBhJBUQdhcRMiMoEIFEKRobHBCSMzUvAVYnLRChYkNOEl8RcYGRomJygpKjU2Nzg5OkNERUZHSElKU1RVVldYWVpjZGVmZ2hpanN0dXZ3eHl6goOEhYaHiImKkpOUlZaXmJmaoqOkpaanqKmqsrO0tba3uLm6wsPExcbHyMnK0tPU1dbX2Nna4uPk5ebn6Onq8vP09fb3+Pn6/9oADAMBAAIRAxEAPwD0cwXXjHXr6Ce+uLfSLNvL8i3fY0zerMOce1Wj8NvDyc2q3tpJ/wA9ILyQN+pNR6nb3fhjXZNcs4Wn065wL2FBloz/AHwP511VlfW2o2iXVpMk0LjKuhyK6JTnFJwehhGEW2pLU5c+E9esudK8YXwA6R30a3APsScGnDUfGmm8XmjWWqRDrJYz+W+P91+p+lddRUe1b+JJ/wBeRfs0vhbX9eZy8PjzSVkEOpxXmkzH+G+gKAn2bkfrXR291b3cQltp4poz0eNwwP4ilmghuYjFPEksbdUkUMD+BrmLv4f6Q0puNMkudIueokspSgz7r0/lR+7l5fiHvrz/AAOrorjBL4z8PkiaKHX7Jf44v3VwB/u9G/CtbRfFul63IYIpHt7xfv2lyvlyD8D1/Ck6TSutV5Aqibs9GbtFFFZmgUUUUAFFFFABRRRQAUUUUAFFFFABRRRQAUUUUAIQGBBAIPBB71yd74avdIu31Lws6Qux3TWEhxDN9P7prraKqM3HYmUVLc5/R/FlpqM5sryN9P1NfvWtxwT7qejD6V0FZ2r6Hp2uW/k39ssmPuP0dD6q3UVzv2fxT4YObRzrumL/AMsZWxcRj/Zb+Kr5Yz+HR9v+CTzSj8WqOzorF0XxVpeuExQTGK7X79rONkin6Hr+FbVZyi4uzLUlJXQVlax4c0vXUH223BlX7k8Z2yIfZhzWrRQpOLugaTVmcT/aOr+DZlj1eWTUtHZtqXu395B6BwOo967OGaO4hSaF1eNxuVlOQRRNDFcQvDMiyRuNrKwyCK5HwwzaLrl/4eeTdbxjz7Ysfuoeo+grV2mm+qM1eDt0Z10sqQxNLK6oijLMxwAK5+38feFrm5MEetW4kBx+83Iuf95gB+tZF1JJ431xrCFyNCs3H2h1PE7/AN3PpXWSaNpk1mtpLp9q9uo2rG0SlQPYYo5YRXv7/kHNKXw7FuKWOeNZIpFkjYZVkOQfoafXHzeA0spTceG9TutImPJiVt8LfVDTRr3inRPl1nQjqEA4+1aWdzEepjPP8qXs1L4Hf8A9o18S/U7KiuXtfiF4auH8uW/NnN3iu42iI+pIx+taP/CVeHf+g/pf/gZH/jUulNbplKpB7M16KyP+Eq8O/wDQf0v/AMDI/wDGnJ4n8PyOETXdMZmOAq3cZJP50uSXYfPHuSa1run+H7NLvUpmiheQRqVjZyWIJxhQewNYX/Cy/C45a8nUeptZcf8AoNddRTi4W95fj/wBSU76P8P+CczbfELwpdNtj1qBT/01Vo//AEICuht7mC7hWa2mjmibo8bhlP4io7rTrG+XbeWdvcD0miV/5iubufAVjFI1zoVzcaPd9QbZz5ZP+0h4IqrU33X4ivUXZ/gdbRXL6Nr2oRaq2ia/FEl4E3xXMXEc6jvz0PtRUSg4uzKjJSVzqKKKKkoKKKKAMjWfDWla6A15b4nX7lxEdkqfRhzWKbHxfoAzYXsWt2i/8sLz5JgPZ+h/GuxorSNRpWeqIdNN32Z5zqHxMvba7jsxoTWNwwwzalL5SA+xxyPfNaUV148vLf7Tay+GWTGVSNpX3f8AAgcV19xbQXcJhuYI5oj1SRAwP4Guan+HmgPMZrOO506Y/wAdjcNGfy5H6VtGdN6KNn95lKNRat3X3GFceLPH1pC3m+EY3kXq8O51P4KSf1rI8PWFz461u5vNd1M206L5b2FuGicp6NnnH51Lqkur6RP5Nv4i1VlztzLKjnH1K11vhTw9BBL/AG1Pe315fSLs33U24KPYACuiS9nBySSfl/wTCL9pNRbb9To7CwtdMs47SygWGCMYVFqzRRXmt31Z3pWCiiigDN1vQrDxBp72d/Fvjboy8Mp9Qa8/uvh7d6U2LfStM1yzHRJV+zzgf7y4B/GvUqK1p1pwVlsZzpRnq9zyP7P4Dtz5eueFNQ0mToTL5xT8GVufyrf0vSPhrIUlsf7MZgcqJLklgf8Adds/pXeEBgQQCDwQayLrwp4fvSWuNFsXY9W8hQx/EDNaOvzbtr5mfsbbJP5GrHLHMm+J1dT3U5FOZgqlmIAHUk1R0nRdO0O2e20y1W3heQyMikkFiAM8n0AqTUtNs9XsJbG/hE1tLjfGSRnBBHI56gVhpfyN9beZXufEeiWeftOr2MRHZrhQfyzmseX4gaVKxi0iG81e47JaQMRn3YgAVftvBvhu0x5Wh2OR0Lwhz+bZrZjijhjEcUaog6KowB+FXemujZFqj6pHI6dpGs6zra6zryJZxxIVtrKNtzKCOSzDv7UV2NFTKo5McYJH/9k='\n"
     ]
    }
   ],
   "source": [
    "#Author: @Sirish Prabakar\n",
    "#Project:Final Project- CSC 230\n",
    "\n",
    "import numpy as np\n",
    "import cv2\n",
    "\n",
    "from PIL import Image\n",
    "\n",
    "from io import BytesIO\n",
    "import base64\n",
    "\n",
    "# Convert Image to Base64 \n",
    "def im_2_b64(image):\n",
    "    image = cv2.cvtColor(image, cv2.COLOR_BGR2RGB)\n",
    "    image = Image.fromarray(image)\n",
    "    buff = BytesIO()\n",
    "    image.save(buff, format=\"JPEG\")\n",
    "    img_str = base64.b64encode(buff.getvalue())\n",
    "    return img_str\n",
    "\n",
    "# Convert Base64 to Image\n",
    "def b64_2_img(data):\n",
    "    buff = BytesIO(base64.b64decode(data))\n",
    "    img=Image.open(buff)\n",
    "    cv_image = cv2.cvtColor(np.asarray(img), cv2.COLOR_RGB2BGR)\n",
    "    return cv_image\n",
    "\n",
    "#trial base 64 inputs: input64 for blue sign, this is for testing only, actualy base 64 values should be directly inserted into this program from the calling function\n",
    "input64=b'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'\n",
    "#bg and input64 are inputs to this whole program\n",
    "#----------------------------------------------------------------------------------\n",
    "image = b64_2_img(input64)\n",
    "#----------------------------------------------------------------------------------\n",
    "\n",
    "\n",
    "\n",
    "import numpy as np\n",
    "import cv2\n",
    "result = image.copy()\n",
    "image = cv2.cvtColor(image, cv2.COLOR_BGR2HSV)\n",
    "lower = np.array([0, 0, 0])\n",
    "upper = np.array([255, 255, 245])\n",
    "mask = cv2.inRange(image, lower, upper)\n",
    "\n",
    "kernel = cv2.getStructuringElement(cv2.MORPH_RECT, (3,3))\n",
    "opening = cv2.morphologyEx(mask, cv2.MORPH_OPEN, kernel, iterations=1)\n",
    "close = cv2.morphologyEx(opening, cv2.MORPH_CLOSE, kernel, iterations=2)\n",
    "\n",
    "cnts = cv2.findContours(close, cv2.RETR_EXTERNAL, cv2.CHAIN_APPROX_SIMPLE)\n",
    "cnts = cnts[0] if len(cnts) == 2 else cnts[1]\n",
    "\n",
    "boxes = []\n",
    "for c in cnts:\n",
    "    (x, y, w, h) = cv2.boundingRect(c)\n",
    "    boxes.append([x,y, x+w,y+h])\n",
    "\n",
    "boxes = np.asarray(boxes)\n",
    "left = np.min(boxes[:,0])\n",
    "top = np.min(boxes[:,1])\n",
    "right = np.max(boxes[:,2])\n",
    "bottom = np.max(boxes[:,3])\n",
    "\n",
    "result[close==0] = (255,255,255)\n",
    "ROI = result[top:bottom, left:right].copy()\n",
    "cv2.rectangle(result, (left,top), (right,bottom), (36, 255, 12), 2)\n",
    "\n",
    "#result= cv2.resize(result,None,fx=0.3,fy=0.3)\n",
    "#close = cv2.resize(close,None,fx=0.3,fy=0.3)\n",
    "#ROI = cv2.resize(ROI,None,fx=0.3,fy=0.3)\n",
    "#cv2.imshow('result', result)\n",
    "cv2.imshow('ROI', ROI)\n",
    "#cv2.imshow('close', close)\n",
    "#cv2.imwrite('result.png', result)\n",
    "#cv2.imwrite('ROI.png', ROI)\n",
    "\n",
    "cv2.waitKey(0)\n",
    "cv2.destroyAllWindows()\n",
    "\n",
    "#----------------------------------------------------------------------------------\n",
    "final_64=im_2_b64(ROI)\n",
    "print(final_64)\n",
    "#return final_64\n",
    "#----------------------------------------------------------------------------------"
   ]
  },
  {
   "cell_type": "code",
   "execution_count": null,
   "metadata": {},
   "outputs": [],
   "source": []
  },
  {
   "cell_type": "code",
   "execution_count": null,
   "metadata": {},
   "outputs": [],
   "source": []
  }
 ],
 "metadata": {
  "kernelspec": {
   "display_name": "Python 3",
   "language": "python",
   "name": "python3"
  },
  "language_info": {
   "codemirror_mode": {
    "name": "ipython",
    "version": 3
   },
   "file_extension": ".py",
   "mimetype": "text/x-python",
   "name": "python",
   "nbconvert_exporter": "python",
   "pygments_lexer": "ipython3",
   "version": "3.7.4"
  }
 },
 "nbformat": 4,
 "nbformat_minor": 2
}
